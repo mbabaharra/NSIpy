{
 "cells": [
  {
   "cell_type": "code",
   "execution_count": 1,
   "metadata": {},
   "outputs": [
    {
     "data": {
      "application/javascript": [
       "function colorCells() { for (let cell of Jupyter.notebook.get_cells()) if (cell.metadata.tags && cell.metadata.tags.indexOf('nsi_enonce') >= 0) cell.element.css('background', '#DDDDFF'); } if (Jupyter.notebook.kernel) colorCells(); else Jupyter.notebook.events.one('kernel_ready.Kernel', (e) => colorCells())\n"
      ],
      "text/plain": [
       "<IPython.core.display.Javascript object>"
      ]
     },
     "metadata": {},
     "output_type": "display_data"
    }
   ],
   "source": [
    "%%js # Exécuter cette cellule pour colorer les énoncés s'ils ne le sont pas déjà\n",
    "function colorCells() { for (let cell of Jupyter.notebook.get_cells()) if (cell.metadata.tags && cell.metadata.tags.indexOf('nsi_enonce') >= 0) cell.element.css('background', '#DDDDFF'); } if (Jupyter.notebook.kernel) colorCells(); else Jupyter.notebook.events.one('kernel_ready.Kernel', (e) => colorCells())"
   ]
  },
  {
   "cell_type": "markdown",
   "metadata": {
    "tags": [
     "nsi_enonce",
     "nsi_ex43"
    ]
   },
   "source": [
    "### Exercice 43\n",
    "\n",
    "Est-ce que les deux programmes suivants sont équivalents ?"
   ]
  },
  {
   "cell_type": "code",
   "execution_count": 23,
   "metadata": {
    "tags": [
     "nsi_enonce",
     "nsi_ex43"
    ]
   },
   "outputs": [
    {
     "name": "stdout",
     "output_type": "stream",
     "text": [
      "0\n",
      "1\n",
      "2\n",
      "3\n",
      "4\n",
      "5\n",
      "6\n",
      "7\n",
      "8\n",
      "9\n"
     ]
    }
   ],
   "source": [
    "for i in range(10):\n",
    "    print(i)"
   ]
  },
  {
   "cell_type": "code",
   "execution_count": 24,
   "metadata": {
    "tags": [
     "nsi_enonce",
     "nsi_ex43"
    ]
   },
   "outputs": [
    {
     "name": "stdout",
     "output_type": "stream",
     "text": [
      "0\n",
      "1\n",
      "2\n",
      "3\n",
      "4\n",
      "5\n",
      "6\n",
      "7\n",
      "8\n",
      "9\n"
     ]
    }
   ],
   "source": [
    "i = 0\n",
    "while i < 10:\n",
    "    print(i)\n",
    "    i = i + 1"
   ]
  },
  {
   "cell_type": "markdown",
   "metadata": {},
   "source": [
    "Oui, **les deux programmes sont équivalents** : les deux contiennent une boucle de 10 itérations opérant sur une variable `i`, affichée à chaque tour, débutant à 0, et augmentant de 1 à chaque itération."
   ]
  },
  {
   "cell_type": "markdown",
   "metadata": {
    "tags": [
     "nsi_enonce",
     "nsi_ex43"
    ]
   },
   "source": [
    "Est-ce toujours le cas si l’on insère l’instruction `i = i * 2` avant `print(i)` ?"
   ]
  },
  {
   "cell_type": "code",
   "execution_count": 25,
   "metadata": {
    "tags": [
     "nsi_solution",
     "nsi_ex43"
    ]
   },
   "outputs": [
    {
     "name": "stdout",
     "output_type": "stream",
     "text": [
      "0\n",
      "2\n",
      "4\n",
      "6\n",
      "8\n",
      "10\n",
      "12\n",
      "14\n",
      "16\n",
      "18\n"
     ]
    }
   ],
   "source": [
    "for i in range(10):\n",
    "    i = i * 2\n",
    "    print(i)\n",
    "    \n",
    "# Affiche 0, 2, et les 8 multiples de deux suivants (4, 6, 8...)."
   ]
  },
  {
   "cell_type": "code",
   "execution_count": 26,
   "metadata": {},
   "outputs": [
    {
     "name": "stdout",
     "output_type": "stream",
     "text": [
      "0\n",
      "2\n",
      "6\n",
      "14\n"
     ]
    }
   ],
   "source": [
    "i = 0\n",
    "while i < 10:\n",
    "    i = i * 2\n",
    "    print(i)\n",
    "    i = i + 1\n",
    "    \n",
    "# Affiche 0, 2, 6, 14."
   ]
  },
  {
   "cell_type": "markdown",
   "metadata": {},
   "source": [
    "Lorsqu'on insère `i = i * 2` avant `print(i)`, les deux programmes ne sont plus équivalents : on peut l'observer en évaluant les deux morceaux de code ci-dessus, qui affichent deux suites de nombres différentes.\n",
    "\n",
    "\n",
    "**Dans le premier cas (boucle `for`), le nombre d'itérations ne varie pas, et les valeurs affichées sont doublées.**\n",
    "\n",
    "Cela vient du fait que l'expression `range(10)` n'est pas affectée par le fait que l'on modifie la variable `i` dans le corps de la boucle.\n",
    "Au début de la n-ième itération, la variable `i` prend toujours la valeur `n`, peu importe la façon dont cette variable a été modifiée lors de l'itération précédente.\n",
    "Pour cette raison, la boucle produit autant de valeurs que précédemment, et celles-ci sont simplement doublées par l'instruction `i = i * 2` avant d'être affichées.\n",
    "\n",
    "\n",
    "**Dans le second cas (boucle `while`), le nombre d'itérations passe de 10 à 4, et la relation entre les valeurs affichées est moins évidente.**\n",
    "\n",
    "Cela vient du fait que la condition d'arrêt de la boucle (`i < 10`) dépend de la valeur de `i`,\n",
    "qui n'est pas \"réinitialisée\" à n au début de la n-ième itération.\n",
    "\n",
    "À chaque itération, la valeur de `i` est doublée, affichée, puis incrémentée de 1.\n",
    "C'est cela qui définit la relation moins évidente entre les valeurs affichées :\n",
    "\n",
    "```\n",
    "(itération 1)  0      * 2       = 0\n",
    "(itération 2) (0 + 1) * 2 = 1*2 = 2\n",
    "(itération 3) (2 + 1) * 2 = 3*2 = 6\n",
    "(itération 4) (6 + 1) * 2 = 7*2 = 14\n",
    "```\n",
    "\n",
    "La valeur de `i` augmente ainsi plus rapidement et dépasse 10 lors de la quatrième itération :\n",
    "la condition d'arrêt devient donc vraie, et la boucle se termine avant le cinquième itération, après n'avoir affiché que 4 valeurs."
   ]
  },
  {
   "cell_type": "code",
   "execution_count": 4,
   "metadata": {},
   "outputs": [
    {
     "data": {
      "text/plain": [
       "100000.0"
      ]
     },
     "execution_count": 4,
     "metadata": {},
     "output_type": "execute_result"
    }
   ],
   "source": [
    "1E5"
   ]
  },
  {
   "cell_type": "code",
   "execution_count": null,
   "metadata": {},
   "outputs": [],
   "source": []
  }
 ],
 "metadata": {
  "kernelspec": {
   "display_name": "Python 3",
   "language": "python",
   "name": "python3"
  },
  "language_info": {
   "codemirror_mode": {
    "name": "ipython",
    "version": 3
   },
   "file_extension": ".py",
   "mimetype": "text/x-python",
   "name": "python",
   "nbconvert_exporter": "python",
   "pygments_lexer": "ipython3",
   "version": "3.8.8"
  }
 },
 "nbformat": 4,
 "nbformat_minor": 4
}

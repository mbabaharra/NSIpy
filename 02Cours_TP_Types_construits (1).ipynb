{
 "cells": [
  {
   "cell_type": "markdown",
   "metadata": {},
   "source": [
    "# Les séquences en Python"
   ]
  },
  {
   "cell_type": "markdown",
   "metadata": {},
   "source": [
    "Quand le nombre de données est important ou s'il est intéressant d'en regrouper certaines, comme pour les coordonnées d'un point par exemple, alors nous avons besoin de définir des variables correspondant à des ensembles de valeurs appelées séquences. \n",
    "#### Définition\n",
    "une séquence de n élémets est un ensemble fini et ordonné d'éléments indicés de 0 à n-1."
   ]
  },
  {
   "cell_type": "markdown",
   "metadata": {},
   "source": [
    "# I. Les tableaux\n",
    "## 1.  Listes\n",
    "###  a) Comment créer une liste\n",
    "    • Une liste est une collection ordonnée d’objets repérés par leur indice(une liste indexée) : \n",
    "    • Pour créer une liste, rien de plus simple : \n",
    "        - lui attribuant un nom \n",
    "        - mettre les éléments de la liste entre crochets.\n",
    "Syntaxe : une liste de taille n  \n",
    "                              NomListe=[élément_1,élément_2,…,élément_n]"
   ]
  },
  {
   "cell_type": "code",
   "execution_count": null,
   "metadata": {},
   "outputs": [],
   "source": [
    "liste1=[]    # Je crée une liste vide\n",
    "print(liste1)    # J'affiche la liste\n",
    "print(len(liste1))    # J'affiche la taille de la liste ( len=lenght=longueur )"
   ]
  },
  {
   "cell_type": "code",
   "execution_count": null,
   "metadata": {},
   "outputs": [],
   "source": [
    "mes_notes=[13.75,17,8,16.5,9,11,15]  # mes_notes est une liste numérique."
   ]
  },
  {
   "cell_type": "code",
   "execution_count": null,
   "metadata": {},
   "outputs": [],
   "source": [
    "mes_amis=['Tom','Fanny','Victor','Ysa'] # mes_amis une liste de texte\n",
    "print(mes_amis)"
   ]
  },
  {
   "cell_type": "code",
   "execution_count": null,
   "metadata": {},
   "outputs": [],
   "source": [
    "calepin=['Tom',3112001,'Fanny',15082000,'Victor',13091999,'Ysa',1122002,',23*11+1'] # un petit mélange "
   ]
  },
  {
   "cell_type": "code",
   "execution_count": null,
   "metadata": {},
   "outputs": [],
   "source": [
    "liste2listes=[[1,2],[3,4,5],[6,7,8,9]] # Une liste de trois listes"
   ]
  },
  {
   "cell_type": "raw",
   "metadata": {},
   "source": [
    "Remarque.   \n",
    "Vous avez déjà rencontrer la fonction python « range() »  qui génère une << liste >> ordonnée d’entiers :"
   ]
  },
  {
   "cell_type": "code",
   "execution_count": null,
   "metadata": {},
   "outputs": [],
   "source": [
    "a=range(7)\n",
    "print(a)"
   ]
  },
  {
   "cell_type": "code",
   "execution_count": null,
   "metadata": {},
   "outputs": [],
   "source": [
    "for i in range(5):\n",
    "      print(i)\n",
    "  "
   ]
  },
  {
   "cell_type": "code",
   "execution_count": null,
   "metadata": {},
   "outputs": [],
   "source": [
    "for i in range(3,9):\n",
    "    print(i)"
   ]
  },
  {
   "cell_type": "code",
   "execution_count": null,
   "metadata": {},
   "outputs": [],
   "source": [
    "for i in range(1,19,3):\n",
    "    print(i)"
   ]
  },
  {
   "cell_type": "raw",
   "metadata": {},
   "source": [
    "Que remarquez vous de ces 4 exemples ci-dessus."
   ]
  },
  {
   "cell_type": "markdown",
   "metadata": {},
   "source": [
    "#### Question: \n",
    "Utiliser la fonction range() pour afficher les multiples de 7 entre 11 et 154"
   ]
  },
  {
   "cell_type": "markdown",
   "metadata": {},
   "source": [
    "L'instruction list() :\n",
    " En utilisant l'instruction liste()On peut transformer le résultat d'une range() en liste : "
   ]
  },
  {
   "cell_type": "code",
   "execution_count": null,
   "metadata": {},
   "outputs": [],
   "source": [
    "a=range(7)\n",
    "b=list(a)\n",
    "print(\"b=\",b)"
   ]
  },
  {
   "cell_type": "raw",
   "metadata": {},
   "source": [
    "Question : Convertir en liste range(3,9) et range(3,13,3)"
   ]
  },
  {
   "cell_type": "code",
   "execution_count": null,
   "metadata": {},
   "outputs": [],
   "source": []
  },
  {
   "cell_type": "raw",
   "metadata": {},
   "source": [
    "Accéder à un élément ou une partie de la liste:\n",
    "Que font les instruction suivante. Ecrire la réponse après #: "
   ]
  },
  {
   "cell_type": "code",
   "execution_count": null,
   "metadata": {},
   "outputs": [],
   "source": [
    "mes_notes[1]     #"
   ]
  },
  {
   "cell_type": "code",
   "execution_count": null,
   "metadata": {},
   "outputs": [],
   "source": [
    "mes_notes[-1]    #"
   ]
  },
  {
   "cell_type": "code",
   "execution_count": null,
   "metadata": {},
   "outputs": [],
   "source": [
    "mes_notes[7]     #"
   ]
  },
  {
   "cell_type": "code",
   "execution_count": null,
   "metadata": {},
   "outputs": [],
   "source": [
    "mes_notes[2:]    #"
   ]
  },
  {
   "cell_type": "code",
   "execution_count": null,
   "metadata": {},
   "outputs": [],
   "source": [
    "mes_notes[:5]    #"
   ]
  },
  {
   "cell_type": "code",
   "execution_count": null,
   "metadata": {},
   "outputs": [],
   "source": [
    "mes_notes[2:5]   #"
   ]
  },
  {
   "cell_type": "code",
   "execution_count": null,
   "metadata": {},
   "outputs": [],
   "source": [
    "liste2listes[1]"
   ]
  },
  {
   "cell_type": "markdown",
   "metadata": {},
   "source": [
    "## 2. Quelques Opérations sur les listes (voir page 386 manuel de maths)\n",
    "1. Ordonner une liste : \n",
    "On peut  ordonner une liste de nombres dans l’ordre croissant par les fonction sort() ou sorted(). "
   ]
  },
  {
   "cell_type": "code",
   "execution_count": null,
   "metadata": {},
   "outputs": [],
   "source": [
    "mes_notes.sort()\n",
    "print(mes_notes)"
   ]
  },
  {
   "cell_type": "code",
   "execution_count": null,
   "metadata": {},
   "outputs": [],
   "source": [
    "sorted(mes_notes)\n",
    "print(mes_notes)"
   ]
  },
  {
   "cell_type": "markdown",
   "metadata": {},
   "source": [
    "2. Ajouter un élèment à une liste.\n",
    "On utilise l'instruction append() peut ajouter un élèment à une liste, dans le sens de la agrandir.\n",
    "\n",
    "    liste2 = [19, 17, 16, 19,21]\n",
    "    liste2.append(9)\n",
    "\n",
    "Ajouter une nouvelle note de 17.5 à la liste des notes mes_notes vue ci-dessus."
   ]
  },
  {
   "cell_type": "code",
   "execution_count": null,
   "metadata": {},
   "outputs": [],
   "source": []
  },
  {
   "cell_type": "markdown",
   "metadata": {},
   "source": [
    "3. la méthode reverse inverse l'ordre des éléments d'une liste."
   ]
  },
  {
   "cell_type": "code",
   "execution_count": null,
   "metadata": {},
   "outputs": [],
   "source": [
    "print(mes_notes)\n",
    "mes_notes.reverse()\n",
    "print(mes_notes)"
   ]
  },
  {
   "cell_type": "markdown",
   "metadata": {},
   "source": [
    "4. supprimer un élément.\n",
    "Plusieurs méthodes permettent de supprimer un élément. Soit on connaît l'élément à suppra et on utilise la méthode remove, soit on connaît son indice et on souhaite récupérer sa valeur utilise alors la méthode pop."
   ]
  },
  {
   "cell_type": "code",
   "execution_count": null,
   "metadata": {},
   "outputs": [],
   "source": [
    "liste = [1, 2, 1, 2, 1, 2]\n",
    "liste.remove (2)\n",
    "liste"
   ]
  },
  {
   "cell_type": "code",
   "execution_count": null,
   "metadata": {},
   "outputs": [],
   "source": [
    "liste = [1, 2, 1, 2, 1, 2]\n",
    "a = liste.pop(3)\n",
    "print(a)\n",
    "print(liste)"
   ]
  },
  {
   "cell_type": "markdown",
   "metadata": {},
   "source": [
    "##  3. Construction par compréhension\n",
    "La construction par compréhension est un procédé très utile pour la construction d'une liste.\n",
    "De manière générale, l'instruction s'écrit : \n",
    "``` \n",
    "[expression(i) for i in objet]\n",
    "``` \n",
    "où `expression(i)` : est une expression dépendant de i et objet : est un objet sur lequel on peut itérer (une liste ).\n",
    "#### Exemple\n",
    "Le code suivant crée une liste pairs à partir d'une liste de nombres\n",
    "```\n",
    "nombres = [5, 11, 3, 17, 15]  # l'objet ici une liste de taille 5\n",
    "doubles=[2*n for n in nombres]  # L'expression ici est 2*n \n",
    "```"
   ]
  },
  {
   "cell_type": "code",
   "execution_count": null,
   "metadata": {},
   "outputs": [],
   "source": []
  },
  {
   "cell_type": "markdown",
   "metadata": {},
   "source": [
    "Application. Soit f  une fonction  qui s'applique au type des éléments d'une liste liste1, on\n",
    "pent construire la liste liste2 des images de chaque élément de liste1 avec le code suivant:\n",
    "```\n",
    "def f(x):\n",
    "    return ......\n",
    "liste1= ......  \n",
    "liste2 = [f(x) for x in liste1]\n",
    "```"
   ]
  },
  {
   "cell_type": "code",
   "execution_count": null,
   "metadata": {},
   "outputs": [],
   "source": [
    "def f(x):                 # Dans cet exemple f(x)=x²+1 \n",
    "    return x**2+1     \n",
    "liste1=list(range(-5,6))\n",
    "liste2=[f(x) for x in liste1]\n",
    "liste2"
   ]
  },
  {
   "cell_type": "code",
   "execution_count": null,
   "metadata": {},
   "outputs": [],
   "source": []
  },
  {
   "cell_type": "markdown",
   "metadata": {},
   "source": [
    "# II. CHAÎNE DE CARACTÈRES \n",
    "Une chaîne de caractères est une liste particulière avec des méthodes associées.\n",
    "On utilise des guillemets pour délimiter une chaîne. Par exemple : \n",
    "``` \n",
    "txt=\"Vive le numérique\" \n",
    "type(txt)\n",
    "```\n",
    "Mécanismes identiques aux listes et au tuples\n",
    "```\n",
    "txt=\"Vive le numérique\"\n",
    "print(txt)\n",
    "long=len(txt)\n",
    "print(\" la taille de txt :\",long)\n",
    "ext=txt[:4]\n",
    "```\n",
    "- Définir une variable de type string.\n",
    "- Tester les mécanismes ci dessus.\n"
   ]
  },
  {
   "cell_type": "code",
   "execution_count": null,
   "metadata": {},
   "outputs": [],
   "source": [
    "txt=\"dd\"\n",
    "type(txt)"
   ]
  },
  {
   "cell_type": "code",
   "execution_count": null,
   "metadata": {},
   "outputs": [],
   "source": [
    "txt=\"vive le numérique\"\n",
    "print(txt)\n",
    "long=len(txt)\n",
    "print(\" la taille de txt :\",long)\n",
    "ext=txt[:4]\n",
    "print(ext)"
   ]
  },
  {
   "cell_type": "code",
   "execution_count": null,
   "metadata": {},
   "outputs": [],
   "source": []
  },
  {
   "cell_type": "markdown",
   "metadata": {},
   "source": [
    "```\n",
    "txt=\"vive le numérique\"\n",
    "txt[0]=\"V\"\n",
    "```\n",
    "la dernière affectation provoque l'erreure suivante :\n",
    "```\n",
    "--------------------------\n",
    "TypeErrorTraceback (most recent call last)\n",
    "<ipython-input-10-83985dced83b> in <module>\n",
    "----> 1 txt[0]=\"V\"\n",
    "\n",
    "TypeError: 'str' object does not support item assignment\n",
    "```\n",
    "#### TRADUCTION DE L'ERREUR : \n",
    "- Une chaîne n’est pas modifiable. "
   ]
  },
  {
   "cell_type": "code",
   "execution_count": null,
   "metadata": {},
   "outputs": [],
   "source": [
    "txt[0]=\"V\""
   ]
  },
  {
   "cell_type": "markdown",
   "metadata": {},
   "source": [
    "\n",
    "###  Remarque. \n",
    "Pour modifier une chaine de caractère, on peut utiliser la méthode  replace(old,new,nombre) en mettant\n",
    "le résultat de replace  dans une autre chaîne.\n",
    "#### Exemple à tester : \n",
    "```\n",
    "txt_modif=txt.replace(\"e\",\"E\",3)\n",
    "print(txt_modif)\n",
    "```\n",
    "Question. Que vaut la la variable txt ? "
   ]
  },
  {
   "cell_type": "code",
   "execution_count": null,
   "metadata": {},
   "outputs": [],
   "source": []
  },
  {
   "cell_type": "markdown",
   "metadata": {},
   "source": [
    "### Quelques méthodes pour manipuler les chaînes de caractères \n",
    "- Mettre en majuscute méthodes associées\n",
    "```\n",
    "Txt = txt.upper()\n",
    "print(Txt)\n",
    "```\n",
    "- recherche d'une sous-chaîne\n",
    "```\n",
    "id = Txt.find(\"NU\") # \n",
    "print(id)\n",
    "```\n",
    "- Nombre d'occurences\n",
    "```\n",
    "nb = Txt.count(\"E\")\n",
    "print(nb)\n",
    "```\n",
    "- remplacement de « O » par « A »\n",
    "```\n",
    "Txt_modif = Txt.replace(\"E\",\"A\")\n",
    "print(Txt_modif)\n",
    "```\n",
    "A faire.\n",
    "Tester ces exemples."
   ]
  },
  {
   "cell_type": "code",
   "execution_count": null,
   "metadata": {},
   "outputs": [],
   "source": [
    "#former une chaîne à\n",
    "#partir d’une liste\n",
    "SB = \"\\n\".join(decoupe)\n",
    "print(SB)"
   ]
  },
  {
   "cell_type": "markdown",
   "metadata": {},
   "source": [
    "### Transformation explicite en liste (pour traitements).\n",
    "On peut transformer une chaîne en liste pour réaliser des traitements sophistiqués. \n",
    "- transformation en liste\n",
    "```\n",
    "Txt=\"VIVE LE NUMÉRIQUE\"\n",
    "Txt_liste = list(Txt)\n",
    "print(Txt_liste)\n",
    "```\n",
    "-  par séparateur\n",
    "```\n",
    "decoupe = Txt.split(\" \")\n",
    "print(decoupe)\n",
    "```\n",
    "- former une chaîne à #partir d’une liste\n",
    "Dans l'exemple suivant, les mots de la liste seront fusionnés avec le séparateur \"-\". Tout séparateur est possible, y\n",
    "compris la chaîne vide.\n",
    "```\n",
    "regroupe = \"-\".join(decoupe)\n",
    "print(regroupe)\n",
    "```\n",
    "A faire. \n",
    "- Tester ces exemples.\n",
    "- Tester le dernier exemple avec les séparateurs \"\\t\" et \"\\n\"\n",
    "\n"
   ]
  },
  {
   "cell_type": "code",
   "execution_count": null,
   "metadata": {},
   "outputs": [],
   "source": []
  },
  {
   "cell_type": "markdown",
   "metadata": {},
   "source": [
    "### Exercice.\n",
    "On donne le programme ci-dessous\n",
    "```\n",
    "def compter(texte, lettre):\n",
    "    total_texte = 0 # Pour compter le nombre de caractères\n",
    "    total_lettre = 0 # Pour compter le nombre de lettre\n",
    "    for l in texte: # On parcoure le texte\n",
    "        if l !=\" \":\n",
    "            total_texte=total_texte+1\n",
    "        if l==lettre:\n",
    "            total_lettre=total_lettre+1\n",
    "    print(total_texte,total_lettre)\n",
    "```\n",
    "- Que fait ce programme.\n",
    "- Modifier ce programme pour qu'il demande à l'utilaseur de saisir son nom et son prénom et de calculer le nombre d'une lettre de son choix."
   ]
  },
  {
   "cell_type": "code",
   "execution_count": null,
   "metadata": {},
   "outputs": [],
   "source": []
  },
  {
   "attachments": {
    "Bachman_text.png": {
     "image/png": "[encoded data removed]"
    }
   },
   "cell_type": "markdown",
   "metadata": {},
   "source": [
    "## II. Les tuples\n",
    "\n",
    "###  1. Définition. \n",
    "- Un tuple (ou p-uplet) est une suite ordonnée d'éléments. Chacun de ces éléments peut être de n'importe quel type.\n",
    "\n",
    "![Bachman_text.png](attachment:Bachman_text.png)\n",
    "\n",
    "### 1. Création d'un tuple\n",
    "Un tuple est une collection d'éléments séparés par une virgule.   \n",
    "Exemple. "
   ]
  },
  {
   "cell_type": "code",
   "execution_count": 62,
   "metadata": {},
   "outputs": [],
   "source": [
    "t=(2,3,5,'bonjour',3.14)\n"
   ]
  },
  {
   "cell_type": "markdown",
   "metadata": {},
   "source": [
    "=> Pour afficher le type de prem et sa longueur, on utilise :\n",
    "       - type(t)\n",
    "       - len(t)\n",
    "#### Questions\n",
    "1. Tester ces deux instructions dans la cellule ci-dessous,\n",
    "2. Qu'ffichent-elles ?"
   ]
  },
  {
   "cell_type": "code",
   "execution_count": null,
   "metadata": {},
   "outputs": [],
   "source": []
  },
  {
   "cell_type": "code",
   "execution_count": null,
   "metadata": {},
   "outputs": [],
   "source": []
  },
  {
   "cell_type": "markdown",
   "metadata": {},
   "source": [
    "Remarque :\n",
    "- On peut utiliser les tuples sans les parenthèses : t = 2,3,5,'bonjour',3.14\n",
    "- Les parenthèses améliore la Afficher le type et la laille de la variable nouv_nbp"
   ]
  },
  {
   "cell_type": "code",
   "execution_count": null,
   "metadata": {},
   "outputs": [],
   "source": []
  },
  {
   "cell_type": "markdown",
   "metadata": {},
   "source": [
    "#### Question \n",
    "Créer un tuple nommé lundi et contenant 2 éléments : le nom du jour et le nombre d'heures de cours de cette journée."
   ]
  },
  {
   "cell_type": "code",
   "execution_count": null,
   "metadata": {},
   "outputs": [],
   "source": []
  },
  {
   "cell_type": "markdown",
   "metadata": {},
   "source": [
    "Un tuple peut aussi être composé de tuples, par exemple : \n",
    "\n",
    "tel = (('moi',605040302),('lycée',556807640),('urgence',15,17))\n",
    "#### Question.\n",
    "Créer un tuple de tuples nommé semaine et indiquant, pour chaque jour de la semaine, le nombre d'heures de cours."
   ]
  },
  {
   "cell_type": "markdown",
   "metadata": {},
   "source": [
    "## 2. Propriétés d'un tuple"
   ]
  },
  {
   "attachments": {
    "tup_immuable.PNG": {
     "image/png": "[encoded data removed]"
    }
   },
   "cell_type": "markdown",
   "metadata": {},
   "source": [
    "Un tuple est non modifiable ( (on dit  non-mutable ou encore immuable).  C'est à dire que on ne peut ni modifier, ni supprimer, ni ajouter un nouvel élément.\n",
    "\n",
    "Exemple![tup_immuable.PNG](attachment:tup_immuable.PNG)\n",
    "\n",
    "\n"
   ]
  },
  {
   "cell_type": "code",
   "execution_count": 15,
   "metadata": {},
   "outputs": [
    {
     "ename": "IndexError",
     "evalue": "tuple index out of range",
     "output_type": "error",
     "traceback": [
      "\u001b[1;31m---------------------------------------------------------------------------\u001b[0m",
      "\u001b[1;31mIndexError\u001b[0m                                Traceback (most recent call last)",
      "\u001b[1;32m<ipython-input-15-167519d2a20f>\u001b[0m in \u001b[0;36m<module>\u001b[1;34m()\u001b[0m\n\u001b[0;32m      1\u001b[0m \u001b[0mt\u001b[0m\u001b[1;33m=\u001b[0m\u001b[1;33m(\u001b[0m\u001b[1;33m)\u001b[0m\u001b[1;33m\u001b[0m\u001b[0m\n\u001b[1;32m----> 2\u001b[1;33m \u001b[0mt\u001b[0m\u001b[1;33m[\u001b[0m\u001b[1;36m0\u001b[0m\u001b[1;33m]\u001b[0m\u001b[1;33m\u001b[0m\u001b[0m\n\u001b[0m",
      "\u001b[1;31mIndexError\u001b[0m: tuple index out of range"
     ]
    }
   ],
   "source": [
    "t=()\n",
    "t[0]"
   ]
  },
  {
   "cell_type": "markdown",
   "metadata": {},
   "source": [
    "## 3. Indexation des éléments d'un tuple\n",
    "Si un tuple est non-vide, ses n éléments sont indexés par les entiers 0, 1, 2,..., n - 1. On accède à chacun de ses éléments en utilisant des crochets et l'indice de l'élément :           nom_tuple[indice_element]."
   ]
  },
  {
   "cell_type": "markdown",
   "metadata": {},
   "source": [
    "Attention\n",
    "Les indices commencent à 0. L'oublie de cette régle est une source d'erreur \"classique\""
   ]
  },
  {
   "cell_type": "markdown",
   "metadata": {},
   "source": [
    "### a) Indexation d'un tuple simple\n",
    "Exemple  t=(2,3,5,'bonjour',3.14) Dans cet exemple, la variable \"t\" référence un tuple, ce tuple est constitué de cinq entiers premiers : 2, 3, 5, 7 et 'bonjour'. Comme indiqué dans la définition, chaque élément du tuple possède un indice : \n",
    "    . le premier élément du tuple (l'entier 2) possède l'indice 0\n",
    "    . le deuxième élément du tuple (l'entier 3) possède l'indice 1\n",
    "    . le troisième élément du tuple (l'entier 5) possède l'indice 2\n",
    "    . ......\n",
    "    \n",
    "    Question : \n",
    "    - Afficher le 4ème élément de t\n",
    "    - Quelle est l'indice du dernier élément (on peut donner trois méthodes)"
   ]
  },
  {
   "cell_type": "code",
   "execution_count": null,
   "metadata": {},
   "outputs": [],
   "source": []
  },
  {
   "attachments": {
    "tup_emb.PNG": {
     "image/png": "[encoded data removed]"
    }
   },
   "cell_type": "markdown",
   "metadata": {},
   "source": [
    "### b) Indexation d'un tuple emboîté\n",
    "Exemple à tester !\n",
    "![tup_emb.PNG](attachment:tup_emb.PNG)"
   ]
  },
  {
   "cell_type": "code",
   "execution_count": 34,
   "metadata": {},
   "outputs": [
    {
     "data": {
      "text/plain": [
       "('lycée', 556807640)"
      ]
     },
     "execution_count": 34,
     "metadata": {},
     "output_type": "execute_result"
    }
   ],
   "source": [
    " tel = (('moi',605040302),('lycée',556807640),('urgence',15,17))\n",
    "tel[1]\n"
   ]
  },
  {
   "cell_type": "code",
   "execution_count": 35,
   "metadata": {},
   "outputs": [
    {
     "data": {
      "text/plain": [
       "'lycée'"
      ]
     },
     "execution_count": 35,
     "metadata": {},
     "output_type": "execute_result"
    }
   ],
   "source": [
    "tel[1][0]\n"
   ]
  },
  {
   "cell_type": "code",
   "execution_count": 36,
   "metadata": {},
   "outputs": [
    {
     "data": {
      "text/plain": [
       "'urgence'"
      ]
     },
     "execution_count": 36,
     "metadata": {},
     "output_type": "execute_result"
    }
   ],
   "source": [
    " tel[2][0]"
   ]
  },
  {
   "cell_type": "code",
   "execution_count": 30,
   "metadata": {},
   "outputs": [
    {
     "data": {
      "text/plain": [
       "17"
      ]
     },
     "execution_count": 30,
     "metadata": {},
     "output_type": "execute_result"
    }
   ],
   "source": [
    "tel[-1][-1]\n"
   ]
  },
  {
   "cell_type": "markdown",
   "metadata": {},
   "source": [
    "##### Question \n",
    "Pour le tuple semaine, indiquer le(s) code(s) Python renvoyant la valeur 0."
   ]
  },
  {
   "cell_type": "code",
   "execution_count": null,
   "metadata": {},
   "outputs": [],
   "source": []
  },
  {
   "cell_type": "markdown",
   "metadata": {},
   "source": [
    "Pour connaître la longueur d'un tuple, on pourra utiliser l'instruction Python len() qui renvoi la taille d'une séquence."
   ]
  },
  {
   "cell_type": "code",
   "execution_count": 40,
   "metadata": {},
   "outputs": [
    {
     "name": "stdout",
     "output_type": "stream",
     "text": [
      "len(t)= 5\n",
      "len(tel[2])= 3\n",
      "len(tel)= 3\n"
     ]
    }
   ],
   "source": [
    "t = (2,3,5,'bonjour',3.14)\n",
    "tel = (('moi',605040302),('lycée',556807640),('urgence',15,17))\n",
    "print('len(t)=',len(t))\n",
    "print('len(tel[2])=',len(tel[2]))\n",
    "print('len(tel)=',len(tel))"
   ]
  },
  {
   "cell_type": "markdown",
   "metadata": {},
   "source": [
    "#### Question\n",
    "1. Quelle est la longueur du tuple lundi?\n",
    "2. Quelle est la longueur du tuple semaine?"
   ]
  },
  {
   "cell_type": "code",
   "execution_count": null,
   "metadata": {},
   "outputs": [],
   "source": []
  },
  {
   "cell_type": "markdown",
   "metadata": {},
   "source": [
    "Affection. \n",
    "On peut affecter  << un élément d'un tuple >>   à << une variable >> ou << un tuple >> à << plusieurs variables >>. Il suffit d'écrire : \n",
    "\n",
    "variable = tuple[indice].\n",
    "variable_1,variable_2,...,variable_n=tuple_de_taille_n\n",
    "Par exemple \n",
    "si t = (2,3,5,'bonjour',3.14)\n",
    "mot=t[3]\n",
    "a,b,c,d,e=t"
   ]
  },
  {
   "cell_type": "code",
   "execution_count": 42,
   "metadata": {},
   "outputs": [
    {
     "name": "stdout",
     "output_type": "stream",
     "text": [
      "mot= bonjour\n",
      "a= 2\n",
      "b= 3\n",
      "c= 5\n",
      "d= bonjour\n",
      "e= 3.14\n"
     ]
    }
   ],
   "source": [
    "t = (2,3,5,'bonjour',3.14)\n",
    "mot=t[3]\n",
    "a,b,c,d,e=t\n",
    "print('mot=',mot)\n",
    "print('a=',a)\n",
    "print('b=',b)\n",
    "print('c=',c)\n",
    "print('d=',d)\n",
    "print('e=',e)"
   ]
  },
  {
   "cell_type": "markdown",
   "metadata": {},
   "source": [
    "#### Questions \n",
    "1. Combien d'éléments du tuple semaine renvoient un nombre d'heures de cours inférieur à\n",
    "5 ?\n",
    "2. Affecter à une variable nommée tranquille les jours de la semaine où le nombre d'heures de\n",
    "cours est inférieur à 5.\n",
    "3. De quel type sera cette nouvelle variable?"
   ]
  },
  {
   "cell_type": "code",
   "execution_count": null,
   "metadata": {},
   "outputs": [],
   "source": []
  },
  {
   "cell_type": "markdown",
   "metadata": {},
   "source": [
    "## 4. Opérations sur les tuples\n",
    "On peut utiliser l'opérateur \"+\"  pour concaténer et l'opérateur \"*\" pour répéter les élément d'un tuple. Le résultat est un nouveau tuple.\n",
    "Exemple :"
   ]
  },
  {
   "cell_type": "code",
   "execution_count": 59,
   "metadata": {},
   "outputs": [
    {
     "name": "stdout",
     "output_type": "stream",
     "text": [
      "u= ('a', 'z', 2, 3, 5, 'bonjour', 3.14)\n",
      "v= (2, 3, 5, 'bonjour', 3.14, 'a', 'z')\n",
      "w= ('a', 'z', 'a', 'z')\n",
      "x= ('a', 'z', 'a', 'z')\n"
     ]
    }
   ],
   "source": [
    "t = (2,3,5,'bonjour',3.14)\n",
    "s =('a','z')\n",
    "u=s+t\n",
    "print('u=',u)\n",
    "v=t+s\n",
    "print('v=',v)\n",
    "w=2*s\n",
    "print('w=',w)\n",
    "x=s*2\n",
    "print('x=',x)"
   ]
  },
  {
   "cell_type": "markdown",
   "metadata": {},
   "source": [
    " Appartenance d'un élément à un tuple\n",
    "L'appartenance à un tuple se teste, comme pour les chaînes de caractères, se teste avec l'opérateur in.\n",
    "Exemple."
   ]
  },
  {
   "cell_type": "code",
   "execution_count": 54,
   "metadata": {},
   "outputs": [
    {
     "data": {
      "text/plain": [
       "True"
      ]
     },
     "execution_count": 54,
     "metadata": {},
     "output_type": "execute_result"
    }
   ],
   "source": [
    "t = (2,3,5,'bonjour',3.14)\n",
    "s =('a','z')\n",
    "'a' in s"
   ]
  },
  {
   "cell_type": "code",
   "execution_count": 53,
   "metadata": {},
   "outputs": [
    {
     "data": {
      "text/plain": [
       "True"
      ]
     },
     "execution_count": 53,
     "metadata": {},
     "output_type": "execute_result"
    }
   ],
   "source": [
    "2 in t"
   ]
  },
  {
   "cell_type": "code",
   "execution_count": 52,
   "metadata": {},
   "outputs": [
    {
     "data": {
      "text/plain": [
       "False"
      ]
     },
     "execution_count": 52,
     "metadata": {},
     "output_type": "execute_result"
    }
   ],
   "source": [
    "0 in t "
   ]
  },
  {
   "cell_type": "markdown",
   "metadata": {},
   "source": [
    " ## 5. Utilisation des tuple avec des fonctions.\n",
    "Voici un premier exemple avec une fonction renvoyant la somme de deux nombre \n",
    "Tester cet exemple : \n",
    "def somme(a, b):\n",
    "    c = a + b\n",
    "    return (a, b, c)\n",
    "resultat = somme(0.5, 1.3)\n",
    "print(f \"{resultat[0]} + {resultat[1]} = {resultat[2]}\")"
   ]
  },
  {
   "cell_type": "code",
   "execution_count": 57,
   "metadata": {},
   "outputs": [
    {
     "name": "stdout",
     "output_type": "stream",
     "text": [
      "0.5 + 1.3 = 1.8\n"
     ]
    }
   ],
   "source": [
    "def somme(a, b):\n",
    "    c = a + b\n",
    "    return (a, b, c)\n",
    "resultat = somme(0.5, 1.3)\n",
    "print(f\"{resultat[0]} + {resultat[1]} = {resultat[2]}\")"
   ]
  },
  {
   "cell_type": "markdown",
   "metadata": {},
   "source": [
    "Le deuxième exemple : "
   ]
  },
  {
   "cell_type": "markdown",
   "metadata": {},
   "source": [
    "## 6. Exercices\n",
    "#### Exercice 1.\n",
    "1. Quelle est la longueur du tuple (1,2,(2,4),5)?\n",
    "2. Si t = ('a','b','c'), que renvoie l'instruction t[1]?\n",
    "3. Que renvoie l'expression (1,\"lundi\") + (3,\"manteau\",5.0)?\n",
    "4. Que renvoie l'expression 3*(1,\"poele\")?\n",
    "5. Si t = (3,5,1), quelle valeur vaut le booléen t[1]==3?\n",
    "6. Quelle est la valeur retournée par l'instruction (0,2)+(0,3)==(0,5)?"
   ]
  },
  {
   "cell_type": "code",
   "execution_count": null,
   "metadata": {},
   "outputs": [],
   "source": []
  },
  {
   "cell_type": "markdown",
   "metadata": {},
   "source": [
    "#### Exercice 2.\n",
    "1. Écrire une fonction mem prenant tuple et donnee en argument, et qui renvoie True si x est\n",
    "un élément du tuple.\n",
    "Par exemple, si t = ('peche',('pomme','poire'),12.5,-5), alors mem(t,'peche') ren-\n",
    "voie True\n",
    "2. Modi?er cette fonction pour qu'elle renvoie aussi l'index.\n",
    "Par exemple, si t = ('peche',('pomme','poire'),12.5,-5), alors mem(t,'peche') ren-\n",
    "voie (True, 0)."
   ]
  },
  {
   "cell_type": "code",
   "execution_count": null,
   "metadata": {},
   "outputs": [],
   "source": []
  },
  {
   "cell_type": "markdown",
   "metadata": {},
   "source": [
    "####  Exercice 3.\n",
    "Écrire un fonction compte prenant tuple et element en argument, et qui renvoie le nombre de\n",
    "fois où cet élément est présent dans le tuple.\n",
    "Par exemple, si t = (3,\"manteau\",5.0,\"pêche\",3), alors compte(t,3) renvoie 2."
   ]
  },
  {
   "cell_type": "code",
   "execution_count": null,
   "metadata": {},
   "outputs": [],
   "source": []
  },
  {
   "cell_type": "markdown",
   "metadata": {},
   "source": [
    "#### Exercice 4.\n",
    "Écrire un fonction division_euclidienne prenant en argument deux nombres n1 et n2 et qui\n",
    "renvoie un tuple constitué du quotient et du reste de la division euclidienne de n1 par n2.\n",
    "Par exemple, division_euclidienne(5,2) renvoie (2,1)."
   ]
  },
  {
   "cell_type": "code",
   "execution_count": null,
   "metadata": {},
   "outputs": [],
   "source": []
  },
  {
   "cell_type": "markdown",
   "metadata": {},
   "source": [
    "# III. Les dictionnaires\n",
    "##  1. Définition\n",
    "\n",
    "  Un dictionnaire, objet de type ```dict```, ressemble à une liste. La principale différence en indices ne sont pas obligatoirement des entiers (0, 1, 2, ...) et peuvent être du type str, float, tuples (à condition que les tuples ne contiennent que des entiers, des flottants ou des n-uplets).\n",
    "  Ces indices ne sont pas ordonnés et s'appellent des clés. A chaque clé correspond une valeur. \n",
    "    \n",
    "   Un dictionnaire est donc un ensemble de couples clé-valeur. Pour créer un dictionair, on écrit \n",
    "entre des accolades les couples séparés par des virgules, chaque couple étant composé d'une clé et de la valeur correspondante séparées par deux-points.\n",
    "### a) Exemples : \n",
    "- Exemple 1.\n",
    "```\n",
    "dico = {\"yes\": \"oui\", \"no\": \"non\",'and\": \"et\", \"or\": \"ou\"}\n",
    "```\n",
    "- Exemple 2. \n",
    "```\n",
    "jours={\"dimanche\": 1, \"lundi\": 2, \"mardi\": 3, \"mercredi\": 4,\"jeudi\": 5, \"vendredi\": 6, \"samedi\": 7}\n",
    "``` \n"
   ]
  },
  {
   "cell_type": "code",
   "execution_count": 14,
   "metadata": {},
   "outputs": [],
   "source": []
  },
  {
   "cell_type": "markdown",
   "metadata": {},
   "source": [
    "##  2. Construction\n",
    "Un dictionnaire vide.\n",
    "```\n",
    "mon_dico={}     # mon_dict est dictionnaire vide\n",
    "```\n",
    "On peut lui ajouter des élément :\n",
    "```\n",
    "mon_dico[\"nom\"] = \"Kata\"\n",
    "mon_dico[\"prenom\"] = \"Lina\"\n",
    "mon_dico[\"date de naissance\"] = \"19/06/2003\"\n",
    "print(mon_dico)\n",
    "```\n",
    "ou \n",
    "```\n",
    "mon_dico={[\"nom\"] = \"Kata\" ,\"prenom\":\"Lina\",\"date de naissance\":\"19/06/2003\"}\n",
    "print(mon_dico)\n",
    "```\n",
    "#### Question. \n",
    "Tester, Analyser puis expliquer \n",
    "```\n",
    "mon_dico={\"nom\" : \"Kata\" ,\"prenom\":\"Lina\",\"date de naissance\":\"19/06/2003\"}\n",
    "print('Bonjour je suis {mon_dico[\"nom\"]} {mon_dico[\"prenom\"]} , je suis né le {mon_dico[\"date de naissance\"]}')\n",
    "print(f'Bonjour je suis {mon_dico[\"nom\"]} {mon_dico[\"prenom\"]} , je suis né le {mon_dico[\"date de naissance\"]}')\n",
    "```\n"
   ]
  },
  {
   "cell_type": "code",
   "execution_count": null,
   "metadata": {},
   "outputs": [],
   "source": []
  },
  {
   "cell_type": "markdown",
   "metadata": {},
   "source": [
    "Il existe divers procédés de construction d'un dictionnaire afin d'éviter d'ajouter les n éléments\n",
    "un par un.\n",
    "   - Conversion d'une liste en dictionnaire  \n",
    "   La fonction ``` dict()``` permet de convertir une liste de listes à deux éléments en dictionnaire.\n",
    "       o Exemple\n",
    " ```\n",
    " liste = [['a', 1], ['b', 2], ['c', 31]]\n",
    " d = dict (1iste)\n",
    " ```\n",
    " Ce qui donne en sortie \n",
    " ```\n",
    " print(d)\n",
    " {a': 1, 'b': 2, 'c': 3}\n",
    " ```\n"
   ]
  },
  {
   "cell_type": "code",
   "execution_count": null,
   "metadata": {},
   "outputs": [],
   "source": []
  },
  {
   "cell_type": "markdown",
   "metadata": {},
   "source": [
    "- La construction par compréhension, \n",
    "C'est procédé très pratique pour construire des listes, est aussi permise pour les dictionnaires,\n",
    "\n",
    "```\n",
    "d = {x: x**2 for x in range (1, 5)}\n",
    "print(d) \n",
    "{1: 1, 2: 4, 3: 9, 4: 16}\n",
    " ```"
   ]
  },
  {
   "cell_type": "code",
   "execution_count": null,
   "metadata": {},
   "outputs": [],
   "source": []
  },
  {
   "cell_type": "markdown",
   "metadata": {},
   "source": [
    "- Utilisation de la fonction dict()\n",
    " On peut créer un dictionnaire, à l'aide de la fonction dict avec en paramètres des couples de la forme nom=valeur.\n",
    " \n",
    " ```\n",
    " d = dict(one=1,two=2, three=3,four=4)\n",
    " print(d)\n",
    "{'one':1,'two':2, 'three':3,'four':4}\n",
    "```"
   ]
  },
  {
   "cell_type": "code",
   "execution_count": null,
   "metadata": {},
   "outputs": [],
   "source": [
    "\n"
   ]
  },
  {
   "cell_type": "markdown",
   "metadata": {},
   "source": [
    "##  3. Utilisation. \n",
    "### a) Accès aux éléments\n",
    "* Deux méthodes donnent accès aux clés ou aux valeurs, ce sont les méthodes ```keys``` et ```values```. \n",
    "   * Exemple\n",
    "```\n",
    "jours={\"dimanche\": 1, \"lundi\": 2, \"mardi\": 3, \"mercredi\": 4, \"jeudi\": 5, \"vendredi\": 6, \"samedi\":7}\n",
    "print(jours.keys())\n",
    "print(jours.values())\n",
    "```\n",
    "\n",
    "\n"
   ]
  },
  {
   "cell_type": "code",
   "execution_count": null,
   "metadata": {},
   "outputs": [],
   "source": []
  },
  {
   "cell_type": "markdown",
   "metadata": {},
   "source": [
    "* On peut récupérer les clés et les valeurs en même temps, on uilise la méthode items-()  qui returne un tuple.\n",
    "```\n",
    "print(jours.items())\n",
    "```"
   ]
  },
  {
   "cell_type": "code",
   "execution_count": null,
   "metadata": {},
   "outputs": [],
   "source": []
  },
  {
   "cell_type": "markdown",
   "metadata": {},
   "source": [
    "- accès à une valeur par clé :\n",
    "\n",
    " ```  print(jours['vendredi'])   ```\n",
    "\n",
    "ou   ``` print(jours.get('vendredi'))```\n",
    "\n",
    "si la clé n'existe pas, on obtient l'erreur \"KeyError\"\n",
    "\n",
    "``` print(jours['fasti'])```"
   ]
  },
  {
   "cell_type": "code",
   "execution_count": null,
   "metadata": {},
   "outputs": [],
   "source": []
  },
  {
   "cell_type": "markdown",
   "metadata": {},
   "source": [
    "Pour tester l'existence d'une clé ou d'une valeur, on peut utiliser le mot clé ```in```\n",
    "\n",
    "``` test1=8 in jours\n",
    "     print(test1) ```\n",
    "\n",
    "et \n",
    "\n",
    "```'dimanche' in jours ```"
   ]
  },
  {
   "cell_type": "code",
   "execution_count": null,
   "metadata": {},
   "outputs": [],
   "source": []
  },
  {
   "cell_type": "markdown",
   "metadata": {},
   "source": [
    "###  b) Modification, Ajourt et Suppression \n",
    "- Modification \n",
    "\n",
    "```jours['dimanche']=0    # affection simple sur la valeur de la clé  'dimanche'\n",
    "print(jours)```\n",
    "\n",
    "ou\n",
    "\n",
    "```jours['samedi']=jours['samedi']-1   # affection par une expression sur la valeur de la clé  'dimanche'\n",
    "print(jours)\n",
    "```\n",
    "\n",
    "#### Question\n",
    "- Quel est le contenu du dictionnaire référencé par la variable \"jours\" après l'exécution du programme ci-dessus ? \n",
    "- Vérifiez votre réponse  !"
   ]
  },
  {
   "cell_type": "code",
   "execution_count": null,
   "metadata": {},
   "outputs": [],
   "source": []
  },
  {
   "cell_type": "markdown",
   "metadata": {},
   "source": [
    "* Ajouter un ou des élément(s)\n",
    "\n",
    "```\n",
    "jours['fasti']=8\n",
    "print(jours)\n",
    "```\n",
    "\n",
    "Cette instruction ajoute par définition une nouvelle paire « clé : valeur ». \n",
    "Attention : Si ‘fasti’ existe déjà, son ancienne\n",
    "valeur sera écrasée."
   ]
  },
  {
   "cell_type": "code",
   "execution_count": null,
   "metadata": {},
   "outputs": [],
   "source": []
  },
  {
   "cell_type": "markdown",
   "metadata": {},
   "source": [
    "* Ajouter un bloc d'éléments\n",
    "```\n",
    "jours.update({'Janv':1,'Fev':2,'Mars':'3'})\n",
    "print(jours)\n",
    "```"
   ]
  },
  {
   "cell_type": "code",
   "execution_count": null,
   "metadata": {},
   "outputs": [],
   "source": []
  },
  {
   "cell_type": "markdown",
   "metadata": {},
   "source": [
    "* Suppression par clé\n",
    "```\n",
    "del jours['dimanche']\n",
    "print(jours)\n",
    "```"
   ]
  },
  {
   "cell_type": "code",
   "execution_count": null,
   "metadata": {},
   "outputs": [],
   "source": []
  },
  {
   "cell_type": "markdown",
   "metadata": {},
   "source": [
    "###  c) Copie et comparaison\n",
    "- copie d'un dictionnaire\n",
    " ```\n",
    "jours={\"dimanche\": 1, \"lundi\": 2, \"mardi\": 3, \"mercredi\": 4, \"jeudi\": 5, \"vendredi\": 6, \"samedi\":7}\n",
    "jours_bis =jours.copy()\n",
    "print(jours_bis)\n",
    "```"
   ]
  },
  {
   "cell_type": "code",
   "execution_count": null,
   "metadata": {},
   "outputs": [],
   "source": [
    "\n"
   ]
  },
  {
   "cell_type": "markdown",
   "metadata": {},
   "source": [
    "* Comparaison\n",
    "```\n",
    "test1=jours_bis==jours # Le résultat du test jours_bis==jours est stcké dans la variable test1\n",
    "print(test1)\n",
    "```\n",
    "\n",
    "```\n",
    "del jours['dimanche'] # On supprime un élément de jours\n",
    "print(jours)\n",
    "test2=jours_bis==jours  # On compare jours et sa copie.\n",
    "print(test2)\n",
    "```"
   ]
  },
  {
   "cell_type": "code",
   "execution_count": null,
   "metadata": {},
   "outputs": [],
   "source": []
  },
  {
   "cell_type": "markdown",
   "metadata": {},
   "source": [
    "### Remarque\n",
    "1. Les clés ne sont pas forcément des chaînes de caractères.  L’outil est très souple mais, attention, autant de liberté peut être aussi préjudiciable. Il faut être très rigoureux.\n",
    "\n",
    "- Utilisation de tuples et liste :\n",
    "  . Exemple \n",
    "Dans l'exemple suivant :\n",
    "  - la clé est un tuple ;\n",
    "  - la valeur est une liste.\n",
    "\n",
    "```\n",
    "eleves = {('Jeanne',2003):['première',6,True],('Antoine',2004):['premiere',7,False]}\n",
    "print(eleves.keys())\n",
    "print(eleves.values())\n",
    "```\n"
   ]
  },
  {
   "cell_type": "code",
   "execution_count": null,
   "metadata": {},
   "outputs": [],
   "source": [
    "\n"
   ]
  },
  {
   "cell_type": "markdown",
   "metadata": {},
   "source": [
    "### d) Boucles et dictionnaires\n",
    "Il est possible de parcourir un dictionnaire à l'aide d'une boucle for. Ce parcours peut se faire selon les clés ou les valeurs. Commençons par parcourir les clés à l'aide de la méthode \"keys\".\n",
    "   \n",
    " - Tester le programme suivant. Qu'affiche-t-il ? \n",
    "\n",
    "```jours={\"dimanche\": 1, \"lundi\": 2, \"mardi\": 3, \"mercredi\": 4, \"jeudi\": 5, \"vendredi\": 6, \"samedi\":7}\n",
    "print(\"les jours de la semaine:\")\n",
    "for jour in jours.keys():\n",
    "\tprint(jour)```\n",
    " \n",
    " La méthode values() permet de parcourir le dictionnaire selon les valeurs\n"
   ]
  },
  {
   "cell_type": "code",
   "execution_count": null,
   "metadata": {},
   "outputs": [],
   "source": []
  },
  {
   "cell_type": "markdown",
   "metadata": {},
   "source": [
    "#### Question  \n",
    "On s'inspérant du programme précédent, écrire un programme qui afficher les vleurs de jours.  "
   ]
  },
  {
   "cell_type": "code",
   "execution_count": null,
   "metadata": {},
   "outputs": [],
   "source": []
  },
  {
   "cell_type": "markdown",
   "metadata": {},
   "source": [
    "Il est possible de parcourir un dictionnaire à la fois sur les clés et les valeurs en utilisant la méthode items().\n",
    "\n",
    "```jours={\"dimanche\": 1, \"lundi\": 2, \"mardi\": 3, \"mercredi\": 4, \"jeudi\": 5, \"vendredi\": 6, \"samedi\":7}\n",
    "print(\"les jours de la semaine:\")\n",
    "for jour,num in jours.items():\n",
    "\tprint(f'{jour}:{num}')```"
   ]
  },
  {
   "cell_type": "code",
   "execution_count": null,
   "metadata": {},
   "outputs": [],
   "source": []
  }
 ],
 "metadata": {
  "kernelspec": {
   "display_name": "Python 3",
   "language": "python",
   "name": "python3"
  },
  "language_info": {
   "codemirror_mode": {
    "name": "ipython",
    "version": 3
   },
   "file_extension": ".py",
   "mimetype": "text/x-python",
   "name": "python",
   "nbconvert_exporter": "python",
   "pygments_lexer": "ipython3",
   "version": "3.6.4"
  }
 },
 "nbformat": 4,
 "nbformat_minor": 2
}

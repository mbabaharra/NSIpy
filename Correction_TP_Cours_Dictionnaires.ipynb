{
 "cells": [
  {
   "cell_type": "markdown",
   "metadata": {},
   "source": [
    "# Les dictionnaires\n",
    "Les dictionnaires sont des données structurées, Nous avons déjà deux types de données structurées :\n",
    "- les listes\n",
    "- les tuples\n",
    "##  1. Définition\n",
    "\n",
    " - Un **dictionnaire** en python est une sorte de liste mais au lieu d'utiliser des index, on utilise des clés alphanumériques. \n",
    " - L’ensemble des couples **clé – valeur** sont enregistrés sous la forme `clé:valeur` , l’ensemble de ces couples étant séparés par une virgule et placés entre deux accolades.\n",
    " - Les clés peuvent être des entiers (int), des chaînes de caractères (str) et même des tuples (En fait n'importe quel type convient).\n",
    "  \n",
    "### a) Exemples : \n",
    "- Exemple 1.\n",
    "```\n",
    "dico = {\"yes\": \"oui\", \"no\": \"non\",'and\": \"et\", \"or\": \"ou\"}\n",
    "```\n",
    "- Exemple 2. \n",
    "```\n",
    "semaine={\"dimanche\": 1, \"lundi\": 2, \"mardi\": 3, \"mercredi\": 4,\"jeudi\": 5, \"vendredi\": 6, \"samedi\": 7}\n",
    "``` \n",
    "\n",
    "### Question : \n",
    "Proposer d'autres exemples.\n"
   ]
  },
  {
   "cell_type": "code",
   "execution_count": null,
   "metadata": {},
   "outputs": [],
   "source": [
    "notes_eleves={\"Evann\",[15,18,16],\"Gabriel\"={16,17,16.5},Jeanne=[15,15.5,19]}\n",
    "vehicule = {\"voiture\": \"véhicule à quatre roues\", \"vélo\": \"véhicule à deux roues\"}"
   ]
  },
  {
   "cell_type": "markdown",
   "metadata": {},
   "source": [
    "##  2. Construction.\n",
    "### Méthode 1\n",
    "- **Un dictionnaire vide.**\n",
    "```\n",
    "mon_dico={}     \n",
    "```\n",
    "ou \n",
    "```\n",
    "mon_dico=dict()     \n",
    "```\n",
    "\n",
    "On peut lui ajouter des élément :\n",
    "```\n",
    "mon_dico[\"nom\"] = \"Kata\"\n",
    "mon_dico[\"prenom\"] = \"Lyna\"\n",
    "mon_dico[\"date de naissance\"] = \"19/06/2003\"\n",
    "print(mon_dico)\n",
    "```\n",
    "ou \n",
    "```\n",
    "mon_dico={[\"nom\"] = \"Kata\" ,\"prenom\":\"Lyna\",\"date de naissance\":\"19/06/2003\"}\n",
    "print(mon_dico)\n",
    "```\n",
    "#### Question. \n",
    "Tester, Analyser puis expliquer \n",
    "```\n",
    "mon_dico={\"nom\" : \"Kata\" ,\"prenom\":\"Lyna\",\"date de naissance\":\"19/06/2003\"}\n",
    "print('Bonjour je suis {mon_dico[\"nom\"]} {mon_dico[\"prenom\"]} , je suis né le {mon_dico[\"date de naissance\"]}')\n",
    "print(f'Bonjour je suis {mon_dico[\"nom\"]} {mon_dico[\"prenom\"]} , je suis né le {mon_dico[\"date de naissance\"]}')\n",
    "```\n",
    "* **Tester**"
   ]
  },
  {
   "cell_type": "code",
   "execution_count": 10,
   "metadata": {},
   "outputs": [
    {
     "name": "stdout",
     "output_type": "stream",
     "text": [
      "Bonjour je suis {mon_dico[\"nom\"]} {mon_dico[\"prenom\"]} , je suis né le {mon_dico[\"date de naissance\"]}\n",
      "Bonjour je suis Kata Lyna , je suis né le 19/06/2003\n"
     ]
    }
   ],
   "source": [
    "mon_dico={\"nom\" : \"Kata\" ,\"prenom\":\"Lyna\",\"date de naissance\":\"19/06/2003\"}\n",
    "print('Bonjour je suis {mon_dico[\"nom\"]} {mon_dico[\"prenom\"]} , je suis né le {mon_dico[\"date de naissance\"]}')\n",
    "print(f'Bonjour je suis {mon_dico[\"nom\"]} {mon_dico[\"prenom\"]} , je suis né le {mon_dico[\"date de naissance\"]}')\n",
    "      \n"
   ]
  },
  {
   "cell_type": "markdown",
   "metadata": {},
   "source": [
    "\n",
    "Remarque.\n",
    "Si nous n'avons la version >=3.7 on peut utiliser la fonction format() :\n",
    "\n",
    "Syntax : { } .format(value)\n",
    "\n",
    "Parameters : (value) : Can be an integer, floating point numeric constant, string, characters or even variables.\n",
    "\n",
    "Returntype : Returns a formatted string with the value passed as parameter in the placeholder position.\n",
    "\n",
    "Exemple : \n",
    "print (\"Hello, I am {} years old !\".format(18))  \n",
    "\n"
   ]
  },
  {
   "cell_type": "code",
   "execution_count": 11,
   "metadata": {},
   "outputs": [
    {
     "name": "stdout",
     "output_type": "stream",
     "text": [
      "Bonjour je suis  Kata Lyna né le 19/06/2003\n"
     ]
    }
   ],
   "source": [
    "print(\"Bonjour je suis  {0} {1} né le {2}.\".format(mon_dico[\"nom\"],mon_dico[\"prenom\"],mon_dico[\"date de naissance\"]))"
   ]
  },
  {
   "cell_type": "markdown",
   "metadata": {},
   "source": [
    "### Méthode 2\n",
    "Il existe divers procédés de construction d'un dictionnaire afin d'éviter d'ajouter les `n` éléments\n",
    "un par un.\n",
    "   - **a) Conversion d'une liste en dictionnaire**  \n",
    "   La fonction ``` dict()``` permet de convertir une liste de listes à deux éléments en dictionnaire.\n",
    "       o Exemple\n",
    " ```\n",
    " liste = [['a', 1], ['b', 2], ['c', 31]]\n",
    " d = dict (1iste)\n",
    " ```\n",
    " Ce qui donne en sortie \n",
    " ```\n",
    " print(d)\n",
    " {'a': 1, 'b': 2, 'c': 3}\n",
    " ```\n",
    " **Tester**"
   ]
  },
  {
   "cell_type": "code",
   "execution_count": 19,
   "metadata": {},
   "outputs": [
    {
     "name": "stdout",
     "output_type": "stream",
     "text": [
      "{'a': 1, 'b': 2, 'c': 31}\n"
     ]
    }
   ],
   "source": [
    "liste = [['a', 1], ['b', 2], ['c', 31]]\n",
    "d = dict(liste)\n",
    "print(d)"
   ]
  },
  {
   "cell_type": "markdown",
   "metadata": {},
   "source": [
    "**b) Utilisation de la fonction dict()**\n",
    " On peut créer un dictionnaire, à l'aide de la fonction dict avec en paramètres des couples de la forme nom=valeur.\n",
    " \n",
    " ```\n",
    " d = dict(one=1,two=2, three=3,four=4)\n",
    " print(d)\n",
    "{'one':1,'two':2, 'three':3,'four':4}\n",
    "```\n",
    " - **Tester**"
   ]
  },
  {
   "cell_type": "code",
   "execution_count": 22,
   "metadata": {},
   "outputs": [
    {
     "name": "stdout",
     "output_type": "stream",
     "text": [
      "{'one': 1, 'two': 2, 'three': 3, 'four': 4}\n"
     ]
    }
   ],
   "source": [
    "d = dict(one=1,two=2, three=3,four=4)\n",
    "print(d)\n"
   ]
  },
  {
   "cell_type": "markdown",
   "metadata": {},
   "source": [
    "**c) La construction par compréhension** \n",
    "C'est un procédé très pratique pour construire des listes et les dictionnaires,\n",
    "\n",
    "- **Exemple 1**\n",
    "```\n",
    "d = {x: x**2 for x in range (1, 5)}\n",
    "print(d) \n",
    "{1: 1, 2: 4, 3: 9, 4: 16}\n",
    " ```\n",
    "- **Exemple 2**\n",
    "```\n",
    "jours=[\"dimanche\", \"lundi\", \"mardi\", \"mercredi\",\"jeudi\", \"vendredi\", \"samedi\"]\n",
    "semaine = {jours[i]: i for i in range (7)}\n",
    "print(semaine) \n",
    " ```\n",
    " \n",
    "- **Tester ces exemples**"
   ]
  },
  {
   "cell_type": "code",
   "execution_count": 23,
   "metadata": {},
   "outputs": [
    {
     "name": "stdout",
     "output_type": "stream",
     "text": [
      "{1: 1, 2: 4, 3: 9, 4: 16}\n"
     ]
    }
   ],
   "source": [
    "\n",
    "d = {x: x**2 for x in range (1, 5)}\n",
    "print(d) "
   ]
  },
  {
   "cell_type": "code",
   "execution_count": 25,
   "metadata": {},
   "outputs": [
    {
     "name": "stdout",
     "output_type": "stream",
     "text": [
      "{'dimanche': 0, 'lundi': 1, 'mardi': 2, 'mercredi': 3, 'jeudi': 4, 'vendredi': 5, 'samedi': 6}\n"
     ]
    }
   ],
   "source": [
    "jours=[\"dimanche\", \"lundi\", \"mardi\", \"mercredi\",\"jeudi\", \"vendredi\", \"samedi\"]\n",
    "semaine = {jours[i]: i for i in range (7)}\n",
    "print(semaine) "
   ]
  },
  {
   "cell_type": "markdown",
   "metadata": {},
   "source": [
    "**Longueur d'un dictionnaire**\n",
    "    La longueur d'un dictionnaire est le nombre de clés. On l'obtient avec la fonction len(nom_dico).\n",
    "L'ordre dans lequel apparaissent les paires clé-valeur dans le dictionnaire n’a pas d’importance, car on accède pas aux éléments d’un dictionnaire par un index, mais par une clé, qui n’est pas nécessairement un nombre.\n",
    "```\n",
    "len(semaine)\n",
    "```\n"
   ]
  },
  {
   "cell_type": "code",
   "execution_count": 26,
   "metadata": {},
   "outputs": [
    {
     "data": {
      "text/plain": [
       "7"
      ]
     },
     "execution_count": 26,
     "metadata": {},
     "output_type": "execute_result"
    }
   ],
   "source": [
    "len(semaine)"
   ]
  },
  {
   "cell_type": "markdown",
   "metadata": {},
   "source": [
    "# 3. Utilisation des dictionnaires. \n",
    "## a) Accès aux éléments d'un dictionnaire\n",
    "\n",
    "Deux méthodes donnent accès aux clés ou aux valeurs, ce sont les méthodes ```keys``` et ```values```. \n",
    "\n",
    "- **La méthode keys**\n",
    "La méthode `keys()` renvoie une séquence contenant les clés du dictionnaire. Si nécessaire, cette séquence peut être convertie en une liste à l’aide de la fonction intégrée `list()` ou en tuple à l’aide de la fonction intégrée `tuple()`.\n",
    "\n",
    "* Exemple\n",
    "```\n",
    "semaine={\"dimanche\": 1, \"lundi\": 2, \"mardi\": 3, \"mercredi\": 4, \"jeudi\": 5, \"vendredi\": 6, \"samedi\":7}\n",
    "print(semaine.keys())\n",
    "```\n",
    "- ce qui donne : \n",
    "`dict_keys(['dimanche', 'lundi', 'mardi', 'mercredi', 'jeudi', 'vendredi', 'samedi'])`\n",
    "- Pour transformer le résultat en une luste ou un tuple on tape sur la console :\n",
    "`list(semaine.keys())` ou `tuple(semaine.keys())`\n",
    "\n",
    "\n",
    "- **Tester **\n"
   ]
  },
  {
   "cell_type": "code",
   "execution_count": 27,
   "metadata": {},
   "outputs": [
    {
     "name": "stdout",
     "output_type": "stream",
     "text": [
      "dict_keys(['dimanche', 'lundi', 'mardi', 'mercredi', 'jeudi', 'vendredi', 'samedi'])\n"
     ]
    }
   ],
   "source": [
    "semaine={\"dimanche\": 1, \"lundi\": 2, \"mardi\": 3, \"mercredi\": 4, \"jeudi\": 5, \"vendredi\": 6, \"samedi\":7}\n",
    "print(semaine.keys())"
   ]
  },
  {
   "cell_type": "markdown",
   "metadata": {},
   "source": [
    "- **La méthode `values()`**\n",
    "La méthode `values()` renvoie une séquence contenant les valeurs mémorisées dans le dictionnaire. \n",
    "\n",
    "On peut, comme pour les clés, utiliser les méthodes `list()` ou `tuple()` pour transformer ces séquences en listes ou en tuples.\n",
    "\n",
    "* Exemple\n",
    "```\n",
    "semaine={\"dimanche\": 1, \"lundi\": 2, \"mardi\": 3, \"mercredi\": 4, \"jeudi\": 5, \"vendredi\": 6, \"samedi\":7}\n",
    "print(semaine.values())\n",
    "```\n",
    "- ce qui donne : \n",
    "`dict_values([1, 2, 3, 4, 5, 6, 7])`\n",
    "- Pour transformer le résultat en une luste ou un tuple on tape sur la console :\n",
    "`list(semaine.values())` ou `tuple(semaine.values())`\n",
    "\n",
    "\n",
    "- **Tester **\n"
   ]
  },
  {
   "cell_type": "code",
   "execution_count": 62,
   "metadata": {},
   "outputs": [
    {
     "name": "stdout",
     "output_type": "stream",
     "text": [
      "dict_values([1, 2, 3, 4, 5, 6, 7])\n"
     ]
    }
   ],
   "source": [
    "semaine={\"dimanche\": 1, \"lundi\": 2, \"mardi\": 3, \"mercredi\": 4, \"jeudi\": 5, \"vendredi\": 6, \"samedi\":7}\n",
    "print(semaine.values())"
   ]
  },
  {
   "cell_type": "markdown",
   "metadata": {},
   "source": [
    "###  Méthode `items()`\n",
    "La méthode `items()` retourne une liste de tuples, chaque tuple contenant deux éléments, la clé et la valeur correspondante. \n",
    "\n",
    "* Exemple  \n",
    "```\n",
    "print(semaine.items())\n",
    "```\n",
    "* **Tester**"
   ]
  },
  {
   "cell_type": "code",
   "execution_count": 29,
   "metadata": {},
   "outputs": [
    {
     "name": "stdout",
     "output_type": "stream",
     "text": [
      "dict_items([('dimanche', 1), ('lundi', 2), ('mardi', 3), ('mercredi', 4), ('jeudi', 5), ('vendredi', 6), ('samedi', 7)])\n"
     ]
    }
   ],
   "source": [
    "print(semaine.items())"
   ]
  },
  {
   "cell_type": "markdown",
   "metadata": {},
   "source": [
    "### Remarque 1. (Une erreur : remplcer jours par semaine)\n",
    "- accès à une valeur par clé :\n",
    "\n",
    " ```  print(jours['vendredi'])   ```\n",
    "\n",
    "ou   ``` print(jours.get('vendredi'))```\n",
    "\n",
    "si la clé n'existe pas, on obtient l'erreur \"KeyError\"\n",
    "\n",
    "``` print(jours['fasti'])```\n",
    "* **Tester**"
   ]
  },
  {
   "cell_type": "code",
   "execution_count": 31,
   "metadata": {},
   "outputs": [
    {
     "name": "stdout",
     "output_type": "stream",
     "text": [
      "6\n"
     ]
    },
    {
     "ename": "KeyError",
     "evalue": "'fasti'",
     "output_type": "error",
     "traceback": [
      "\u001b[0;31m---------------------------------------------------------------------------\u001b[0m",
      "\u001b[0;31mKeyError\u001b[0m                                  Traceback (most recent call last)",
      "\u001b[0;32m<ipython-input-31-0881eea47aa4>\u001b[0m in \u001b[0;36m<module>\u001b[0;34m\u001b[0m\n\u001b[1;32m      1\u001b[0m \u001b[0mprint\u001b[0m\u001b[0;34m(\u001b[0m\u001b[0msemaine\u001b[0m\u001b[0;34m[\u001b[0m\u001b[0;34m'vendredi'\u001b[0m\u001b[0;34m]\u001b[0m\u001b[0;34m)\u001b[0m\u001b[0;34m\u001b[0m\u001b[0;34m\u001b[0m\u001b[0m\n\u001b[0;32m----> 2\u001b[0;31m \u001b[0mprint\u001b[0m\u001b[0;34m(\u001b[0m\u001b[0msemaine\u001b[0m\u001b[0;34m[\u001b[0m\u001b[0;34m'fasti'\u001b[0m\u001b[0;34m]\u001b[0m\u001b[0;34m)\u001b[0m\u001b[0;34m\u001b[0m\u001b[0;34m\u001b[0m\u001b[0m\n\u001b[0m",
      "\u001b[0;31mKeyError\u001b[0m: 'fasti'"
     ]
    }
   ],
   "source": [
    "print(semaine['vendredi'])\n",
    "print(semaine['fasti'])"
   ]
  },
  {
   "cell_type": "markdown",
   "metadata": {},
   "source": [
    "### Remarque 2.\n",
    "Pour tester l'existence d'une clé ou d'une valeur, on peut utiliser le mot clé ```in```\n",
    "\n",
    "``` test1 = 8 in semaine\n",
    "     print(test1) ```\n",
    "\n",
    "et \n",
    "\n",
    "```teste2 = 'dimanche' in semaine \n",
    "print(test2)```"
   ]
  },
  {
   "cell_type": "code",
   "execution_count": 34,
   "metadata": {},
   "outputs": [
    {
     "name": "stdout",
     "output_type": "stream",
     "text": [
      "False\n"
     ]
    }
   ],
   "source": [
    "test1 = 8 in semaine\n",
    "print(test1)"
   ]
  },
  {
   "cell_type": "code",
   "execution_count": 42,
   "metadata": {},
   "outputs": [
    {
     "name": "stdout",
     "output_type": "stream",
     "text": [
      "True\n"
     ]
    }
   ],
   "source": [
    "test2='dimanche' in semaine\n",
    "print(test2) \n"
   ]
  },
  {
   "cell_type": "markdown",
   "metadata": {},
   "source": [
    "## b) Modification, Ajout et Suppression \n",
    "### (i) Modification \n",
    "\n",
    "```semaine['dimanche']=0    # affection simple sur la valeur de la clé  'dimanche'\n",
    "print(semaine)```\n",
    "\n",
    "ou\n",
    "\n",
    "```semaine['samedi']=semaine['samedi']-1   # affection par une expression sur la valeur de la clé  'dimanche'\n",
    "print(semaine)\n",
    "```\n",
    "\n",
    "#### Question\n",
    "- Quel est le contenu du dictionnaire référencé par la variable \"semaine\" après l'exécution du programme ci-dessus ? \n",
    "- Vérifiez votre réponse  !"
   ]
  },
  {
   "cell_type": "code",
   "execution_count": 63,
   "metadata": {},
   "outputs": [
    {
     "name": "stdout",
     "output_type": "stream",
     "text": [
      "{'dimanche': 10, 'lundi': 2, 'mardi': 3, 'mercredi': 4, 'jeudi': 5, 'vendredi': 6, 'samedi': 7}\n"
     ]
    }
   ],
   "source": [
    "semaine['dimanche']=10    # affection simple sur la valeur de la clé  'dimanche'\n",
    "print(semaine)"
   ]
  },
  {
   "cell_type": "code",
   "execution_count": 64,
   "metadata": {},
   "outputs": [
    {
     "name": "stdout",
     "output_type": "stream",
     "text": [
      "{'dimanche': 10, 'lundi': 2, 'mardi': 3, 'mercredi': 4, 'jeudi': 5, 'vendredi': 6, 'samedi': 8}\n"
     ]
    }
   ],
   "source": [
    "semaine['samedi']=semaine['samedi']+1   # affection par une expression sur la valeur de la clé  'dimanche'\n",
    "print(semaine)"
   ]
  },
  {
   "cell_type": "markdown",
   "metadata": {},
   "source": [
    "### (ii) Ajouter un ou des élément(s)\n",
    "\n",
    "* Exemple \n",
    "```\n",
    "semaine['fasti']=8\n",
    "print(semaine)\n",
    "```\n",
    "\n",
    "Cette instruction ajoute par définition une nouvelle paire « clé : valeur ». \n",
    "Attention : Si ‘fasti’ existe déjà, son ancienne\n",
    "valeur sera écrasée.\n",
    "* **Tester**"
   ]
  },
  {
   "cell_type": "code",
   "execution_count": 65,
   "metadata": {},
   "outputs": [
    {
     "name": "stdout",
     "output_type": "stream",
     "text": [
      "{'dimanche': 10, 'lundi': 2, 'mardi': 3, 'mercredi': 4, 'jeudi': 5, 'vendredi': 6, 'samedi': 8, 'fasti': 8}\n"
     ]
    }
   ],
   "source": [
    "semaine['fasti']=8\n",
    "print(semaine)"
   ]
  },
  {
   "cell_type": "markdown",
   "metadata": {},
   "source": [
    "* Ajouter un bloc d'éléments\n",
    "```\n",
    "semaine.update({'Janv':1,'Fev':2,'Mars':'3'})\n",
    "print(semaine)\n",
    "```\n",
    "**Tester**"
   ]
  },
  {
   "cell_type": "code",
   "execution_count": 66,
   "metadata": {},
   "outputs": [
    {
     "name": "stdout",
     "output_type": "stream",
     "text": [
      "{'dimanche': 10, 'lundi': 2, 'mardi': 3, 'mercredi': 4, 'jeudi': 5, 'vendredi': 6, 'samedi': 8, 'fasti': 8, 'Janv': 1, 'Fev': 2, 'Mars': '3'}\n"
     ]
    }
   ],
   "source": [
    "semaine.update({'Janv':1,'Fev':2,'Mars':'3'})\n",
    "print(semaine)"
   ]
  },
  {
   "cell_type": "code",
   "execution_count": null,
   "metadata": {},
   "outputs": [],
   "source": []
  },
  {
   "cell_type": "markdown",
   "metadata": {},
   "source": [
    "### (iii) Suppression par clé\n",
    "\n",
    "Pour supprimer un élément :\n",
    "\n",
    "- on peut utiliser l’instruction intégrée `del` ,\n",
    "- ou la méthode  `pop()`\n",
    "\n",
    "Par exemple, si on souhaite supprimer la paire 'dimanche' : 1, on peut exécuter l’instruction : del ou \n",
    "```\n",
    "del semaine['dimanche']\n",
    "print(semaine)\n",
    "```\n",
    "ou\n",
    "```\n",
    "semaine.pop('dimanche')\n",
    "```\n",
    "* **Tester**"
   ]
  },
  {
   "cell_type": "code",
   "execution_count": 67,
   "metadata": {},
   "outputs": [
    {
     "name": "stdout",
     "output_type": "stream",
     "text": [
      "{'lundi': 2, 'mardi': 3, 'mercredi': 4, 'jeudi': 5, 'vendredi': 6, 'samedi': 8, 'fasti': 8, 'Janv': 1, 'Fev': 2, 'Mars': '3'}\n"
     ]
    }
   ],
   "source": [
    "del semaine['dimanche']\n",
    "print(semaine)"
   ]
  },
  {
   "cell_type": "code",
   "execution_count": 68,
   "metadata": {},
   "outputs": [
    {
     "data": {
      "text/plain": [
       "2"
      ]
     },
     "execution_count": 68,
     "metadata": {},
     "output_type": "execute_result"
    }
   ],
   "source": [
    "semaine.pop('lundi')"
   ]
  },
  {
   "cell_type": "code",
   "execution_count": 69,
   "metadata": {},
   "outputs": [
    {
     "name": "stdout",
     "output_type": "stream",
     "text": [
      "{'mardi': 3, 'mercredi': 4, 'jeudi': 5, 'vendredi': 6, 'samedi': 8, 'fasti': 8, 'Janv': 1, 'Fev': 2, 'Mars': '3'}\n"
     ]
    }
   ],
   "source": [
    "print(semaine)"
   ]
  },
  {
   "cell_type": "markdown",
   "metadata": {},
   "source": [
    "##  c) Copie et comparaison\n",
    "- copie d'un dictionnaire\n",
    " ```\n",
    "semaine = {\"dimanche\": 1, \"lundi\": 2, \"mardi\": 3, \"mercredi\": 4, \"jeudi\": 5, \"vendredi\": 6, \"samedi\":7}\n",
    "print(\"semaine : \",semaine)\n",
    "semaine_2 = semaine.copy()\n",
    "print(\"semaine_2 : \",semaine_2)\n",
    "semaine_3 = dict(semaine)\n",
    "print(\"semaine_3 :\",semaine_3)\n",
    "semaine_3['dimanche']=0\n",
    "print(semain_3)\n",
    "print(\"--------------------\")\n",
    "print(semaine,semaine_2,semaine_3)\n",
    "```\n",
    "* **Tester**"
   ]
  },
  {
   "cell_type": "code",
   "execution_count": 89,
   "metadata": {},
   "outputs": [
    {
     "name": "stdout",
     "output_type": "stream",
     "text": [
      "semaine :  {'dimanche': 1, 'lundi': 2, 'mardi': 3, 'mercredi': 4, 'jeudi': 5, 'vendredi': 6, 'samedi': 7}\n"
     ]
    }
   ],
   "source": [
    "semaine = {\"dimanche\": 1, \"lundi\": 2, \"mardi\": 3, \"mercredi\": 4, \"jeudi\": 5, \"vendredi\": 6, \"samedi\":7}\n",
    "print(\"semaine : \",semaine)\n"
   ]
  },
  {
   "cell_type": "code",
   "execution_count": 77,
   "metadata": {},
   "outputs": [
    {
     "name": "stdout",
     "output_type": "stream",
     "text": [
      "semaine_2 :  {'dimanche': 1, 'lundi': 2, 'mardi': 3, 'mercredi': 4, 'jeudi': 5, 'vendredi': 6, 'samedi': 7}\n"
     ]
    }
   ],
   "source": [
    "semaine_2 = semaine.copy()\n",
    "print(\"semaine_2 : \",semaine_2)\n",
    "semaine_2['lundi']=12"
   ]
  },
  {
   "cell_type": "code",
   "execution_count": 72,
   "metadata": {},
   "outputs": [
    {
     "name": "stdout",
     "output_type": "stream",
     "text": [
      "semaine_3 : {'dimanche': 1, 'lundi': 2, 'mardi': 3, 'mercredi': 4, 'jeudi': 5, 'vendredi': 6, 'samedi': 7}\n"
     ]
    }
   ],
   "source": [
    "semaine_3 = dict(semaine)\n",
    "print(\"semaine_3 :\",semaine_3)"
   ]
  },
  {
   "cell_type": "code",
   "execution_count": 75,
   "metadata": {},
   "outputs": [
    {
     "name": "stdout",
     "output_type": "stream",
     "text": [
      "{'dimanche': 0, 'lundi': 2, 'mardi': 3, 'mercredi': 4, 'jeudi': 5, 'vendredi': 6, 'samedi': 7}\n"
     ]
    }
   ],
   "source": [
    "semaine_3['dimanche']=0\n",
    "print(semaine_3)"
   ]
  },
  {
   "cell_type": "code",
   "execution_count": 78,
   "metadata": {},
   "outputs": [
    {
     "name": "stdout",
     "output_type": "stream",
     "text": [
      "{'dimanche': 1, 'lundi': 2, 'mardi': 3, 'mercredi': 4, 'jeudi': 5, 'vendredi': 6, 'samedi': 7} {'dimanche': 1, 'lundi': 12, 'mardi': 3, 'mercredi': 4, 'jeudi': 5, 'vendredi': 6, 'samedi': 7} {'dimanche': 0, 'lundi': 2, 'mardi': 3, 'mercredi': 4, 'jeudi': 5, 'vendredi': 6, 'samedi': 7}\n"
     ]
    }
   ],
   "source": [
    "print(semaine,semaine_2,semaine_3)"
   ]
  },
  {
   "cell_type": "markdown",
   "metadata": {},
   "source": [
    "## d) Comparaison\n",
    "```\n",
    "semaine_bis = semaine.copy()\n",
    "test1 = semaine_bis == semaine # Le résultat du test est stcké dans la variable booléen  test1\n",
    "print(test1)\n",
    "```\n",
    "\n",
    "```\n",
    "del semaine['dimanche'] # On supprime un élément de semaine\n",
    "print(semaine)\n",
    "test2 = semaine_bis == semaine  # On compare le dictionnaire semaine et sa copie.\n",
    "print(test2)\n",
    "```\n",
    "\n",
    "* **Tester**"
   ]
  },
  {
   "cell_type": "code",
   "execution_count": 90,
   "metadata": {},
   "outputs": [
    {
     "name": "stdout",
     "output_type": "stream",
     "text": [
      "True\n",
      "{'dimanche': 1, 'lundi': 2, 'mardi': 3, 'mercredi': 4, 'jeudi': 5, 'vendredi': 6, 'samedi': 7}\n",
      "{'dimanche': 1, 'lundi': 2, 'mardi': 3, 'mercredi': 4, 'jeudi': 5, 'vendredi': 6, 'samedi': 7}\n"
     ]
    }
   ],
   "source": [
    "semaine_bis = semaine.copy()\n",
    "test1 = semaine_bis == semaine # Le résultat du test est stcké dans la variable booléen  test1\n",
    "print(test1)\n",
    "print(semaine)\n",
    "print(semaine_bis)"
   ]
  },
  {
   "cell_type": "code",
   "execution_count": 91,
   "metadata": {},
   "outputs": [
    {
     "name": "stdout",
     "output_type": "stream",
     "text": [
      "{'lundi': 2, 'mardi': 3, 'mercredi': 4, 'jeudi': 5, 'vendredi': 6, 'samedi': 7}\n",
      "False\n"
     ]
    }
   ],
   "source": [
    "del semaine['dimanche'] # On supprime un élément de semaine\n",
    "print(semaine)\n",
    "test2 = semaine_bis == semaine  # On compare semaine et sa copie.\n",
    "print(test2)"
   ]
  },
  {
   "cell_type": "markdown",
   "metadata": {},
   "source": [
    "### Remarque\n",
    "1. Les clés ne sont pas forcément des chaînes de caractères.  L’outil est très souple mais, attention, autant de liberté peut être aussi préjudiciable. Il faut être très rigoureux.\n",
    "\n",
    "- Utilisation de tuples et liste :\n",
    "  . Exemple \n",
    "Dans l'exemple suivant :\n",
    "  - la clé est un tuple ;\n",
    "  - la valeur est une liste.\n",
    "\n",
    "```\n",
    "eleves = {('Jeanne',2003):['première',6,True],('Antoine',2004):['premiere',7,False]}\n",
    "print(eleves.keys())\n",
    "print(eleves.values())\n",
    "```\n",
    "* **Tester**"
   ]
  },
  {
   "cell_type": "code",
   "execution_count": 92,
   "metadata": {},
   "outputs": [
    {
     "name": "stdout",
     "output_type": "stream",
     "text": [
      "dict_keys([('Jeanne', 2003), ('Antoine', 2004)])\n",
      "dict_values([['première', 6, True], ['premiere', 7, False]])\n"
     ]
    }
   ],
   "source": [
    "eleves = {('Jeanne',2003):['première',6,True],('Antoine',2004):['premiere',7,False]}\n",
    "print(eleves.keys())\n",
    "print(eleves.values())"
   ]
  },
  {
   "cell_type": "markdown",
   "metadata": {},
   "source": [
    "### d) Boucles et dictionnaires\n",
    "Il est possible de parcourir un dictionnaire à l'aide d'une boucle for. Ce parcours peut se faire selon les clés ou les valeurs. Commençons par parcourir les clés à l'aide de la méthode \"keys\".\n",
    "   \n",
    " - Tester le programme suivant. Qu'affiche-t-il ? \n",
    "\n",
    "```semaine={\"dimanche\": 1, \"lundi\": 2, \"mardi\": 3, \"mercredi\": 4, \"jeudi\": 5, \"vendredi\": 6, \"samedi\":7}\n",
    "print(\"les jours de la semaine:\")\n",
    "for jour in semaine.keys():\n",
    "\tprint(jour)```\n",
    " \n",
    " La méthode values() permet de parcourir le dictionnaire selon les valeurs\n",
    "* **Tester**\n"
   ]
  },
  {
   "cell_type": "code",
   "execution_count": 93,
   "metadata": {},
   "outputs": [
    {
     "name": "stdout",
     "output_type": "stream",
     "text": [
      "les jours de la semaine:\n",
      "dimanche\n",
      "lundi\n",
      "mardi\n",
      "mercredi\n",
      "jeudi\n",
      "vendredi\n",
      "samedi\n"
     ]
    }
   ],
   "source": [
    "semaine={\"dimanche\": 1, \"lundi\": 2, \"mardi\": 3, \"mercredi\": 4, \"jeudi\": 5, \"vendredi\": 6, \"samedi\":7}\n",
    "print(\"les jours de la semaine:\")\n",
    "for jour in semaine.keys():\n",
    "    print(jour)"
   ]
  },
  {
   "cell_type": "markdown",
   "metadata": {},
   "source": [
    "#### Question  \n",
    "On s'inspérant du programme précédent, écrire un programme qui afficher les vleurs de semaine.  "
   ]
  },
  {
   "cell_type": "code",
   "execution_count": 95,
   "metadata": {},
   "outputs": [
    {
     "name": "stdout",
     "output_type": "stream",
     "text": [
      "les jours de la semaine:\n",
      "1\n",
      "2\n",
      "3\n",
      "4\n",
      "5\n",
      "6\n",
      "7\n",
      "les jours de la semaine:\n",
      "1\n",
      "2\n",
      "3\n",
      "4\n",
      "5\n",
      "6\n",
      "7\n"
     ]
    }
   ],
   "source": [
    "semaine={\"dimanche\": 1, \"lundi\": 2, \"mardi\": 3, \"mercredi\": 4, \"jeudi\": 5, \"vendredi\": 6, \"samedi\":7}\n",
    "semaine={\"dimanche\": 1, \"lundi\": 2, \"mardi\": 3, \"mercredi\": 4, \"jeudi\": 5, \"vendredi\": 6, \"samedi\":7}\n",
    "print(\"les jours de la semaine:\")\n",
    "for jour in semaine.keys():\n",
    "    print(semaine[cle])\n",
    " # ou    \n",
    "print(\"les jours de la semaine:\")\n",
    "for val in semaine.values():\n",
    "    print(val)"
   ]
  },
  {
   "cell_type": "markdown",
   "metadata": {},
   "source": [
    "Il est possible de parcourir un dictionnaire à la fois sur les clés et sur les valeurs en utilisant la méthode items().\n",
    "\n",
    "```semaine = {\"dimanche\": 1, \"lundi\": 2, \"mardi\": 3, \"mercredi\": 4, \"jeudi\": 5, \"vendredi\": 6, \"samedi\":7}\n",
    "print(\"les jours de la semaine:\")\n",
    "for jour,num in semaine.items():\n",
    "\tprint(f'{jour}:{num}')```\n",
    "* Tester "
   ]
  },
  {
   "cell_type": "code",
   "execution_count": 96,
   "metadata": {},
   "outputs": [
    {
     "name": "stdout",
     "output_type": "stream",
     "text": [
      "les jours de la semaine:\n",
      "dimanche:1\n",
      "lundi:2\n",
      "mardi:3\n",
      "mercredi:4\n",
      "jeudi:5\n",
      "vendredi:6\n",
      "samedi:7\n"
     ]
    }
   ],
   "source": [
    "semaine = {\"dimanche\": 1, \"lundi\": 2, \"mardi\": 3, \"mercredi\": 4, \"jeudi\": 5, \"vendredi\": 6, \"samedi\":7}\n",
    "print(\"les jours de la semaine:\")\n",
    "for jour,num in semaine.items():\n",
    "    print(f'{jour}:{num}')"
   ]
  },
  {
   "cell_type": "code",
   "execution_count": 97,
   "metadata": {},
   "outputs": [
    {
     "name": "stdout",
     "output_type": "stream",
     "text": [
      "les jours de la semaine:\n",
      "dimanche:1\n",
      "lundi:2\n",
      "mardi:3\n",
      "mercredi:4\n",
      "jeudi:5\n",
      "vendredi:6\n",
      "samedi:7\n"
     ]
    }
   ],
   "source": [
    "semaine = {\"dimanche\": 1, \"lundi\": 2, \"mardi\": 3, \"mercredi\": 4, \"jeudi\": 5, \"vendredi\": 6, \"samedi\":7}\n",
    "print(\"les jours de la semaine:\")\n",
    "for jour,num in semaine.items():\n",
    "    print(\"{0}:{1}\".format(jour,num))"
   ]
  },
  {
   "cell_type": "markdown",
   "metadata": {},
   "source": [
    "# Synthèse  :  Résumé des notions abordées\n",
    "\n",
    "- Un dictionnaire est un objet conteneur associant des clés à des valeurs.\n",
    "- Pour créer un dictionnaire, on utilise la syntaxe :\n",
    "    - dictionnaire = { cle1:valeur1, cle2:valeur2, cleN:valeurN }\n",
    "- Pour récupérer une valeur dans un dictionnaire python.\n",
    "    - la méthode get : nom_dico.get(clé).\n",
    "    - la méthode directe : nom_dico[clé]\n",
    "- On peut ajouter ou remplacer un élément dans un dictionnaire:\n",
    "    - dictionnaire[cle] = valeur\n",
    "- On peut supprimer une clé (et sa valeur correspondante) d’un dictionnaire en utilisant:\n",
    "    - le mot-clé del\n",
    "    - la méthode pop()\n",
    "- On peut parcourir un dictionnaire grâce aux méthodes:\n",
    "    - keys() : parcourt les clés\n",
    "    - values() : parcourt les valeurs\n",
    "    - items() : parcourt les couples clé-valeur\n",
    "- On peut concaténer deux dictionnaires grâce à la méthode update(): \n",
    "    - dico1.update(dico2)\n",
    "- Pour accéder à toutes les fonctions et méthodes liées à la classe dictionnaire (la notion de classe sera vue en terminale ), il suffit de taper par exemple la commande dir(nom_dico) :\n",
    "\n",
    "```\n",
    ">>> dir(semaine)\n",
    "```"
   ]
  },
  {
   "cell_type": "markdown",
   "metadata": {},
   "source": [
    "Méthodes | Actions\n",
    "--- | --- \n",
    "clear() |\tSupprime tous les éléments du dictionnaire\n",
    "copy()\t|Renvoie une copie du dictionnaire\n",
    "fromkeys()|Renvoie un dictionnaire avec les clés et valeurs spécifiées\n",
    "get()\t|Renvoie la valeur de la clé spécifiée\n",
    "items()\t|Retourne un objet qui affiche une liste des paires de tuples (clé, valeur) du dictionnaire\n",
    "keys()\t|Renvoie une liste contenant les clés du dictionnaire\n",
    "pop()\t|Removes the element with the specified key\n",
    "popitem()|\tSupprime l'élément de la clé spécifiée\n",
    "setdefault()\t|Renvoie la valeur de la clé spécifiée. Si la clé n'existe pas : insère la clé, avec la valeur spécifiée.\n",
    "update()\t|Mise à jour du dictionnaire avec les paires clé-valeur spécifiées\n",
    "values()\t|Renvoie une liste de toutes les valeurs du dictionnaire"
   ]
  },
  {
   "cell_type": "code",
   "execution_count": null,
   "metadata": {},
   "outputs": [],
   "source": [
    "# Tester "
   ]
  },
  {
   "cell_type": "markdown",
   "metadata": {},
   "source": [
    "# Exercices.\n",
    "Les exercices 1. et 2. sont des exercices d'entrainement. l'exercice 3 est à rendre au propre (DM).\n",
    "### Exercice 1 : Question 1\n",
    "\n",
    " 1.a Créer un dictionnaire vide nommé *dico*. \n",
    " \n",
    " 1.b Ce dictionnaire comprendra en **clés** des mots en anglais et en **valeurs** une traduction possible en français.    \n",
    " \n",
    "     Ajouter les clés-valeurs : 'house' : 'maison' , 'kitchen' : 'cuisine'    ,  'bunk beds' : 'lits superposés'  ,  'to abuse' : 'abuser'\n",
    " \n",
    " 1.c Vérifier le résultat par un affichage du dictionnaire.\n",
    " \n",
    " 1.d Afficher sa longueur.\n"
   ]
  },
  {
   "cell_type": "code",
   "execution_count": 98,
   "metadata": {},
   "outputs": [],
   "source": [
    "#1.a\n",
    "dico={}"
   ]
  },
  {
   "cell_type": "code",
   "execution_count": 99,
   "metadata": {},
   "outputs": [],
   "source": [
    "#1.b\n",
    "dico[\"house\"]=\"maison\"\n",
    "dico[\"kitchen\"]=\"cuisine\"\n",
    "dico[\"bunk beds\"]=\"lits superposés\"\n",
    "dico[\"to abuse\"]=\"abuser\""
   ]
  },
  {
   "cell_type": "code",
   "execution_count": 100,
   "metadata": {},
   "outputs": [
    {
     "name": "stdout",
     "output_type": "stream",
     "text": [
      "{'house': 'maison', 'kitchen': 'cuisine', 'bunk beds': 'lits superposés', 'to abuse': 'abuser'}\n"
     ]
    }
   ],
   "source": [
    "#1.c\n",
    "print(dico)"
   ]
  },
  {
   "cell_type": "code",
   "execution_count": 101,
   "metadata": {},
   "outputs": [
    {
     "name": "stdout",
     "output_type": "stream",
     "text": [
      "4\n"
     ]
    }
   ],
   "source": [
    "#1.d\n",
    "print(len(dico))"
   ]
  },
  {
   "cell_type": "markdown",
   "metadata": {},
   "source": [
    "### Exercice 1 : Question 2\n",
    "- Accéder aux valeurs par les clés et tester un appel d'une clé qui n'est pas dans votre dictionnaire.\n"
   ]
  },
  {
   "cell_type": "code",
   "execution_count": 102,
   "metadata": {},
   "outputs": [
    {
     "name": "stdout",
     "output_type": "stream",
     "text": [
      "maison\n",
      "cuisine\n",
      "lits superposés\n",
      "abuser\n",
      "maison\n",
      "cuisine\n",
      "lits superposés\n",
      "abuser\n"
     ]
    }
   ],
   "source": [
    "#2.\n",
    "#Avec la méthode directe\n",
    "print(dico[\"house\"])\n",
    "print(dico[\"kitchen\"])\n",
    "print(dico[\"bunk beds\"])\n",
    "print(dico[\"to abuse\"])\n",
    "\n",
    "#Avec la méthode get\n",
    "print(dico.get(\"house\"))\n",
    "print(dico.get(\"kitchen\"))\n",
    "print(dico.get(\"bunk beds\"))\n",
    "print(dico.get(\"to abuse\"))\n",
    "\n"
   ]
  },
  {
   "cell_type": "markdown",
   "metadata": {},
   "source": [
    "### Exercice 1 : Question 3\n",
    "- Modifier la valeur de la clé 'to abuse' par 'insulter'\n"
   ]
  },
  {
   "cell_type": "code",
   "execution_count": 103,
   "metadata": {},
   "outputs": [
    {
     "name": "stdout",
     "output_type": "stream",
     "text": [
      "{'house': 'maison', 'kitchen': 'cuisine', 'bunk beds': 'lits superposés', 'to abuse': 'insulter'}\n"
     ]
    }
   ],
   "source": [
    "#3.\n",
    "dico[\"to abuse\"]=\"insulter\"\n",
    "print(dico)"
   ]
  },
  {
   "cell_type": "markdown",
   "metadata": {},
   "source": [
    "## Exercice 1 : Question 4\n",
    "- Supprimer une entrée de votre dictionnaire (utiliser deux méthodes)"
   ]
  },
  {
   "cell_type": "code",
   "execution_count": 104,
   "metadata": {},
   "outputs": [
    {
     "name": "stdout",
     "output_type": "stream",
     "text": [
      "{'house': 'maison', 'bunk beds': 'lits superposés', 'to abuse': 'insulter'}\n",
      "on enleve insulter\n",
      "on a alors dico= {'house': 'maison', 'bunk beds': 'lits superposés'}\n"
     ]
    }
   ],
   "source": [
    "#4\n",
    "\n",
    "del dico[\"kitchen\"]\n",
    "print(dico)\n",
    "print(\"on enleve\",dico.pop(\"to abuse\"))\n",
    "print(\"on a alors dico=\",dico)"
   ]
  },
  {
   "cell_type": "markdown",
   "metadata": {},
   "source": [
    "## Exercice 1 : Question 5\n",
    "- Refaire les 7 méthodes d'affichages de clefs et de valeurs présentées ci-dessus avec votre dictionnaire `dico`\n"
   ]
  },
  {
   "cell_type": "code",
   "execution_count": 105,
   "metadata": {},
   "outputs": [
    {
     "name": "stdout",
     "output_type": "stream",
     "text": [
      "{'house': 'maison', 'bunk beds': 'lits superposés'}\n",
      "['house', 'bunk beds']\n",
      "['maison', 'lits superposés']\n",
      "[('house', 'maison'), ('bunk beds', 'lits superposés')]\n",
      "La clef  house est associée à la valeur maison\n",
      "La clef  bunk beds est associée à la valeur lits superposés\n",
      "Les clés du dictionnaire sont  house\n",
      "Les clés du dictionnaire sont  bunk beds\n",
      "Les valeurs du dictionnaire sont  maison\n",
      "Les valeurs du dictionnaire sont  lits superposés\n"
     ]
    }
   ],
   "source": [
    "#5.\n",
    "#1\n",
    "print(dico)\n",
    "#2\n",
    "print(list(dico.keys()))\n",
    "#3\n",
    "print(list(dico.values()))\n",
    "#4\n",
    "print(list(dico.items()))\n",
    "#5\n",
    "for clef in dico:\n",
    "    print(\"La clef \", clef, \"est associée à la valeur\", dico[clef])\n",
    "#6\n",
    "for clef in dico.keys():\n",
    "    print(\"Les clés du dictionnaire sont \", clef)\n",
    "#7\n",
    "for valeur in dico.values():\n",
    "    print(\"Les valeurs du dictionnaire sont \", valeur)"
   ]
  },
  {
   "cell_type": "markdown",
   "metadata": {},
   "source": [
    "## Exercice 1 : Question 6\n",
    "- Copier votre dictionnaire `dico` dans un autre dictionnaire dico2 et modifier des valeurs. \n",
    "- Vérifier alors les remarques du cours."
   ]
  },
  {
   "cell_type": "code",
   "execution_count": 106,
   "metadata": {},
   "outputs": [
    {
     "name": "stdout",
     "output_type": "stream",
     "text": [
      "{'house': 'maison', 'bunk beds': 'lits superposés'}\n",
      "le dico d'origine {'house': 'maison', 'bunk beds': 'lits superposés'}\n",
      "le nouveauDico {'house': 'maison', 'bunk beds': 'lits superposés', 'kitchen': 'cuisine', 'to abuse': 'abuser', 'friend': 'ami'}\n"
     ]
    }
   ],
   "source": [
    "#6.\n",
    "#Ecrire le code ici \n",
    "dico2=dict(dico)\n",
    "print(nouveauDico)\n",
    "dico2[\"kitchen\"]=\"cuisine\"\n",
    "dico2[\"to abuse\"]=\"abuser\"\n",
    "dico2[\"friend\"]=\"ami\"\n",
    "print(\"le dico d'origine\",dico)\n",
    "print(\"le nouveauDico\",dico2)"
   ]
  },
  {
   "cell_type": "markdown",
   "metadata": {},
   "source": [
    "## Exercice 2\n",
    "Voici un dictionnaire qui permet de coder les 26 lettres de l'alphabet, l'espace et l'apostrophe '. "
   ]
  },
  {
   "cell_type": "code",
   "execution_count": null,
   "metadata": {},
   "outputs": [],
   "source": [
    "codage={'a':111,'b':121,'c':211,'d':311,'e':151,'f':411,'g':113,'h':11,'i':21,'j':71,'k':19,'l':81,'m':100,'n':9,'o':1,'p':8,'q':1234,'r':1119,'s':4111,'t':5111,'u':555,'v':321,'w':0,'x':20,'y':30,'z':40,' ':951,\"'\":753}"
   ]
  },
  {
   "cell_type": "markdown",
   "metadata": {},
   "source": [
    "A l'aide de ce dictionnaire, on veut coder le message suivant : 'bonjour'\n",
    "\n",
    "**1.** Ecrire une fonction f qui va renvoyer le mot codé sous forme d'une liste d'entiers.\n",
    "\n",
    "Par exemple on devra avoir :\n",
    "\n",
    "print(f('bonjour'))\n",
    "[121, 1, 9, 71, 1, 555, 1119]\n",
    "\n",
    "```\n",
    "def f(mot):\n",
    "    \"\"\" :param mot : une chaine de carcatére\n",
    "        :return : le codage de mot dans une liste\n",
    "    \"\"\"\n",
    "```\n",
    "On peut facilement construire un dictionnaire permettant de décoder un message en inversant les clef et les valeurs car toutes les valeurs sont différentes. On utilise la méthode de construcion par compréhension vue dans le cours.\n",
    "```\n",
    "decodage = {codage[clef] : clef for clef in codage  }\n",
    "print(decodage)\n",
    "```"
   ]
  },
  {
   "cell_type": "code",
   "execution_count": 110,
   "metadata": {},
   "outputs": [],
   "source": [
    "def f(mot):\n",
    "    \"\"\" :param mot : une chaine de carcatére\n",
    "        :return : le codage de mot dans une liste\n",
    "    \"\"\"\n",
    "    codage={'a':111,'b':121,'c':211,'d':311,'e':151,'f':411,'g':113,'h':11,'i':21,'j':71,'k':19,'l':81,'m':100,'n':9,'o':1,'p':8,'q':1234,'r':1119,'s':4111,'t':5111,'u':555,'v':321,'w':0,'x':20,'y':30,'z':40,' ':951,\"'\":753}\n",
    "    chiffre=[]\n",
    "    for i in mot:\n",
    "        chiffre.append(codage[i])\n",
    "    return chiffre\n",
    "\n"
   ]
  },
  {
   "cell_type": "code",
   "execution_count": 108,
   "metadata": {},
   "outputs": [
    {
     "name": "stdout",
     "output_type": "stream",
     "text": [
      "[121, 1, 9, 71, 1, 555, 1119]\n",
      "[951]\n",
      "[111, 111, 111, 111, 111, 111, 111, 111, 111, 111, 111, 111, 111, 111, 111, 111, 111, 111, 111, 111]\n",
      "[111, 121, 211, 311, 151, 411, 113, 11, 21, 71, 19, 81, 100, 9, 1, 8, 1234, 1119, 4111, 5111, 753]\n",
      "les majuscules ne sont pas codés\n",
      "Les chiffres ne sont pas codés\n",
      "  est codé par [951]\n",
      "! n'est pas codable\n",
      "\" n'est pas codable\n",
      "# n'est pas codable\n",
      "$ n'est pas codable\n",
      "% n'est pas codable\n",
      "& n'est pas codable\n",
      "' est codé par [753]\n",
      "( n'est pas codable\n",
      ") n'est pas codable\n",
      "* n'est pas codable\n",
      "+ n'est pas codable\n",
      ", n'est pas codable\n",
      "- n'est pas codable\n",
      ". n'est pas codable\n",
      "/ n'est pas codable\n",
      "0 n'est pas codable\n",
      "1 n'est pas codable\n",
      "2 n'est pas codable\n",
      "3 n'est pas codable\n",
      "4 n'est pas codable\n",
      "5 n'est pas codable\n",
      "6 n'est pas codable\n",
      "7 n'est pas codable\n",
      "8 n'est pas codable\n",
      "9 n'est pas codable\n",
      ": n'est pas codable\n",
      "; n'est pas codable\n",
      "< n'est pas codable\n",
      "= n'est pas codable\n",
      "> n'est pas codable\n",
      "? n'est pas codable\n",
      "@ n'est pas codable\n",
      "A n'est pas codable\n",
      "B n'est pas codable\n",
      "C n'est pas codable\n",
      "D n'est pas codable\n",
      "E n'est pas codable\n",
      "F n'est pas codable\n",
      "G n'est pas codable\n",
      "H n'est pas codable\n",
      "I n'est pas codable\n",
      "J n'est pas codable\n",
      "K n'est pas codable\n",
      "L n'est pas codable\n",
      "M n'est pas codable\n",
      "N n'est pas codable\n",
      "O n'est pas codable\n",
      "P n'est pas codable\n",
      "Q n'est pas codable\n",
      "R n'est pas codable\n",
      "S n'est pas codable\n",
      "T n'est pas codable\n",
      "U n'est pas codable\n",
      "V n'est pas codable\n",
      "W n'est pas codable\n",
      "X n'est pas codable\n",
      "Y n'est pas codable\n",
      "Z n'est pas codable\n",
      "[ n'est pas codable\n",
      "\\ n'est pas codable\n",
      "] n'est pas codable\n",
      "^ n'est pas codable\n",
      "_ n'est pas codable\n",
      "` n'est pas codable\n",
      "a est codé par [111]\n",
      "b est codé par [121]\n",
      "c est codé par [211]\n",
      "d est codé par [311]\n",
      "e est codé par [151]\n",
      "f est codé par [411]\n",
      "g est codé par [113]\n",
      "h est codé par [11]\n",
      "i est codé par [21]\n",
      "j est codé par [71]\n",
      "k est codé par [19]\n",
      "l est codé par [81]\n",
      "m est codé par [100]\n",
      "n est codé par [9]\n",
      "o est codé par [1]\n",
      "p est codé par [8]\n",
      "q est codé par [1234]\n",
      "r est codé par [1119]\n",
      "s est codé par [4111]\n",
      "t est codé par [5111]\n",
      "u est codé par [555]\n",
      "v est codé par [321]\n",
      "w est codé par [0]\n",
      "x est codé par [20]\n",
      "y est codé par [30]\n",
      "z est codé par [40]\n",
      "{ n'est pas codable\n",
      "| n'est pas codable\n",
      "} n'est pas codable\n",
      "~ n'est pas codable\n",
      " n'est pas codable\n",
      "[]\n",
      "le mot ibggfwr est chiffré par  [21, 121, 113, 113, 411, 0, 1119]\n"
     ]
    }
   ],
   "source": [
    "#Quelques TESTS \n",
    "print(f(\"bonjour\"))\n",
    "print(f(\" \"))\n",
    "print(f(\"aaaaaaaaaaaaaaaaaaaa\"))\n",
    "print(f(\"abcdefghijklmnopqrst'\"))\n",
    "try:                                           # Execute le bloc suivant \n",
    "    print(f(\"BON\")) \n",
    "except:                                        # SI on rencontre une exeption (une erreur non syntaxique. Par exemple :  ZeroDivisionError: division by zero)\n",
    "    print(\"les majuscules ne sont pas codés\")  # par On affiche le message suivant\n",
    "try:\n",
    "    print(f(\"123456789\")) \n",
    "except:\n",
    "    print(\"Les chiffres ne sont pas codés\")\n",
    "\n",
    "for i in range(32,128):\n",
    "    try:\n",
    "        print(chr(i),\"est codé par\",f(chr(i)))    # la fonction ch() traduit un code en caractere ASCII \n",
    "    except:\n",
    "        print(chr(i),\"n'est pas codable\")\n",
    "\n",
    "print(f(\"\"))\n",
    "\n",
    "#creation d'un mot aléatoire\n",
    "import random\n",
    "mot_auhasard=\"\"\n",
    "longueurmot=random.randint(1,10) #La taille du mot est aléatoirement choisi entre 1 et 10\n",
    "for i in range(longueurmot):\n",
    "    mot_auhasard=mot_auhasard+chr(random.randint(97,122))\n",
    "print(\"le mot\",mot_auhasard,\"est chiffré par \",f(mot_auhasard))"
   ]
  },
  {
   "cell_type": "code",
   "execution_count": 112,
   "metadata": {},
   "outputs": [
    {
     "name": "stdout",
     "output_type": "stream",
     "text": [
      "{111: 'a', 121: 'b', 211: 'c', 311: 'd', 151: 'e', 411: 'f', 113: 'g', 11: 'h', 21: 'i', 71: 'j', 19: 'k', 81: 'l', 100: 'm', 9: 'n', 1: 'o', 8: 'p', 1234: 'q', 1119: 'r', 4111: 's', 5111: 't', 555: 'u', 321: 'v', 0: 'w', 20: 'x', 30: 'y', 40: 'z', 951: ' ', 753: \"'\"}\n"
     ]
    }
   ],
   "source": [
    "codage={'a':111,'b':121,'c':211,'d':311,'e':151,'f':411,'g':113,'h':11,'i':21,'j':71,'k':19,'l':81,'m':100,'n':9,'o':1,'p':8,'q':1234,'r':1119,'s':4111,'t':5111,'u':555,'v':321,'w':0,'x':20,'y':30,'z':40,' ':951,\"'\":753}\n",
    "decodage = {codage[clef] : clef for clef in codage  }\n",
    "print(decodage)"
   ]
  },
  {
   "cell_type": "markdown",
   "metadata": {},
   "source": [
    "#Exercice 2 : question 2.\n",
    "Ecrire une fonction g de décodage qui renvoie le mot codé. Par exemple on devra avoir :\n",
    "```  \n",
    ">>>g([121, 1, 9, 71, 1, 555, 1119])\n",
    "'bonjour'\n",
    "```\n",
    "```\n",
    "def g(liste):\n",
    "    \"\"\" \n",
    "    :param liste : une liste d'entiers correspondants aux codes\n",
    "    :return : le mot décodé (un str)\n",
    "    \"\"\"\n",
    "```"
   ]
  },
  {
   "cell_type": "code",
   "execution_count": 117,
   "metadata": {},
   "outputs": [
    {
     "data": {
      "text/plain": [
       "'bonjour'"
      ]
     },
     "execution_count": 117,
     "metadata": {},
     "output_type": "execute_result"
    }
   ],
   "source": [
    "def g(liste):\n",
    "    \"\"\" \n",
    "    :param liste : une liste d'entiers correspondants aux codes\n",
    "    :return : le mot décodé (un str)\n",
    "    \"\"\"\n",
    "    codage={'a':111,'b':121,'c':211,'d':311,'e':151,'f':411,'g':113,'h':11,'i':21,'j':71,'k':19,'l':81,'m':100,'n':9,'o':1,'p':8,'q':1234,'r':1119,'s':4111,'t':5111,'u':555,'v':321,'w':0,'x':20,'y':30,'z':40,' ':951,\"'\":753}\n",
    "    decodage = {codage[clef] : clef for clef in codage  }\n",
    "    dechiffre=\"\"\n",
    "    for i in liste:\n",
    "        dechiffre=dechiffre+decodage[i]\n",
    "    return dechiffre\n",
    "g([121, 1, 9, 71, 1, 555, 1119])"
   ]
  },
  {
   "cell_type": "markdown",
   "metadata": {},
   "source": [
    "## Exercice 3\n",
    "\n",
    "Le but de cet exercice est de construire le jeu de carte \"bataille\". Voici un extrait de Wikipédia concernant ce jeu de cartes.\n",
    "\n",
    "Le jeu de cartes français ou jeu de 52 cartes est un jeu de cartes organisées en deux couleurs: noir et rouge et en quatre enseignes françaises : pique, cœur, carreau, trèfle.\n",
    "\n",
    "On considère que la valeur d'une carte correspond à 2 si c'est un deux, 3 si c'est un trois, ..., 10 pour un dix, 11 pour un valet, 12 pour une dame, 13 pour un roi et 14 pour un as.\n",
    "\n",
    "**1.**    Créer un dictionnaire nommé valeur_carte dont les clés sont les noms des cartes (2,3,...,10 , valet, Dame, Roi, As) et les valeurs les valeurs de ces clés. Par exemple votre dictionnaire devra renvoyer :\n",
    "```\n",
    ">>> valeur_carte['valet']\n",
    "11\n",
    "```"
   ]
  },
  {
   "cell_type": "code",
   "execution_count": null,
   "metadata": {},
   "outputs": [],
   "source": [
    "#TESTS , ATTENTION LA QUALITE ET LE NOMBRE DE TESTS EST EVALUES"
   ]
  },
  {
   "cell_type": "markdown",
   "metadata": {},
   "source": [
    "**2.** Créer un dictionnaire nommé jeu_carte  dont : \n",
    "- les clés sont les 52 tuples (nom, enseigne) des cartes d'un jeu de 52 cartes :  ('2','pique') , ... ,('as','pique'), ('2','coeur'), ... ,('as','coeur')...\n",
    "- et les valeurs, les valeurs de ces cartes (clés). Par exemple votre dictionnaire devra renvoyer : \n",
    "    On peut le faire manuellement mais c'est long et fastudieux ou en automatisant le procédé. l'automatisation rapporte 5 pts mais le manuel 2pts et les tests 3 pts.\n",
    "``` python\n",
    ">>> jeu_carte[('dame','pique')]\n",
    "12\n",
    "```"
   ]
  },
  {
   "cell_type": "code",
   "execution_count": null,
   "metadata": {},
   "outputs": [],
   "source": [
    "# Exercice 3 : question 2"
   ]
  },
  {
   "cell_type": "code",
   "execution_count": null,
   "metadata": {},
   "outputs": [],
   "source": [
    "#TESTS , ATTENTION LA QUALITE ET LE NOMBRE DE TESTS EST EVALUES"
   ]
  },
  {
   "cell_type": "markdown",
   "metadata": {},
   "source": [
    "Si on veut sélectionner aléatoirement des éléments (créer un échantillon) sans remise d'une liste ou d'un dictionnaire on peut utiliser la fonction random.sample(). Par exemple pour obtenir un échantillon de taille 2 du dictionnaire test :\n",
    "```\n",
    "test = {('2','pique'):2 , ('as','pique'):14, ('3','coeur'):3,  ('as','coeur'):14}\n",
    "import random\n",
    "echant = random.sample(test.keys(), 2)\n",
    "print(echant)\n",
    "```"
   ]
  },
  {
   "cell_type": "code",
   "execution_count": null,
   "metadata": {},
   "outputs": [],
   "source": [
    "#TESTS ,"
   ]
  },
  {
   "cell_type": "markdown",
   "metadata": {},
   "source": [
    "\n",
    "**1.** Créer une fonction bataille(jeu_cartes), en utilisant les fonctions précédentes ou d'autres, qui va choisir au hasard deux cartes distinctes du jeu, les afficher, comparer leur valeurs et donner la carte gagnante ou le cas d'égalité. Par exemple on pourra avoir :\n",
    "```\n",
    ">>> bataille(jeu_cartes)\n",
    "    ('dame','coeur') de valeur 12 bat ('9','pique') de valeur 9\n",
    ">>> bataille(jeu_cartes)\n",
    "    ('10','coeur') de valeur 10 egale ('10','pique') de valeur 9\n",
    "```\n"
   ]
  },
  {
   "cell_type": "code",
   "execution_count": 36,
   "metadata": {},
   "outputs": [],
   "source": [
    "# Exercice 3 : question 4.\n",
    "# ------------------------\n",
    "def bataille(jeu_cartes):\n",
    "    \"\"\" :param  jeu_cartes : un dictionnaire jeu de cartes \n",
    "        :return  carte 1 choisie, carte 2 choisie , les valeurs et la carte la plus forte \n",
    "        : Action :  choisir au hasard deux cartes distinctes du jeu, \n",
    "                    les afficher, comparer leur valeurs \n",
    "                    et afficher la carte gagnante.\n",
    "    \"\"\" "
   ]
  },
  {
   "cell_type": "code",
   "execution_count": null,
   "metadata": {},
   "outputs": [],
   "source": []
  },
  {
   "cell_type": "code",
   "execution_count": null,
   "metadata": {},
   "outputs": [],
   "source": []
  }
 ],
 "metadata": {
  "kernelspec": {
   "display_name": "Python 3",
   "language": "python",
   "name": "python3"
  },
  "language_info": {
   "codemirror_mode": {
    "name": "ipython",
    "version": 3
   },
   "file_extension": ".py",
   "mimetype": "text/x-python",
   "name": "python",
   "nbconvert_exporter": "python",
   "pygments_lexer": "ipython3",
   "version": "3.7.3"
  }
 },
 "nbformat": 4,
 "nbformat_minor": 2
}

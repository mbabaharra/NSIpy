{
 "cells": [
  {
   "cell_type": "markdown",
   "metadata": {},
   "source": [
    "# # Les tableaux\n",
    "## déjà vu\n",
    "###  Listes\n",
    "###3  Comment créer une liste\n",
    "    • Une liste est une collection ordonnée d’objets repérés par leur indice (une liste indexée) : \n",
    "    • Pour créer une liste, rien de plus simple :  lui attribuant un nom et mettre les éléments de la liste entre crochets.\n",
    "Syntaxe : une liste de taille n  \n",
    "                              NomListe=élément_1[élément_1,élément_2,…,élément_n]"
   ]
  },
  {
   "cell_type": "code",
   "execution_count": null,
   "metadata": {},
   "outputs": [],
   "source": [
    "liste1=[]    # Je crée une liste vide\n",
    "print(liste1)    # J'affiche la liste\n",
    "print(len(liste1))    # J'affiche la taille de la liste # len=lenght=longueur"
   ]
  },
  {
   "cell_type": "code",
   "execution_count": 22,
   "metadata": {},
   "outputs": [],
   "source": [
    "mes_notes=[13.75,17,8,16.5,9,11,15]  # mes_notes est une liste numérique."
   ]
  },
  {
   "cell_type": "code",
   "execution_count": null,
   "metadata": {},
   "outputs": [],
   "source": [
    "mes_amis=['Tom','Fanny','Victor','Ysa'] # mes_amis une liste de texte\n",
    "print(mes_amis)"
   ]
  },
  {
   "cell_type": "code",
   "execution_count": null,
   "metadata": {},
   "outputs": [],
   "source": [
    "calepin=['Tom',3112001,'Fanny',15082000,'Victor',13091999,'Ysa',1122002,',23*11+1'] # un petit mélange "
   ]
  },
  {
   "cell_type": "code",
   "execution_count": 13,
   "metadata": {},
   "outputs": [],
   "source": [
    "liste2listes=[[1,2],[3,4,5],[6,7,8,9]] # Une liste de trois listes"
   ]
  },
  {
   "cell_type": "raw",
   "metadata": {},
   "source": [
    "Remarque.   \n",
    "Vous avez déjà rencontrer la fonction python « range() »  qui génère une << liste >> ordonnée d’entiers :"
   ]
  },
  {
   "cell_type": "code",
   "execution_count": null,
   "metadata": {},
   "outputs": [],
   "source": [
    "a=range(7)\n",
    "print(a)"
   ]
  },
  {
   "cell_type": "code",
   "execution_count": null,
   "metadata": {},
   "outputs": [],
   "source": [
    "for i in range(5):\n",
    "      print(i)\n",
    "  "
   ]
  },
  {
   "cell_type": "code",
   "execution_count": null,
   "metadata": {},
   "outputs": [],
   "source": [
    "for i in range(3,9):\n",
    "    print(i)"
   ]
  },
  {
   "cell_type": "code",
   "execution_count": null,
   "metadata": {},
   "outputs": [],
   "source": [
    "for i in range(1,19,3):\n",
    "    print(i)"
   ]
  },
  {
   "cell_type": "raw",
   "metadata": {},
   "source": [
    "Que remarquez vous de ces 4 exemples ci-dessus."
   ]
  },
  {
   "cell_type": "markdown",
   "metadata": {},
   "source": [
    "#### Question: \n",
    "Utiliser la fonction range() pour afficher les multiples de 7 entre 11 et 154"
   ]
  },
  {
   "cell_type": "markdown",
   "metadata": {},
   "source": [
    "L'instruction list() :\n",
    " En utilisant l'instruction liste()On peut transformer le résultat d'une range() en liste : "
   ]
  },
  {
   "cell_type": "code",
   "execution_count": 4,
   "metadata": {},
   "outputs": [
    {
     "name": "stdout",
     "output_type": "stream",
     "text": [
      "b= [0, 1, 2, 3, 4, 5, 6]\n"
     ]
    }
   ],
   "source": [
    "a=range(7)\n",
    "b=list(a)\n",
    "print(\"b=\",b)"
   ]
  },
  {
   "cell_type": "raw",
   "metadata": {},
   "source": [
    "Question : Convertir en liste range(3,9) et range(3,13,3)"
   ]
  },
  {
   "cell_type": "code",
   "execution_count": null,
   "metadata": {},
   "outputs": [],
   "source": []
  },
  {
   "cell_type": "raw",
   "metadata": {},
   "source": [
    "Accéder à un élément ou une partie de la liste:\n",
    "Que font les instruction suivante. Ecrire la réponse après #: "
   ]
  },
  {
   "cell_type": "code",
   "execution_count": null,
   "metadata": {},
   "outputs": [],
   "source": [
    "mes_notes[1]     #"
   ]
  },
  {
   "cell_type": "code",
   "execution_count": null,
   "metadata": {},
   "outputs": [],
   "source": [
    "mes_notes[-1]    #"
   ]
  },
  {
   "cell_type": "code",
   "execution_count": null,
   "metadata": {},
   "outputs": [],
   "source": [
    "mes_notes[7]     #"
   ]
  },
  {
   "cell_type": "code",
   "execution_count": null,
   "metadata": {},
   "outputs": [],
   "source": [
    "mes_notes[2:]    #"
   ]
  },
  {
   "cell_type": "code",
   "execution_count": null,
   "metadata": {},
   "outputs": [],
   "source": [
    "mes_notes[:5]    #"
   ]
  },
  {
   "cell_type": "code",
   "execution_count": null,
   "metadata": {},
   "outputs": [],
   "source": [
    "mes_notes[2:5]   #"
   ]
  },
  {
   "cell_type": "code",
   "execution_count": 14,
   "metadata": {},
   "outputs": [
    {
     "data": {
      "text/plain": [
       "[3, 4, 5]"
      ]
     },
     "execution_count": 14,
     "metadata": {},
     "output_type": "execute_result"
    }
   ],
   "source": [
    "liste2listes[1]"
   ]
  },
  {
   "cell_type": "markdown",
   "metadata": {},
   "source": [
    "## Quelques Opérations sur les listes (voir page 386 manuel de maths)\n",
    "1. Ordonner une liste : \n",
    "On peut  ordonner une liste de nombres dans l’ordre croissant par les fonction sort() ou sorted(). "
   ]
  },
  {
   "cell_type": "code",
   "execution_count": null,
   "metadata": {},
   "outputs": [],
   "source": [
    "mes_notes.sort()\n",
    "print(mes_notes)"
   ]
  },
  {
   "cell_type": "code",
   "execution_count": null,
   "metadata": {},
   "outputs": [],
   "source": [
    "sorted(mes_notes)\n",
    "print(mes_notes)"
   ]
  },
  {
   "cell_type": "markdown",
   "metadata": {},
   "source": [
    "2. Ajouter un élèment à une liste.\n",
    "On utilise l'instruction append() peut ajouter un élèment à une liste, dans le sens de la agrandir.\n",
    "\n",
    "    liste2 = [19, 17, 16, 19,21]\n",
    "    liste2.append(9)\n",
    "\n",
    "Ajouter une nouvelle note de 17.5 à la liste des notes mes_notes vue ci-dessus."
   ]
  },
  {
   "cell_type": "code",
   "execution_count": null,
   "metadata": {},
   "outputs": [],
   "source": []
  },
  {
   "cell_type": "markdown",
   "metadata": {},
   "source": [
    "3. la méthode reverse inverse l'ordre des éléments d'une liste."
   ]
  },
  {
   "cell_type": "code",
   "execution_count": 24,
   "metadata": {},
   "outputs": [
    {
     "name": "stdout",
     "output_type": "stream",
     "text": [
      "[15, 11, 9, 16.5, 8, 17, 13.75]\n",
      "[13.75, 17, 8, 16.5, 9, 11, 15]\n"
     ]
    }
   ],
   "source": [
    "print(mes_notes)\n",
    "mes_notes.reverse()\n",
    "print(mes_notes)"
   ]
  },
  {
   "cell_type": "markdown",
   "metadata": {},
   "source": [
    "4. supprimer un élément.\n",
    "Plusieurs méthodes permettent de supprimer un élément. Soit on connaît l'élément à suppra et on utilise la méthode remove, soit on connaît son indice et on souhaite récupérer sa valeur utilise alors la méthode pop."
   ]
  },
  {
   "cell_type": "code",
   "execution_count": 30,
   "metadata": {},
   "outputs": [
    {
     "data": {
      "text/plain": [
       "[1, 1, 2, 1, 2]"
      ]
     },
     "execution_count": 30,
     "metadata": {},
     "output_type": "execute_result"
    }
   ],
   "source": [
    "liste = [1, 2, 1, 2, 1, 2]\n",
    "liste.remove (2)\n",
    "liste"
   ]
  },
  {
   "cell_type": "code",
   "execution_count": 35,
   "metadata": {},
   "outputs": [
    {
     "data": {
      "text/plain": [
       "[1, 1, 2]"
      ]
     },
     "execution_count": 35,
     "metadata": {},
     "output_type": "execute_result"
    }
   ],
   "source": [
    "liste\n",
    "a = liste.pop(3)"
   ]
  },
  {
   "cell_type": "markdown",
   "metadata": {},
   "source": [
    "# Construction par compréhension\n",
    "La construction par compréhension est un procédé très utile pour la construction d'une liste.\n",
    "De manière générale, l'instruction s'écrit : \n",
    "                            [expression(i) for i in objet] \n",
    "où expression(i) : est une expression dépendant de i \n",
    "et objet : est un objet sur lequel on peut itérer.\n",
    "###Exemple\n",
    "Le code qui suit crée une liste pairs à partir d'une liste de nombres"
   ]
  },
  {
   "cell_type": "code",
   "execution_count": 36,
   "metadata": {},
   "outputs": [],
   "source": [
    "nombres = [5, 11, 3, 17, 15]  # l'objet ici une liste de taille 5\n",
    "doubles=[2*n for n in nombres]  # L'expression ici est 2*n "
   ]
  },
  {
   "cell_type": "markdown",
   "metadata": {},
   "source": [
    "Application. Soit f  une fonction  qui s'applique au type des éléments d'une liste liste1, on\n",
    "pent construire la liste liste2 des images de chaque élément de liste1 avec le code suivant:\n",
    "```\n",
    "def f(x):\n",
    "    return ......\n",
    "liste1= ......  \n",
    "liste2 = [f(x) for x in liste1]\n",
    "```"
   ]
  },
  {
   "cell_type": "code",
   "execution_count": null,
   "metadata": {},
   "outputs": [],
   "source": [
    "def f(x):                 # Dans cet exemple f(x)=x²+1 \n",
    "    return x**2+1     \n",
    "liste1=list(range(-5,6))\n",
    "liste2=[f(x) for x in liste1]\n",
    "liste2"
   ]
  },
  {
   "cell_type": "code",
   "execution_count": null,
   "metadata": {},
   "outputs": [],
   "source": []
  },
  {
   "cell_type": "markdown",
   "metadata": {},
   "source": [
    "# CHAÎNE DE CARACTÈRES \n",
    "Une chaîne de caractères est une liste particulière avec des méthodes associées.\n",
    "On utilise des guillemets pour délimiter une chaîne. Par exemple : \n",
    "``` \n",
    "txt=\"Vive le numérique\" \n",
    "type(txt)\n",
    "```\n",
    "Mécanismes identiques aux listes et au tuples\n",
    "```\n",
    "txt=\"Vive le numérique\"\n",
    "print(txt)\n",
    "long=len(txt)\n",
    "print(\" la taille de txt :\",long)\n",
    "ext=txt[:4]\n",
    "```\n",
    "- Définir une variable de type string.\n",
    "- Tester les mécanismes ci dessus.\n"
   ]
  },
  {
   "cell_type": "code",
   "execution_count": 3,
   "metadata": {},
   "outputs": [
    {
     "data": {
      "text/plain": [
       "str"
      ]
     },
     "execution_count": 3,
     "metadata": {},
     "output_type": "execute_result"
    }
   ],
   "source": [
    "txt=\"dd\"\n",
    "type(txt)"
   ]
  },
  {
   "cell_type": "code",
   "execution_count": 1,
   "metadata": {},
   "outputs": [
    {
     "name": "stdout",
     "output_type": "stream",
     "text": [
      "vive le numérique\n",
      " la taille de txt : 17\n",
      "vive\n"
     ]
    }
   ],
   "source": [
    "txt=\"vive le numérique\"\n",
    "print(txt)\n",
    "long=len(txt)\n",
    "print(\" la taille de txt :\",long)\n",
    "ext=txt[:4]\n",
    "print(ext)"
   ]
  },
  {
   "cell_type": "code",
   "execution_count": null,
   "metadata": {},
   "outputs": [],
   "source": []
  },
  {
   "cell_type": "markdown",
   "metadata": {},
   "source": [
    "```\n",
    "txt=\"vive le numérique\"\n",
    "txt[0]=\"V\"\n",
    "```\n",
    "la dernière affectation provoque l'erreure suivante :\n",
    "```\n",
    "--------------------------\n",
    "TypeErrorTraceback (most recent call last)\n",
    "<ipython-input-10-83985dced83b> in <module>\n",
    "----> 1 txt[0]=\"V\"\n",
    "\n",
    "TypeError: 'str' object does not support item assignment\n",
    "```\n",
    "#### TRADUCTION DE L'ERREUR : \n",
    "- Une chaîne n’est pas modifiable. "
   ]
  },
  {
   "cell_type": "code",
   "execution_count": 10,
   "metadata": {},
   "outputs": [
    {
     "ename": "TypeError",
     "evalue": "'str' object does not support item assignment",
     "output_type": "error",
     "traceback": [
      "\u001b[0;31m--------------------------\u001b[0m",
      "\u001b[0;31mTypeError\u001b[0mTraceback (most recent call last)",
      "\u001b[0;32m<ipython-input-10-83985dced83b>\u001b[0m in \u001b[0;36m<module>\u001b[0;34m\u001b[0m\n\u001b[0;32m----> 1\u001b[0;31m \u001b[0mtxt\u001b[0m\u001b[0;34m[\u001b[0m\u001b[0;36m0\u001b[0m\u001b[0;34m]\u001b[0m\u001b[0;34m=\u001b[0m\u001b[0;34m\"V\"\u001b[0m\u001b[0;34m\u001b[0m\u001b[0;34m\u001b[0m\u001b[0m\n\u001b[0m",
      "\u001b[0;31mTypeError\u001b[0m: 'str' object does not support item assignment"
     ]
    }
   ],
   "source": [
    "txt[0]=\"V\""
   ]
  },
  {
   "cell_type": "markdown",
   "metadata": {},
   "source": [
    "\n",
    "###  Remarque. \n",
    "Pour modifier une chaine de caractère, on peut utiliser la méthode  replace(old,new,nombre) en mettant\n",
    "le résultat de replace  dans une autre chaîne.\n",
    "#### Exemple à tester : \n",
    "```\n",
    "txt_modif=txt.replace(\"e\",\"E\",3)\n",
    "print(txt_modif)\n",
    "```\n",
    "Question. Que vaut la la variable txt ? "
   ]
  },
  {
   "cell_type": "code",
   "execution_count": null,
   "metadata": {},
   "outputs": [],
   "source": []
  },
  {
   "cell_type": "markdown",
   "metadata": {},
   "source": [
    "### Quelques méthodes pour manipuler les chaînes de caractères \n",
    "- Mettre en majuscute méthodes associées\n",
    "```\n",
    "Txt = txt.upper()\n",
    "print(Txt)\n",
    "```\n",
    "- recherche d'une sous-chaîne\n",
    "```\n",
    "id = Txt.find(\"NU\") # \n",
    "print(id)\n",
    "```\n",
    "- Nombre d'occurences\n",
    "```\n",
    "nb = Txt.count(\"E\")\n",
    "print(nb)\n",
    "```\n",
    "- remplacement de « O » par « A »\n",
    "```\n",
    "Txt_modif = Txt.replace(\"E\",\"A\")\n",
    "print(Txt_modif)\n",
    "```\n",
    "A faire.\n",
    "Tester ces exemples."
   ]
  },
  {
   "cell_type": "code",
   "execution_count": 15,
   "metadata": {},
   "outputs": [
    {
     "name": "stdout",
     "output_type": "stream",
     "text": [
      "VIVE\n",
      "LE\n",
      "NUMÉRIQUE\n"
     ]
    }
   ],
   "source": [
    "#former une chaîne à\n",
    "#partir d’une liste\n",
    "SB = \"\\n\".join(decoupe)\n",
    "print(SB)"
   ]
  },
  {
   "cell_type": "markdown",
   "metadata": {},
   "source": [
    "### Transformation explicite en liste (pour traitements).\n",
    "On peut transformer une chaîne en liste pour réaliser des traitements sophistiqués. \n",
    "- transformation en liste\n",
    "```\n",
    "Txt=\"VIVE LE NUMÉRIQUE\"\n",
    "Txt_liste = list(Txt)\n",
    "print(Txt_liste)\n",
    "```\n",
    "-  par séparateur\n",
    "```\n",
    "decoupe = Txt.split(\" \")\n",
    "print(decoupe)\n",
    "```\n",
    "- former une chaîne à #partir d’une liste\n",
    "Dans l'exemple suivant, les mots de la liste seront fusionnés avec le séparateur \"-\". Tout séparateur est possible, y\n",
    "compris la chaîne vide.\n",
    "```\n",
    "regroupe = \"-\".join(decoupe)\n",
    "print(regroupe)\n",
    "```\n",
    "A faire. \n",
    "- Tester ces exemples.\n",
    "- Tester le dernier exemple avec les séparateurs \"\\t\" et \"\\n\"\n",
    "\n"
   ]
  },
  {
   "cell_type": "code",
   "execution_count": null,
   "metadata": {},
   "outputs": [],
   "source": []
  },
  {
   "cell_type": "markdown",
   "metadata": {},
   "source": [
    "### Exercice.\n",
    "On donne le programme ci-dessous\n",
    "```\n",
    "def compter(texte, lettre):\n",
    "    total_texte = 0 # Pour compter le nombre de caractères\n",
    "    total_lettre = 0 # Pour compter le nombre de lettre\n",
    "    for l in texte: # On parcoure le texte\n",
    "        if l !=\" \":\n",
    "            total_texte=total_texte+1\n",
    "        if l==lettre:\n",
    "            total_lettre=total_lettre+1\n",
    "    print(total_texte,total_lettre\n",
    "```\n",
    "- Que fait ce programme.\n",
    "- Modifier ce programme pour qu'il demande à l'utilaseur de saisir son nom et son prénom et de calculer le nombre d'une lettre de son choix."
   ]
  },
  {
   "cell_type": "code",
   "execution_count": null,
   "metadata": {},
   "outputs": [],
   "source": []
  },
  {
   "cell_type": "markdown",
   "metadata": {},
   "source": [
    "### Exercice (Devoir Maison)\n",
    "On donne le programme ci-dessous\n",
    "```\n",
    "def compter(texte, lettre):\n",
    "    total_texte = 0 # Pour compter le nombre de caractères\n",
    "    total_lettre = 0 # Pour compter le nombre de lettre\n",
    "    for l in texte: # On parcoure le texte\n",
    "        if l !=\" \":\n",
    "            total_texte=total_texte+1\n",
    "        if l==lettre:\n",
    "            total_lettre=total_lettre+1\n",
    "    print(total_texte,total_lettre\n",
    "```\n",
    "- Que fait ce programme.\n",
    "- On considère le texte ci-dessous. Calculer \n",
    "  -- le nombre du caractère 's' \n",
    "  -- la moyenne du caractère 's'\n",
    "  -- la moyenne de tous les caractères de l'alphabet.\n",
    "<< \n",
    "Son pouls battait trop fort. Il avait chaud. Il ouvrit son vasistas, scruta la nuit. Il faisait doux. Un bruit indistinct montait du faubourg. Un carillon, plus lourd qu’un glas, plus sourd qu’un tocsin, plus profond\n",
    "qu’un bourdon, non loin, sonna trois coups. Du canal Saint-Martin, un clapotis plaintif signalait un chaland qui passait. Sur l’abattant du vasistas, un animal au thorax indigo, à l’aiguillon safran, ni un cafard,\n",
    "ni un charançon, mais plutôt un artison, s’avançait, traînant un brin d’alfa. Il s’approcha, voulant l’aplatir d’un coup vif, mais l’animal prit son vol, disparaissant dans la nuit avant qu’il ait pu l’assaillir.\n",
    ">>>"
   ]
  },
  {
   "cell_type": "markdown",
   "metadata": {},
   "source": [
    "# Les dictionnaires\n",
    "## Définition\n",
    "\n",
    "  Un dictionnaire, objet de type dict, ressemble à une liste. La principale différence en\n",
    "indices ne sont pas obligatoirement des entiers (0, 1, 2, ...) et peuvent être du type str, float, tuples (à condition que les tuples ne contiennent que des entiers, des flottants ou des n-uplets). \n",
    "Ces indices ne sont pas ordonnés et s'appellent des <b> clés <\\b>. A chaque clé correspond une valeur. \n",
    "    \n",
    "   Un dictionnaire est donc un ensemble de couples clé-valeur. Pour créer un dictionair, on écrit \n",
    "entre des accolades les couples séparés par des virgules, chaque couple étant composé d'une clé et de la valeur correspondante séparées par deux-points.\n",
    "### Exemples : \n",
    "```\n",
    "dico = {\"yes\": \"oui\", \"no\": \"non\",'and\": \"et\", \"or\": \"ou\"}\n",
    "```\n",
    "Ou bien: \n",
    "```\n",
    "jours={\"dimanche\": 1, \"lundi\": 2, \"mardi\": 3, \"mercredi\": 4,\n",
    "\"jeudi\": 5, \"vendredi\": 6, \"samedi\": 7}.\n",
    "```\n",
    "## Construction\n",
    "  Il existe divers procédés de construction d'un dictionnaire afin d'éviter d'ajouter les n éléments\n",
    "un par un.\n",
    "   - Conversion d'une liste en dictionnaire  \n",
    "   La fonction ``` dict()``` permet de convertir une liste de listes à deux éléments en dictionnaire.\n",
    " ### Exemple\n",
    " ```\n",
    " liste = [['a', 1], ['b', 2], ['c', 31]]\n",
    " d = dict (1iste)\n",
    " ```\n",
    " Ce qui donne en sortie \n",
    " ```\n",
    " print(d)\n",
    " {a': 1, 'b': 2, 'c': 3}\n",
    " ```\n",
    "- La construction par compréhension, \n",
    "C'est procédé très pratique pour construire des listes, est aussi permise pour les dictionnaires,\n",
    "### Exemple\n",
    "```\n",
    "d = {x: x**2 for x in range (1, 5)}\n",
    "print(d) \n",
    "{1: 1, 2: 4, 3: 9, 4: 16}\n",
    " ```\n",
    " - Utilisation de la fonction dict()\n",
    " On peur créer un dictionnaire, à l'aide de la fonction dict avec en paramètres des couples de la forme nom=valeur.\n",
    " ### Exemple\n",
    " ```\n",
    " d = dict(one=1,two=2, three=3,f our=4)\n",
    " print(d)\n",
    "{'one':1,'two':2, 'three':3,'four':4}\n"
   ]
  },
  {
   "cell_type": "code",
   "execution_count": null,
   "metadata": {},
   "outputs": [],
   "source": [
    "\n"
   ]
  },
  {
   "cell_type": "markdown",
   "metadata": {},
   "source": [
    "A suivre !"
   ]
  }
 ],
 "metadata": {
  "kernelspec": {
   "display_name": "Python 3",
   "language": "python",
   "name": "python3"
  },
  "language_info": {
   "codemirror_mode": {
    "name": "ipython",
    "version": 3
   },
   "file_extension": ".py",
   "mimetype": "text/x-python",
   "name": "python",
   "nbconvert_exporter": "python",
   "pygments_lexer": "ipython3",
   "version": "3.7.4"
  }
 },
 "nbformat": 4,
 "nbformat_minor": 2
}

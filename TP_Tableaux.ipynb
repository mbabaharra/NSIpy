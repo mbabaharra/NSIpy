{
 "cells": [
  {
   "cell_type": "markdown",
   "metadata": {},
   "source": [
    "# I. Les tableaux\n",
    "## 1.  Listes\n",
    "###  a) Comment créer une liste\n",
    "    • Une liste est une collection ordonnée d’objets repérés par leur indice (une liste indexée) : \n",
    "    • Pour créer une liste, rien de plus simple :  lui attribuant un nom et mettre les éléments de la liste entre crochets.\n",
    "Syntaxe : une liste de taille n  \n",
    "                              NomListe=[élément_1,élément_2,…,élément_n]"
   ]
  },
  {
   "cell_type": "code",
   "execution_count": null,
   "metadata": {},
   "outputs": [],
   "source": [
    "liste1=[]    # Je crée une liste vide\n",
    "print(liste1)    # J'affiche la liste\n",
    "print(len(liste1))    # J'affiche la taille de la liste # len=lenght=longueur"
   ]
  },
  {
   "cell_type": "code",
   "execution_count": null,
   "metadata": {},
   "outputs": [],
   "source": [
    "mes_notes=[13.75,17,8,16.5,9,11,15]  # mes_notes est une liste numérique."
   ]
  },
  {
   "cell_type": "code",
   "execution_count": null,
   "metadata": {},
   "outputs": [],
   "source": [
    "mes_amis=['Tom','Fanny','Victor','Ysa'] # mes_amis une liste de texte\n",
    "print(mes_amis)"
   ]
  },
  {
   "cell_type": "code",
   "execution_count": null,
   "metadata": {},
   "outputs": [],
   "source": [
    "calepin=['Tom',3112001,'Fanny',15082000,'Victor',13091999,'Ysa',1122002,',23*11+1'] # un petit mélange "
   ]
  },
  {
   "cell_type": "code",
   "execution_count": null,
   "metadata": {},
   "outputs": [],
   "source": [
    "liste2listes=[[1,2],[3,4,5],[6,7,8,9]] # Une liste de trois listes"
   ]
  },
  {
   "cell_type": "raw",
   "metadata": {},
   "source": [
    "Remarque.   \n",
    "Vous avez déjà rencontrer la fonction python « range() »  qui génère une << liste >> ordonnée d’entiers :"
   ]
  },
  {
   "cell_type": "code",
   "execution_count": null,
   "metadata": {},
   "outputs": [],
   "source": [
    "a=range(7)\n",
    "print(a)"
   ]
  },
  {
   "cell_type": "code",
   "execution_count": null,
   "metadata": {},
   "outputs": [],
   "source": [
    "for i in range(5):\n",
    "      print(i)\n",
    "  "
   ]
  },
  {
   "cell_type": "code",
   "execution_count": null,
   "metadata": {},
   "outputs": [],
   "source": [
    "for i in range(3,9):\n",
    "    print(i)"
   ]
  },
  {
   "cell_type": "code",
   "execution_count": null,
   "metadata": {},
   "outputs": [],
   "source": [
    "for i in range(1,19,3):\n",
    "    print(i)"
   ]
  },
  {
   "cell_type": "raw",
   "metadata": {},
   "source": [
    "Que remarquez vous de ces 4 exemples ci-dessus."
   ]
  },
  {
   "cell_type": "markdown",
   "metadata": {},
   "source": [
    "#### Question: \n",
    "Utiliser la fonction range() pour afficher les multiples de 7 entre 11 et 154"
   ]
  },
  {
   "cell_type": "markdown",
   "metadata": {},
   "source": [
    "L'instruction list() :\n",
    " En utilisant l'instruction liste()On peut transformer le résultat d'une range() en liste : "
   ]
  },
  {
   "cell_type": "code",
   "execution_count": null,
   "metadata": {},
   "outputs": [],
   "source": [
    "a=range(7)\n",
    "b=list(a)\n",
    "print(\"b=\",b)"
   ]
  },
  {
   "cell_type": "raw",
   "metadata": {},
   "source": [
    "Question : Convertir en liste range(3,9) et range(3,13,3)"
   ]
  },
  {
   "cell_type": "code",
   "execution_count": null,
   "metadata": {},
   "outputs": [],
   "source": []
  },
  {
   "cell_type": "raw",
   "metadata": {},
   "source": [
    "Accéder à un élément ou une partie de la liste:\n",
    "Que font les instruction suivante. Ecrire la réponse après #: "
   ]
  },
  {
   "cell_type": "code",
   "execution_count": null,
   "metadata": {},
   "outputs": [],
   "source": [
    "mes_notes[1]     #"
   ]
  },
  {
   "cell_type": "code",
   "execution_count": null,
   "metadata": {},
   "outputs": [],
   "source": [
    "mes_notes[-1]    #"
   ]
  },
  {
   "cell_type": "code",
   "execution_count": null,
   "metadata": {},
   "outputs": [],
   "source": [
    "mes_notes[7]     #"
   ]
  },
  {
   "cell_type": "code",
   "execution_count": null,
   "metadata": {},
   "outputs": [],
   "source": [
    "mes_notes[2:]    #"
   ]
  },
  {
   "cell_type": "code",
   "execution_count": null,
   "metadata": {},
   "outputs": [],
   "source": [
    "mes_notes[:5]    #"
   ]
  },
  {
   "cell_type": "code",
   "execution_count": null,
   "metadata": {},
   "outputs": [],
   "source": [
    "mes_notes[2:5]   #"
   ]
  },
  {
   "cell_type": "code",
   "execution_count": null,
   "metadata": {},
   "outputs": [],
   "source": [
    "liste2listes[1]"
   ]
  },
  {
   "cell_type": "markdown",
   "metadata": {},
   "source": [
    "## 2. Quelques Opérations sur les listes (voir page 386 manuel de maths)\n",
    "1. Ordonner une liste : \n",
    "On peut  ordonner une liste de nombres dans l’ordre croissant par les fonction sort() ou sorted(). "
   ]
  },
  {
   "cell_type": "code",
   "execution_count": null,
   "metadata": {},
   "outputs": [],
   "source": [
    "mes_notes.sort()\n",
    "print(mes_notes)"
   ]
  },
  {
   "cell_type": "code",
   "execution_count": null,
   "metadata": {},
   "outputs": [],
   "source": [
    "sorted(mes_notes)\n",
    "print(mes_notes)"
   ]
  },
  {
   "cell_type": "markdown",
   "metadata": {},
   "source": [
    "2. Ajouter un élèment à une liste.\n",
    "On utilise l'instruction append() peut ajouter un élèment à une liste, dans le sens de la agrandir.\n",
    "\n",
    "    liste2 = [19, 17, 16, 19,21]\n",
    "    liste2.append(9)\n",
    "\n",
    "Ajouter une nouvelle note de 17.5 à la liste des notes mes_notes vue ci-dessus."
   ]
  },
  {
   "cell_type": "code",
   "execution_count": null,
   "metadata": {},
   "outputs": [],
   "source": []
  },
  {
   "cell_type": "markdown",
   "metadata": {},
   "source": [
    "3. la méthode reverse inverse l'ordre des éléments d'une liste."
   ]
  },
  {
   "cell_type": "code",
   "execution_count": null,
   "metadata": {},
   "outputs": [],
   "source": [
    "print(mes_notes)\n",
    "mes_notes.reverse()\n",
    "print(mes_notes)"
   ]
  },
  {
   "cell_type": "markdown",
   "metadata": {},
   "source": [
    "4. supprimer un élément.\n",
    "Plusieurs méthodes permettent de supprimer un élément. Soit on connaît l'élément à suppra et on utilise la méthode remove, soit on connaît son indice et on souhaite récupérer sa valeur utilise alors la méthode pop."
   ]
  },
  {
   "cell_type": "code",
   "execution_count": null,
   "metadata": {},
   "outputs": [],
   "source": [
    "liste = [1, 2, 1, 2, 1, 2]\n",
    "liste.remove (2)\n",
    "liste"
   ]
  },
  {
   "cell_type": "code",
   "execution_count": null,
   "metadata": {},
   "outputs": [],
   "source": [
    "liste = [1, 2, 1, 2, 1, 2]\n",
    "a = liste.pop(3)\n",
    "print(a)\n",
    "print(liste)"
   ]
  },
  {
   "cell_type": "markdown",
   "metadata": {},
   "source": [
    "##  3. Construction par compréhension\n",
    "La construction par compréhension est un procédé très utile pour la construction d'une liste.\n",
    "De manière générale, l'instruction s'écrit : \n",
    "``` \n",
    "[expression(i) for i in objet]\n",
    "``` \n",
    "où `expression(i)` : est une expression dépendant de i et objet : est un objet sur lequel on peut itérer (une liste ).\n",
    "#### Exemple\n",
    "Le code suivant crée une liste pairs à partir d'une liste de nombres\n",
    "```\n",
    "nombres = [5, 11, 3, 17, 15]  # l'objet ici une liste de taille 5\n",
    "doubles=[2*n for n in nombres]  # L'expression ici est 2*n \n",
    "```"
   ]
  },
  {
   "cell_type": "code",
   "execution_count": null,
   "metadata": {},
   "outputs": [],
   "source": []
  },
  {
   "cell_type": "markdown",
   "metadata": {},
   "source": [
    "Application. Soit f  une fonction  qui s'applique au type des éléments d'une liste liste1, on\n",
    "pent construire la liste liste2 des images de chaque élément de liste1 avec le code suivant:\n",
    "```\n",
    "def f(x):\n",
    "    return ......\n",
    "liste1= ......  \n",
    "liste2 = [f(x) for x in liste1]\n",
    "```"
   ]
  },
  {
   "cell_type": "code",
   "execution_count": null,
   "metadata": {},
   "outputs": [],
   "source": [
    "def f(x):                 # Dans cet exemple f(x)=x²+1 \n",
    "    return x**2+1     \n",
    "liste1=list(range(-5,6))\n",
    "liste2=[f(x) for x in liste1]\n",
    "liste2"
   ]
  },
  {
   "cell_type": "code",
   "execution_count": null,
   "metadata": {},
   "outputs": [],
   "source": []
  },
  {
   "cell_type": "markdown",
   "metadata": {},
   "source": [
    "# II. CHAÎNE DE CARACTÈRES \n",
    "Une chaîne de caractères est une liste particulière avec des méthodes associées.\n",
    "On utilise des guillemets pour délimiter une chaîne. Par exemple : \n",
    "``` \n",
    "txt=\"Vive le numérique\" \n",
    "type(txt)\n",
    "```\n",
    "Mécanismes identiques aux listes et au tuples\n",
    "```\n",
    "txt=\"Vive le numérique\"\n",
    "print(txt)\n",
    "long=len(txt)\n",
    "print(\" la taille de txt :\",long)\n",
    "ext=txt[:4]\n",
    "```\n",
    "- Définir une variable de type string.\n",
    "- Tester les mécanismes ci dessus.\n"
   ]
  },
  {
   "cell_type": "code",
   "execution_count": null,
   "metadata": {},
   "outputs": [],
   "source": [
    "txt=\"dd\"\n",
    "type(txt)"
   ]
  },
  {
   "cell_type": "code",
   "execution_count": null,
   "metadata": {},
   "outputs": [],
   "source": [
    "txt=\"vive le numérique\"\n",
    "print(txt)\n",
    "long=len(txt)\n",
    "print(\" la taille de txt :\",long)\n",
    "ext=txt[:4]\n",
    "print(ext)"
   ]
  },
  {
   "cell_type": "code",
   "execution_count": null,
   "metadata": {},
   "outputs": [],
   "source": []
  },
  {
   "cell_type": "markdown",
   "metadata": {},
   "source": [
    "```\n",
    "txt=\"vive le numérique\"\n",
    "txt[0]=\"V\"\n",
    "```\n",
    "la dernière affectation provoque l'erreure suivante :\n",
    "```\n",
    "--------------------------\n",
    "TypeErrorTraceback (most recent call last)\n",
    "<ipython-input-10-83985dced83b> in <module>\n",
    "----> 1 txt[0]=\"V\"\n",
    "\n",
    "TypeError: 'str' object does not support item assignment\n",
    "```\n",
    "#### TRADUCTION DE L'ERREUR : \n",
    "- Une chaîne n’est pas modifiable. "
   ]
  },
  {
   "cell_type": "code",
   "execution_count": null,
   "metadata": {},
   "outputs": [],
   "source": [
    "txt[0]=\"V\""
   ]
  },
  {
   "cell_type": "markdown",
   "metadata": {},
   "source": [
    "\n",
    "###  Remarque. \n",
    "Pour modifier une chaine de caractère, on peut utiliser la méthode  replace(old,new,nombre) en mettant\n",
    "le résultat de replace  dans une autre chaîne.\n",
    "#### Exemple à tester : \n",
    "```\n",
    "txt_modif=txt.replace(\"e\",\"E\",3)\n",
    "print(txt_modif)\n",
    "```\n",
    "Question. Que vaut la la variable txt ? "
   ]
  },
  {
   "cell_type": "code",
   "execution_count": null,
   "metadata": {},
   "outputs": [],
   "source": []
  },
  {
   "cell_type": "markdown",
   "metadata": {},
   "source": [
    "### Quelques méthodes pour manipuler les chaînes de caractères \n",
    "- Mettre en majuscute méthodes associées\n",
    "```\n",
    "Txt = txt.upper()\n",
    "print(Txt)\n",
    "```\n",
    "- recherche d'une sous-chaîne\n",
    "```\n",
    "id = Txt.find(\"NU\") # \n",
    "print(id)\n",
    "```\n",
    "- Nombre d'occurences\n",
    "```\n",
    "nb = Txt.count(\"E\")\n",
    "print(nb)\n",
    "```\n",
    "- remplacement de « O » par « A »\n",
    "```\n",
    "Txt_modif = Txt.replace(\"E\",\"A\")\n",
    "print(Txt_modif)\n",
    "```\n",
    "A faire.\n",
    "Tester ces exemples."
   ]
  },
  {
   "cell_type": "code",
   "execution_count": null,
   "metadata": {},
   "outputs": [],
   "source": [
    "#former une chaîne à\n",
    "#partir d’une liste\n",
    "SB = \"\\n\".join(decoupe)\n",
    "print(SB)"
   ]
  },
  {
   "cell_type": "markdown",
   "metadata": {},
   "source": [
    "### Transformation explicite en liste (pour traitements).\n",
    "On peut transformer une chaîne en liste pour réaliser des traitements sophistiqués. \n",
    "- transformation en liste\n",
    "```\n",
    "Txt=\"VIVE LE NUMÉRIQUE\"\n",
    "Txt_liste = list(Txt)\n",
    "print(Txt_liste)\n",
    "```\n",
    "-  par séparateur\n",
    "```\n",
    "decoupe = Txt.split(\" \")\n",
    "print(decoupe)\n",
    "```\n",
    "- former une chaîne à #partir d’une liste\n",
    "Dans l'exemple suivant, les mots de la liste seront fusionnés avec le séparateur \"-\". Tout séparateur est possible, y\n",
    "compris la chaîne vide.\n",
    "```\n",
    "regroupe = \"-\".join(decoupe)\n",
    "print(regroupe)\n",
    "```\n",
    "A faire. \n",
    "- Tester ces exemples.\n",
    "- Tester le dernier exemple avec les séparateurs \"\\t\" et \"\\n\"\n",
    "\n"
   ]
  },
  {
   "cell_type": "code",
   "execution_count": null,
   "metadata": {},
   "outputs": [],
   "source": []
  },
  {
   "cell_type": "markdown",
   "metadata": {},
   "source": [
    "### Exercice.\n",
    "On donne le programme ci-dessous\n",
    "```\n",
    "def compter(texte, lettre):\n",
    "    total_texte = 0 # Pour compter le nombre de caractères\n",
    "    total_lettre = 0 # Pour compter le nombre de lettre\n",
    "    for l in texte: # On parcoure le texte\n",
    "        if l !=\" \":\n",
    "            total_texte=total_texte+1\n",
    "        if l==lettre:\n",
    "            total_lettre=total_lettre+1\n",
    "    print(total_texte,total_lettre)\n",
    "```\n",
    "- Que fait ce programme.\n",
    "- Modifier ce programme pour qu'il demande à l'utilaseur de saisir son nom et son prénom et de calculer le nombre d'une lettre de son choix."
   ]
  },
  {
   "cell_type": "code",
   "execution_count": null,
   "metadata": {},
   "outputs": [],
   "source": []
  },
  {
   "cell_type": "markdown",
   "metadata": {},
   "source": [
    "### Exercice (Devoir Maison)\n",
    "On donne le programme ci-dessous\n",
    "```\n",
    "def compter(texte, lettre):\n",
    "    total_texte = 0 # Pour compter le nombre de caractères\n",
    "    total_lettre = 0 # Pour compter le nombre de lettre\n",
    "    for l in texte: # On parcoure le texte\n",
    "        if l !=\" \":\n",
    "            total_texte=total_texte+1\n",
    "        if l==lettre:\n",
    "            total_lettre=total_lettre+1\n",
    "    print(total_texte,total_lettre)\n",
    "```\n",
    "- Que fait ce programme.\n",
    "- On considère le texte ci-dessous. Calculer \n",
    "  -- le nombre du caractère 's' \n",
    "  -- la fréquence du caractère 's'\n",
    "  -- la fréquence de tous les caractères de l'alphabet.\n",
    "\"\"\"Son pouls battait trop fort. Il avait chaud. Il ouvrit son vasistas, scruta la nuit. Il faisait doux. Un bruit indistinct montait du faubourg. Un carillon, plus lourd qu’un glas, plus sourd qu’un tocsin, plus profond\n",
    "qu’un bourdon, non loin, sonna trois coups. Du canal Saint-Martin, un clapotis plaintif signalait un chaland qui passait. Sur l’abattant du vasistas, un animal au thorax indigo, à l’aiguillon safran, ni un cafard,\n",
    "ni un charançon, mais plutôt un artison, s’avançait, traînant un brin d’alfa. Il s’approcha, voulant l’aplatir d’un coup vif, mais l’animal prit son vol, disparaissant dans la nuit avant qu’il ait pu l’assaillir.\n",
    "\"\"\""
   ]
  },
  {
   "cell_type": "markdown",
   "metadata": {},
   "source": [
    "# III. Les dictionnaires\n",
    "##  1. Définition\n",
    "\n",
    "  Un dictionnaire, objet de type ```dict```, ressemble à une liste. La principale différence en indices ne sont pas obligatoirement des entiers (0, 1, 2, ...) et peuvent être du type str, float, tuples (à condition que les tuples ne contiennent que des entiers, des flottants ou des n-uplets).\n",
    "  Ces indices ne sont pas ordonnés et s'appellent des clés. A chaque clé correspond une valeur. \n",
    "    \n",
    "   Un dictionnaire est donc un ensemble de couples clé-valeur. Pour créer un dictionair, on écrit \n",
    "entre des accolades les couples séparés par des virgules, chaque couple étant composé d'une clé et de la valeur correspondante séparées par deux-points.\n",
    "### a) Exemples : \n",
    "- Exemple 1.\n",
    "```\n",
    "dico = {\"yes\": \"oui\", \"no\": \"non\",'and\": \"et\", \"or\": \"ou\"}\n",
    "```\n",
    "- Exemple 2. \n",
    "```\n",
    "jours={\"dimanche\": 1, \"lundi\": 2, \"mardi\": 3, \"mercredi\": 4,\"jeudi\": 5, \"vendredi\": 6, \"samedi\": 7}\n",
    "``` \n"
   ]
  },
  {
   "cell_type": "code",
   "execution_count": 14,
   "metadata": {},
   "outputs": [],
   "source": []
  },
  {
   "cell_type": "markdown",
   "metadata": {},
   "source": [
    "##  2. Construction\n",
    "Un dictionnaire vide.\n",
    "```\n",
    "mon_dico={}     # mon_dict est dictionnaire vide\n",
    "```\n",
    "On peut lui ajouter des élément :\n",
    "```\n",
    "mon_dico[\"nom\"] = \"Kata\"\n",
    "mon_dico[\"prenom\"] = \"Lina\"\n",
    "mon_dico[\"date de naissance\"] = \"19/06/2003\"\n",
    "print(mon_dico)\n",
    "```\n",
    "ou \n",
    "```\n",
    "mon_dico={[\"nom\"] = \"Kata\" ,\"prenom\":\"Lina\",\"date de naissance\":\"19/06/2003\"}\n",
    "print(mon_dico)\n",
    "```\n",
    "#### Question. \n",
    "Tester, Analyser puis expliquer \n",
    "```\n",
    "mon_dico={\"nom\" : \"Kata\" ,\"prenom\":\"Lina\",\"date de naissance\":\"19/06/2003\"}\n",
    "print('Bonjour je suis {mon_dico[\"nom\"]} {mon_dico[\"prenom\"]} , je suis né le {mon_dico[\"date de naissance\"]}')\n",
    "print(f'Bonjour je suis {mon_dico[\"nom\"]} {mon_dico[\"prenom\"]} , je suis né le {mon_dico[\"date de naissance\"]}')\n",
    "```\n"
   ]
  },
  {
   "cell_type": "code",
   "execution_count": null,
   "metadata": {},
   "outputs": [],
   "source": []
  },
  {
   "cell_type": "markdown",
   "metadata": {},
   "source": [
    "Il existe divers procédés de construction d'un dictionnaire afin d'éviter d'ajouter les n éléments\n",
    "un par un.\n",
    "   - Conversion d'une liste en dictionnaire  \n",
    "   La fonction ``` dict()``` permet de convertir une liste de listes à deux éléments en dictionnaire.\n",
    "       o Exemple\n",
    " ```\n",
    " liste = [['a', 1], ['b', 2], ['c', 31]]\n",
    " d = dict (1iste)\n",
    " ```\n",
    " Ce qui donne en sortie \n",
    " ```\n",
    " print(d)\n",
    " {a': 1, 'b': 2, 'c': 3}\n",
    " ```\n"
   ]
  },
  {
   "cell_type": "code",
   "execution_count": null,
   "metadata": {},
   "outputs": [],
   "source": []
  },
  {
   "cell_type": "markdown",
   "metadata": {},
   "source": [
    "- La construction par compréhension, \n",
    "C'est procédé très pratique pour construire des listes, est aussi permise pour les dictionnaires,\n",
    "\n",
    "```\n",
    "d = {x: x**2 for x in range (1, 5)}\n",
    "print(d) \n",
    "{1: 1, 2: 4, 3: 9, 4: 16}\n",
    " ```"
   ]
  },
  {
   "cell_type": "code",
   "execution_count": null,
   "metadata": {},
   "outputs": [],
   "source": []
  },
  {
   "cell_type": "markdown",
   "metadata": {},
   "source": [
    "- Utilisation de la fonction dict()\n",
    " On peut créer un dictionnaire, à l'aide de la fonction dict avec en paramètres des couples de la forme nom=valeur.\n",
    " \n",
    " ```\n",
    " d = dict(one=1,two=2, three=3,four=4)\n",
    " print(d)\n",
    "{'one':1,'two':2, 'three':3,'four':4}\n",
    "```"
   ]
  },
  {
   "cell_type": "code",
   "execution_count": null,
   "metadata": {},
   "outputs": [],
   "source": [
    "\n"
   ]
  },
  {
   "cell_type": "markdown",
   "metadata": {},
   "source": [
    "##  3. Utilisation. \n",
    "### a) Accès aux éléments\n",
    "* Deux méthodes donnent accès aux clés ou aux valeurs, ce sont les méthodes ```keys``` et ```values```. \n",
    "   * Exemple\n",
    "```\n",
    "jours={\"dimanche\": 1, \"lundi\": 2, \"mardi\": 3, \"mercredi\": 4, \"jeudi\": 5, \"vendredi\": 6, \"samedi\":7}\n",
    "print(jours.keys())\n",
    "print(jours.values())\n",
    "```\n",
    "\n",
    "\n"
   ]
  },
  {
   "cell_type": "code",
   "execution_count": null,
   "metadata": {},
   "outputs": [],
   "source": []
  },
  {
   "cell_type": "markdown",
   "metadata": {},
   "source": [
    "* On peut récupérer les clés et les valeurs en même temps, on uilise la méthode items-()  qui returne un tuple.\n",
    "```\n",
    "print(jours.items())\n",
    "```"
   ]
  },
  {
   "cell_type": "code",
   "execution_count": null,
   "metadata": {},
   "outputs": [],
   "source": []
  },
  {
   "cell_type": "markdown",
   "metadata": {},
   "source": [
    "- accès à une valeur par clé :\n",
    "\n",
    " ```  print(jours['vendredi'])   ```\n",
    "\n",
    "ou   ``` print(jours.get('vendredi'))```\n",
    "\n",
    "si la clé n'existe pas, on obtient l'erreur \"KeyError\"\n",
    "\n",
    "``` print(jours['fasti'])```"
   ]
  },
  {
   "cell_type": "code",
   "execution_count": null,
   "metadata": {},
   "outputs": [],
   "source": []
  },
  {
   "cell_type": "markdown",
   "metadata": {},
   "source": [
    "Pour tester l'existence d'une clé ou d'une valeur, on peut utiliser le mot clé ```in```\n",
    "\n",
    "``` test1=8 in jours\n",
    "     print(test1) ```\n",
    "\n",
    "et \n",
    "\n",
    "```'dimanche' in jours ```"
   ]
  },
  {
   "cell_type": "code",
   "execution_count": null,
   "metadata": {},
   "outputs": [],
   "source": []
  },
  {
   "cell_type": "markdown",
   "metadata": {},
   "source": [
    "###  b) Modification, Ajourt et Suppression \n",
    "- Modification \n",
    "\n",
    "```jours['dimanche']=0    # affection simple sur la valeur de la clé  'dimanche'\n",
    "print(jours)```\n",
    "\n",
    "ou\n",
    "\n",
    "```jours['samedi']=jours['samedi']-1   # affection par une expression sur la valeur de la clé  'dimanche'\n",
    "print(jours)\n",
    "```\n",
    "\n",
    "#### Question\n",
    "- Quel est le contenu du dictionnaire référencé par la variable \"jours\" après l'exécution du programme ci-dessus ? \n",
    "- Vérifiez votre réponse  !"
   ]
  },
  {
   "cell_type": "code",
   "execution_count": null,
   "metadata": {},
   "outputs": [],
   "source": []
  },
  {
   "cell_type": "markdown",
   "metadata": {},
   "source": [
    "* Ajouter un ou des élément(s)\n",
    "\n",
    "```\n",
    "jours['fasti']=8\n",
    "print(jours)\n",
    "```\n",
    "\n",
    "Cette instruction ajoute par définition une nouvelle paire « clé : valeur ». \n",
    "Attention : Si ‘fasti’ existe déjà, son ancienne\n",
    "valeur sera écrasée."
   ]
  },
  {
   "cell_type": "code",
   "execution_count": null,
   "metadata": {},
   "outputs": [],
   "source": []
  },
  {
   "cell_type": "markdown",
   "metadata": {},
   "source": [
    "* Ajouter un bloc d'éléments\n",
    "```\n",
    "jours.update({'Janv':1,'Fev':2,'Mars':'3'})\n",
    "print(jours)\n",
    "```"
   ]
  },
  {
   "cell_type": "code",
   "execution_count": null,
   "metadata": {},
   "outputs": [],
   "source": []
  },
  {
   "cell_type": "markdown",
   "metadata": {},
   "source": [
    "* Suppression par clé\n",
    "```\n",
    "del jours['dimanche']\n",
    "print(jours)\n",
    "```"
   ]
  },
  {
   "cell_type": "code",
   "execution_count": null,
   "metadata": {},
   "outputs": [],
   "source": []
  },
  {
   "cell_type": "markdown",
   "metadata": {},
   "source": [
    "###  c) Copie et comparaison\n",
    "- copie d'un dictionnaire\n",
    " ```\n",
    "jours={\"dimanche\": 1, \"lundi\": 2, \"mardi\": 3, \"mercredi\": 4, \"jeudi\": 5, \"vendredi\": 6, \"samedi\":7}\n",
    "jours_bis =jours.copy()\n",
    "print(jours_bis)\n",
    "```"
   ]
  },
  {
   "cell_type": "code",
   "execution_count": null,
   "metadata": {},
   "outputs": [],
   "source": [
    "\n"
   ]
  },
  {
   "cell_type": "markdown",
   "metadata": {},
   "source": [
    "* Comparaison\n",
    "```\n",
    "test1=jours_bis==jours # Le résultat du test jours_bis==jours est stcké dans la variable test1\n",
    "print(test1)\n",
    "```\n",
    "\n",
    "```\n",
    "del jours['dimanche'] # On supprime un élément de jours\n",
    "print(jours)\n",
    "test2=jours_bis==jours  # On compare jours et sa copie.\n",
    "print(test2)\n",
    "```"
   ]
  },
  {
   "cell_type": "code",
   "execution_count": null,
   "metadata": {},
   "outputs": [],
   "source": []
  },
  {
   "cell_type": "markdown",
   "metadata": {},
   "source": [
    "### Remarque\n",
    "1. Les clés ne sont pas forcément des chaînes de caractères.  L’outil est très souple mais, attention, autant de liberté peut être aussi préjudiciable. Il faut être très rigoureux.\n",
    "\n",
    "- Utilisation de tuples et liste :\n",
    "  . Exemple \n",
    "Dans l'exemple suivant :\n",
    "  - la clé est un tuple ;\n",
    "  - la valeur est une liste.\n",
    "\n",
    "```\n",
    "eleves = {('Jeanne',2003):['première',6,True],('Antoine',2004):['premiere',7,False]}\n",
    "print(eleves.keys())\n",
    "print(eleves.values())\n",
    "```\n"
   ]
  },
  {
   "cell_type": "code",
   "execution_count": null,
   "metadata": {},
   "outputs": [],
   "source": [
    "\n"
   ]
  },
  {
   "cell_type": "markdown",
   "metadata": {},
   "source": [
    "### d) Boucles et dictionnaires\n",
    "Il est possible de parcourir un dictionnaire à l'aide d'une boucle for. Ce parcours peut se faire selon les clés ou les valeurs. Commençons par parcourir les clés à l'aide de la méthode \"keys\".\n",
    "   \n",
    " - Tester le programme suivant. Qu'affiche-t-il ? \n",
    "\n",
    "```jours={\"dimanche\": 1, \"lundi\": 2, \"mardi\": 3, \"mercredi\": 4, \"jeudi\": 5, \"vendredi\": 6, \"samedi\":7}\n",
    "print(\"les jours de la semaine:\")\n",
    "for jour in jours.keys():\n",
    "\tprint(jour)```\n",
    " \n",
    " La méthode values() permet de parcourir le dictionnaire selon les valeurs\n"
   ]
  },
  {
   "cell_type": "code",
   "execution_count": null,
   "metadata": {},
   "outputs": [],
   "source": []
  },
  {
   "cell_type": "markdown",
   "metadata": {},
   "source": [
    "#### Question  \n",
    "On s'inspérant du programme précédent, écrire un programme qui afficher les vleurs de jours.  "
   ]
  },
  {
   "cell_type": "code",
   "execution_count": null,
   "metadata": {},
   "outputs": [],
   "source": []
  },
  {
   "cell_type": "markdown",
   "metadata": {},
   "source": [
    "Il est possible de parcourir un dictionnaire à la fois sur les clés et les valeurs en utilisant la méthode items().\n",
    "\n",
    "```jours={\"dimanche\": 1, \"lundi\": 2, \"mardi\": 3, \"mercredi\": 4, \"jeudi\": 5, \"vendredi\": 6, \"samedi\":7}\n",
    "print(\"les jours de la semaine:\")\n",
    "for jour,num in jours.items():\n",
    "\tprint(f'{jour}:{num}')```"
   ]
  },
  {
   "cell_type": "code",
   "execution_count": null,
   "metadata": {},
   "outputs": [],
   "source": []
  }
 ],
 "metadata": {
  "kernelspec": {
   "display_name": "Python 3",
   "language": "python",
   "name": "python3"
  },
  "language_info": {
   "codemirror_mode": {
    "name": "ipython",
    "version": 3
   },
   "file_extension": ".py",
   "mimetype": "text/x-python",
   "name": "python",
   "nbconvert_exporter": "python",
   "pygments_lexer": "ipython3",
   "version": "3.6.4"
  }
 },
 "nbformat": 4,
 "nbformat_minor": 2
}

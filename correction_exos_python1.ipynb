{
 "cells": [
  {
   "cell_type": "code",
   "execution_count": 4,
   "metadata": {},
   "outputs": [
    {
     "data": {
      "application/javascript": [
       "function colorCells() { for (let cell of Jupyter.notebook.get_cells()) if (cell.metadata.tags && cell.metadata.tags.indexOf('nsi_enonce') >= 0) cell.element.css('background', '#DDDDFF'); } if (Jupyter.notebook.kernel) colorCells(); else Jupyter.notebook.events.one('kernel_ready.Kernel', (e) => colorCells())\n"
      ],
      "text/plain": [
       "<IPython.core.display.Javascript object>"
      ]
     },
     "metadata": {},
     "output_type": "display_data"
    }
   ],
   "source": [
    "%%js # Exécuter cette cellule pour colorer les énoncés s'ils ne le sont pas déjà\n",
    "function colorCells() { for (let cell of Jupyter.notebook.get_cells()) if (cell.metadata.tags && cell.metadata.tags.indexOf('nsi_enonce') >= 0) cell.element.css('background', '#DDDDFF'); } if (Jupyter.notebook.kernel) colorCells(); else Jupyter.notebook.events.one('kernel_ready.Kernel', (e) => colorCells())"
   ]
  },
  {
   "cell_type": "markdown",
   "metadata": {
    "tags": [
     "nsi_enonce",
     "nsi_newbie"
    ]
   },
   "source": [
    "Exercices\n",
    "=========\n",
    "\n",
    "Exercices Newbie\n",
    "----------------\n"
   ]
  },
  {
   "cell_type": "markdown",
   "metadata": {
    "tags": [
     "nsi_enonce",
     "nsi_ex1"
    ]
   },
   "source": [
    "### Exercice 1\n",
    "\n",
    "Identifier les types des valeurs suivantes :\n",
    "\n",
    "`\"Exercice\"`, `123.`, `True`, `1e10`, `\"False\"`, `'3,14'`\n"
   ]
  },
  {
   "cell_type": "markdown",
   "metadata": {},
   "source": [
    "Chaîne de caractères, nombre à virgule flottante, Booléen, entier, Chaîne de caractères, Chaîne de caractères"
   ]
  },
  {
   "cell_type": "markdown",
   "metadata": {
    "tags": [
     "nsi_enonce",
     "nsi_ex5"
    ]
   },
   "source": [
    "### Exercice 5\n",
    "\n",
    "Qu’est-ce qui est affiché par chacun des programmes suivants ? "
   ]
  },
  {
   "cell_type": "code",
   "execution_count": 3,
   "metadata": {
    "tags": [
     "nsi_enonce",
     "nsi_ex5"
    ]
   },
   "outputs": [
    {
     "name": "stdout",
     "output_type": "stream",
     "text": [
      "Logique.\n"
     ]
    }
   ],
   "source": [
    "if ( 12 * 2 == 24 ):\n",
    "    print(\"Logique.\")"
   ]
  },
  {
   "cell_type": "code",
   "execution_count": 10,
   "metadata": {
    "tags": [
     "nsi_enonce",
     "nsi_ex5"
    ]
   },
   "outputs": [],
   "source": [
    "if ( 12 * 2 == 24 ) == False:\n",
    "    print(\"Logique.\")"
   ]
  },
  {
   "cell_type": "code",
   "execution_count": 11,
   "metadata": {
    "tags": [
     "nsi_enonce",
     "nsi_ex5"
    ]
   },
   "outputs": [
    {
     "name": "stdout",
     "output_type": "stream",
     "text": [
      "Logique.\n",
      "Ou pas.\n"
     ]
    }
   ],
   "source": [
    "if ( 12 * 2 == 23 ) == False:\n",
    "    print(\"Logique.\")\n",
    "print(\"Ou pas.\")"
   ]
  },
  {
   "cell_type": "code",
   "execution_count": 12,
   "metadata": {
    "tags": [
     "nsi_enonce",
     "nsi_ex5"
    ]
   },
   "outputs": [
    {
     "name": "stdout",
     "output_type": "stream",
     "text": [
      "Ou pas.\n"
     ]
    }
   ],
   "source": [
    "if ( 12 * 2 == 23 ):\n",
    "    print(\"Logique.\")\n",
    "else:\n",
    "    print(\"Ou pas.\")"
   ]
  },
  {
   "cell_type": "markdown",
   "metadata": {
    "tags": [
     "nsi_jupyter"
    ]
   },
   "source": [
    "Note : l'exercice est à réaliser \"à la main\", mais on pourra exécuter les cellules ci-dessus pour confirmer le résultat."
   ]
  },
  {
   "cell_type": "markdown",
   "metadata": {
    "tags": [
     "nsi_solution"
    ]
   },
   "source": [
    "1: Logique. \\\n",
    "2: (rien) \\\n",
    "3: Logique. \\\n",
    "   Ou pas. \\\n",
    "3: Ou pas."
   ]
  },
  {
   "cell_type": "markdown",
   "metadata": {
    "tags": [
     "nsi_enonce",
     "nsi_ex6"
    ]
   },
   "source": [
    "### Exercice 6\n",
    "\n",
    "Combien de fois s’exécute le corps de chacune des boucles ci-dessous, et quelle est la valeur de `s` à la fin de l’exécution ?"
   ]
  },
  {
   "cell_type": "markdown",
   "metadata": {
    "tags": [
     "nsi_enonce",
     "nsi_ex6"
    ]
   },
   "source": [
    "s = 0\n",
    "for i in range(10):\n",
    "    s = s + i"
   ]
  },
  {
   "cell_type": "markdown",
   "metadata": {
    "tags": [
     "nsi_enonce",
     "nsi_ex6"
    ]
   },
   "source": [
    "s = 1\n",
    "for i in range(1,6):\n",
    "    s = s * i"
   ]
  },
  {
   "cell_type": "markdown",
   "metadata": {
    "tags": [
     "nsi_enonce",
     "nsi_ex6"
    ]
   },
   "source": [
    "s = 0\n",
    "while s < 20:\n",
    "    s = s + 5"
   ]
  },
  {
   "cell_type": "markdown",
   "metadata": {
    "tags": [
     "nsi_enonce",
     "nsi_ex6"
    ]
   },
   "source": [
    "s = 1\n",
    "while s != 100:\n",
    "    s = s * 2"
   ]
  },
  {
   "cell_type": "markdown",
   "metadata": {
    "tags": [
     "nsi_enonce",
     "nsi_ex6"
    ]
   },
   "source": [
    "</p></td></tr></tbody></table>\n"
   ]
  },
  {
   "cell_type": "markdown",
   "metadata": {
    "tags": [
     "nsi_solution",
     "nsi_ex6"
    ]
   },
   "source": [
    "10 fois (s = 45);\\\n",
    "5 fois (s = 120);\\\n",
    "4 fois (s = 20);\\\n",
    "boucle infinie"
   ]
  },
  {
   "cell_type": "code",
   "execution_count": 16,
   "metadata": {},
   "outputs": [
    {
     "name": "stdout",
     "output_type": "stream",
     "text": [
      "s= 45 i= 9\n"
     ]
    }
   ],
   "source": [
    "s = 0 \n",
    "for i in range(10):\n",
    "    s = s + i\n",
    "print(\"s=\",s,\"i=\",i)"
   ]
  },
  {
   "cell_type": "code",
   "execution_count": 4,
   "metadata": {},
   "outputs": [
    {
     "name": "stdout",
     "output_type": "stream",
     "text": [
      "n = 10 , s = 45\n"
     ]
    }
   ],
   "source": [
    "# Note : l'exercice est à faire \"à la main\" !\n",
    "n = 0\n",
    "s = 0\n",
    "for i in range(10):\n",
    "    n += 1\n",
    "    s = s + i\n",
    "print('n =', n,', s =', s)"
   ]
  },
  {
   "cell_type": "code",
   "execution_count": 1,
   "metadata": {},
   "outputs": [
    {
     "name": "stdout",
     "output_type": "stream",
     "text": [
      "n = 5 , s = 120\n"
     ]
    }
   ],
   "source": [
    "n = 0\n",
    "s = 1\n",
    "for i in range(1,6):\n",
    "    n += 1\n",
    "     s = s * i   # qu'on pourra écrire s *= i\n",
    "print('n =', n,', s =', s)"
   ]
  },
  {
   "cell_type": "code",
   "execution_count": 1,
   "metadata": {},
   "outputs": [
    {
     "name": "stdout",
     "output_type": "stream",
     "text": [
      "n = 4 , s = 20\n"
     ]
    }
   ],
   "source": [
    "n = 0\n",
    "s = 0\n",
    "while s < 20:\n",
    "    n += 1   # équivaut à n=n+1\n",
    "    s = s + 5  # qu'on pourra écrire aussi : s += 5\n",
    "print('n =', n,', s =', s)"
   ]
  },
  {
   "cell_type": "code",
   "execution_count": null,
   "metadata": {},
   "outputs": [],
   "source": [
    "# Attention : ce programme boucle, il faudra l'interrompre\n",
    "# soit avec ^C dans Python, soit avec la commande Interrupt dans Jupyter\n",
    "# (ou le bouton avec un carré noir)\n",
    "n = 0\n",
    "s = 1\n",
    "while s != 100:\n",
    "    n += 1\n",
    "    s = s * 2\n",
    "print('n =', n,', s =', s)"
   ]
  },
  {
   "cell_type": "markdown",
   "metadata": {
    "tags": [
     "nsi_enonce",
     "nsi_ex13"
    ]
   },
   "source": [
    "### Exercice 13\n",
    "\n",
    "Identifier les types d’erreurs dans le code ci-dessous et les corriger\n",
    "\n"
   ]
  },
  {
   "cell_type": "markdown",
   "metadata": {
    "tags": [
     "nsi_enonce",
     "nsi_ex13"
    ]
   },
   "source": [
    "```python\n",
    "pi = 3,14\n",
    "def aire-cercle(rayon)\n",
    "    return pi * r * 2\n",
    "  print(aire_cercle(10)\n",
    "```"
   ]
  },
  {
   "cell_type": "code",
   "execution_count": 3,
   "metadata": {},
   "outputs": [
    {
     "ename": "SyntaxError",
     "evalue": "invalid syntax (<ipython-input-3-c26d878beed6>, line 2)",
     "output_type": "error",
     "traceback": [
      "\u001b[1;36m  File \u001b[1;32m\"<ipython-input-3-c26d878beed6>\"\u001b[1;36m, line \u001b[1;32m2\u001b[0m\n\u001b[1;33m    def aire-cercle(rayon)\u001b[0m\n\u001b[1;37m            ^\u001b[0m\n\u001b[1;31mSyntaxError\u001b[0m\u001b[1;31m:\u001b[0m invalid syntax\n"
     ]
    }
   ],
   "source": [
    "pi = 3,14\n",
    "def aire-cercle(rayon)\n",
    "    return pi * r * 2\n",
    "print(aire_cercle(10)"
   ]
  },
  {
   "cell_type": "code",
   "execution_count": 9,
   "metadata": {
    "tags": [
     "nsi_solution",
     "nsi_ex13"
    ]
   },
   "outputs": [
    {
     "name": "stdout",
     "output_type": "stream",
     "text": [
      "314.0\n"
     ]
    }
   ],
   "source": [
    "pi = 3.14 # avec un point et pas une virgule\n",
    "def aire_cercle(rayon):     # _ et pas -, : à la fin\n",
    "    return pi * rayon **2   # rayon et pas r, ** et pas *\n",
    "print(aire_cercle(10)) # indentation, parenthèse fermante"
   ]
  }
 ],
 "metadata": {
  "kernelspec": {
   "display_name": "Python 3",
   "language": "python",
   "name": "python3"
  },
  "language_info": {
   "codemirror_mode": {
    "name": "ipython",
    "version": 3
   },
   "file_extension": ".py",
   "mimetype": "text/x-python",
   "name": "python",
   "nbconvert_exporter": "python",
   "pygments_lexer": "ipython3",
   "version": "3.8.8"
  }
 },
 "nbformat": 4,
 "nbformat_minor": 4
}

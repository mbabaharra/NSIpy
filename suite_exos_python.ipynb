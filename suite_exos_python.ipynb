{
 "cells": [
  {
   "cell_type": "code",
   "execution_count": 1,
   "metadata": {},
   "outputs": [
    {
     "data": {
      "application/javascript": [
       "function colorCells() { for (let cell of Jupyter.notebook.get_cells()) if (cell.metadata.tags && cell.metadata.tags.indexOf('nsi_enonce') >= 0) cell.element.css('background', '#DDDDFF'); } if (Jupyter.notebook.kernel) colorCells(); else Jupyter.notebook.events.one('kernel_ready.Kernel', (e) => colorCells())\n"
      ],
      "text/plain": [
       "<IPython.core.display.Javascript object>"
      ]
     },
     "metadata": {},
     "output_type": "display_data"
    }
   ],
   "source": [
    "%%js # Exécuter cette cellule pour colorer les énoncés s'ils ne le sont pas déjà\n",
    "function colorCells() { for (let cell of Jupyter.notebook.get_cells()) if (cell.metadata.tags && cell.metadata.tags.indexOf('nsi_enonce') >= 0) cell.element.css('background', '#DDDDFF'); } if (Jupyter.notebook.kernel) colorCells(); else Jupyter.notebook.events.one('kernel_ready.Kernel', (e) => colorCells())"
   ]
  },
  {
   "cell_type": "markdown",
   "metadata": {
    "tags": [
     "nsi_enonce",
     "nsi_ex23"
    ]
   },
   "source": [
    "### Exercice 23\n",
    "\n",
    "Écrire une boucle bornée (`for`) qui affiche les nombres pairs entre 2 et 20. Écrire une boucle non bornée (`while`) qui fasse la même chose.\n",
    "\n",
    "Mêmes questions pour afficher les nombres pairs entre 20 et 2 par ordre décroissant.\n"
   ]
  },
  {
   "cell_type": "code",
   "execution_count": 17,
   "metadata": {
    "tags": [
     "nsi_solution",
     "nsi_ex23"
    ]
   },
   "outputs": [
    {
     "name": "stdout",
     "output_type": "stream",
     "text": [
      "2\n",
      "4\n",
      "6\n",
      "8\n",
      "10\n",
      "12\n",
      "14\n",
      "16\n",
      "18\n",
      "20\n"
     ]
    }
   ],
   "source": [
    "for i in range(10):\n",
    "    print((i+1)*2)"
   ]
  },
  {
   "cell_type": "code",
   "execution_count": 18,
   "metadata": {},
   "outputs": [
    {
     "name": "stdout",
     "output_type": "stream",
     "text": [
      "2\n",
      "4\n",
      "6\n",
      "8\n",
      "10\n",
      "12\n",
      "14\n",
      "16\n",
      "18\n",
      "20\n"
     ]
    }
   ],
   "source": [
    "i = 2\n",
    "while i <= 20:\n",
    "    print(i)\n",
    "    i = i + 2"
   ]
  },
  {
   "cell_type": "markdown",
   "metadata": {
    "tags": [
     "nsi_enonce",
     "nsi_ex24"
    ]
   },
   "source": [
    "### Exercice 24\n",
    "\n",
    "La fonction `random()` de la bibliothèque `random` produit un nombre aléatoire entre 0 et 1. A l’aide de cette fonction et de la fonction `round()`, écrire un programme qui affiche de manière aléatoire la chaîne \"Ha\", \"Haha\", \"Hahaha\", \"Hahahaha\" ou \"Hahahahaha\" un nombre aléatoire de fois entre 1 et 10.\n"
   ]
  },
  {
   "cell_type": "code",
   "execution_count": 8,
   "metadata": {
    "scrolled": true,
    "tags": [
     "nsi_solution",
     "nsi_ex24"
    ]
   },
   "outputs": [
    {
     "name": "stdout",
     "output_type": "stream",
     "text": [
      "Hahaha\n"
     ]
    }
   ],
   "source": [
    "from random import random\n",
    "print(\"Ha\" + \"ha\"*round(random()*9))"
   ]
  },
  {
   "cell_type": "code",
   "execution_count": 25,
   "metadata": {},
   "outputs": [
    {
     "name": "stdout",
     "output_type": "stream",
     "text": [
      "Hahahaha\n"
     ]
    }
   ],
   "source": [
    "from random import randint\n",
    "print(\"Ha\" + \"ha\"*round(randint(1,9)))"
   ]
  },
  {
   "cell_type": "markdown",
   "metadata": {
    "tags": [
     "nsi_enonce",
     "nsi_ex27"
    ]
   },
   "source": [
    "### Exercice 27\n",
    "\n",
    "Écrire un programme qui affiche les chiffres d’un nombre à partir du dernier, un par ligne. Par exemple, pour le nombre 1234, le programme affiche\n",
    "\n",
    "    4\n",
    "    3\n",
    "    2\n",
    "    1\n"
   ]
  },
  {
   "cell_type": "code",
   "execution_count": 23,
   "metadata": {
    "tags": [
     "nsi_solution",
     "nsi_ex27"
    ]
   },
   "outputs": [
    {
     "name": "stdout",
     "output_type": "stream",
     "text": [
      "4\n",
      "3\n",
      "2\n",
      "1\n"
     ]
    }
   ],
   "source": [
    "a = 1234\n",
    "\n",
    "while a != 0:\n",
    "    print(a % 10)\n",
    "    a = a // 10"
   ]
  },
  {
   "cell_type": "code",
   "execution_count": 26,
   "metadata": {},
   "outputs": [
    {
     "name": "stdout",
     "output_type": "stream",
     "text": [
      "4\n",
      "3\n",
      "2\n",
      "1\n"
     ]
    }
   ],
   "source": [
    "for i in range(1,5):\n",
    "    print(5-i)"
   ]
  },
  {
   "cell_type": "code",
   "execution_count": 31,
   "metadata": {},
   "outputs": [
    {
     "name": "stdout",
     "output_type": "stream",
     "text": [
      "4\n",
      "3\n",
      "2\n",
      "1\n"
     ]
    }
   ],
   "source": [
    "for i in range(4,0,-1):\n",
    "    print(i)"
   ]
  },
  {
   "cell_type": "markdown",
   "metadata": {
    "tags": [
     "nsi_enonce",
     "nsi_ex32"
    ]
   },
   "source": [
    "### Exercice 32\n",
    "\n",
    "a) Qu’affiche le programme suivant ?"
   ]
  },
  {
   "cell_type": "code",
   "execution_count": 38,
   "metadata": {
    "tags": [
     "nsi_enonce",
     "nsi_ex32"
    ]
   },
   "outputs": [
    {
     "name": "stdout",
     "output_type": "stream",
     "text": [
      "\n",
      "*\n",
      "**\n",
      "***\n",
      "****\n",
      "*****\n",
      "******\n",
      "*******\n",
      "********\n",
      "*********\n"
     ]
    }
   ],
   "source": [
    "for i in range(10):\n",
    "    s = ''\n",
    "    for j in range(i):\n",
    "        s = s + '*'\n",
    "    print(s)"
   ]
  },
  {
   "cell_type": "markdown",
   "metadata": {},
   "source": [
    "**Note :** Cette question est à réaliser « à la main »\n",
    "\n",
    "Ce programme affiche une série de lignes constituées de 0 à 9 caractères `*`."
   ]
  },
  {
   "cell_type": "raw",
   "metadata": {},
   "source": [
    "\n",
    "*\n",
    "**\n",
    "***\n",
    "****\n",
    "*****\n",
    "******\n",
    "*******\n",
    "********\n",
    "*********"
   ]
  },
  {
   "cell_type": "markdown",
   "metadata": {
    "tags": [
     "nsi_enonce",
     "nsi_ex32"
    ]
   },
   "source": [
    "b) Écrire une version plus simple en utilisant l’opérateur '\\*' de répétition des chaînes de caractères.\n"
   ]
  },
  {
   "cell_type": "code",
   "execution_count": 39,
   "metadata": {
    "tags": [
     "nsi_solution",
     "nsi_ex32"
    ]
   },
   "outputs": [
    {
     "name": "stdout",
     "output_type": "stream",
     "text": [
      "\n",
      "*\n",
      "**\n",
      "***\n",
      "****\n",
      "*****\n",
      "******\n",
      "*******\n",
      "********\n",
      "*********\n"
     ]
    }
   ],
   "source": [
    "for i in range(10):\n",
    "    print('*' * i)"
   ]
  },
  {
   "cell_type": "markdown",
   "metadata": {
    "tags": [
     "nsi_enonce",
     "nsi_ex32"
    ]
   },
   "source": [
    "c) Modifier le programme pour qu’il affiche la même figure à l’envers.\n"
   ]
  },
  {
   "cell_type": "code",
   "execution_count": 40,
   "metadata": {
    "tags": [
     "nsi_solution",
     "nsi_ex32"
    ]
   },
   "outputs": [
    {
     "name": "stdout",
     "output_type": "stream",
     "text": [
      "*********\n",
      "********\n",
      "*******\n",
      "******\n",
      "*****\n",
      "****\n",
      "***\n",
      "**\n",
      "*\n",
      "\n"
     ]
    }
   ],
   "source": [
    "for i in range(10):\n",
    "    print('*' * (9 -i))"
   ]
  },
  {
   "cell_type": "markdown",
   "metadata": {
    "tags": [
     "nsi_enonce",
     "nsi_ex35"
    ]
   },
   "source": [
    "### Exercice 35\n",
    "\n",
    "On veut calculer les intérêts d’un placement pendant 10 ans d’une somme de 10 000€ qui rapporte 1,5% par an.\n",
    "\n",
    "a) Écrire une fonction qui étant donné un montant et un taux annuel, retourne les intérêts cumulés au bout d’un an.\n"
   ]
  },
  {
   "cell_type": "code",
   "execution_count": 51,
   "metadata": {
    "tags": [
     "nsi_solution",
     "nsi_ex35"
    ]
   },
   "outputs": [],
   "source": [
    "def interets_annuels(montant, taux):\n",
    "    return montant * taux / 100"
   ]
  },
  {
   "cell_type": "markdown",
   "metadata": {
    "tags": [
     "nsi_enonce",
     "nsi_ex35"
    ]
   },
   "source": [
    "b) Écrire une seconde fonction qui prend en paramètres le montant initial, le taux annuel et la durée de l’investissement en années, et retourne le montant épargné à la fin de la période.\n"
   ]
  },
  {
   "cell_type": "code",
   "execution_count": 52,
   "metadata": {
    "tags": [
     "nsi_solution",
     "nsi_ex35"
    ]
   },
   "outputs": [],
   "source": [
    "def epargne(montant, taux, duree):\n",
    "    for i in range(duree):\n",
    "        montant = montant + interets_annuels(montant, taux)\n",
    "    return montant"
   ]
  },
  {
   "cell_type": "markdown",
   "metadata": {
    "tags": [
     "nsi_enonce",
     "nsi_ex35"
    ]
   },
   "source": [
    "c) Appliquer cette fonction aux données de l’exercice.\n"
   ]
  },
  {
   "cell_type": "code",
   "execution_count": 53,
   "metadata": {
    "tags": [
     "nsi_solution",
     "nsi_ex35"
    ]
   },
   "outputs": [
    {
     "name": "stdout",
     "output_type": "stream",
     "text": [
      "11605.408250251503\n"
     ]
    }
   ],
   "source": [
    "print(epargne(10000, 1.5, 10))"
   ]
  }
 ],
 "metadata": {
  "kernelspec": {
   "display_name": "Python 3",
   "language": "python",
   "name": "python3"
  },
  "language_info": {
   "codemirror_mode": {
    "name": "ipython",
    "version": 3
   },
   "file_extension": ".py",
   "mimetype": "text/x-python",
   "name": "python",
   "nbconvert_exporter": "python",
   "pygments_lexer": "ipython3",
   "version": "3.8.8"
  }
 },
 "nbformat": 4,
 "nbformat_minor": 4
}

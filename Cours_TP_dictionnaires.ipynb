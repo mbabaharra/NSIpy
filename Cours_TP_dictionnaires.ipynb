{
 "cells": [
  {
   "cell_type": "markdown",
   "metadata": {},
   "source": [
    "# Les dictionnaires\n",
    "Les dictionnaires sont des données structurées, Nous avons déjà deux types de données structurées :\n",
    "- les listes\n",
    "- les tuples\n",
    "##  1. Définition\n",
    "\n",
    " - Un **dictionnaire** en python est une sorte de liste mais au lieu d'utiliser des index, on utilise des clés alphanumériques. \n",
    " - L’ensemble des couples **clé – valeur** sont enregistrés sous la forme `clé:valeur` , l’ensemble de ces couples étant séparés par une virgule et placés entre deux accolades.\n",
    " - Les clés peuvent être des entiers (int), des chaînes de caractères (str) et même des tuples (En fait n'importe quel type convient).\n",
    "  \n",
    "### a) Exemples : \n",
    "- Exemple 1.\n",
    "```\n",
    "dico = {\"yes\": \"oui\", \"no\": \"non\",'and\": \"et\", \"or\": \"ou\"}\n",
    "```\n",
    "- Exemple 2. \n",
    "```\n",
    "semaine={\"dimanche\": 1, \"lundi\": 2, \"mardi\": 3, \"mercredi\": 4,\"jeudi\": 5, \"vendredi\": 6, \"samedi\": 7}\n",
    "``` \n",
    "\n",
    "### Question : \n",
    "Proposer d'autres exemples.\n"
   ]
  },
  {
   "cell_type": "code",
   "execution_count": null,
   "metadata": {},
   "outputs": [],
   "source": [
    "\n",
    " "
   ]
  },
  {
   "cell_type": "markdown",
   "metadata": {},
   "source": [
    "##  2. Construction.\n",
    "### Méthode 1\n",
    "- **Un dictionnaire vide.**\n",
    "```\n",
    "mon_dico={}     \n",
    "```\n",
    "ou \n",
    "```\n",
    "mon_dico=dict()     \n",
    "```\n",
    "\n",
    "On peut lui ajouter des élément :\n",
    "```\n",
    "mon_dico[\"nom\"] = \"Kata\"\n",
    "mon_dico[\"prenom\"] = \"Lyna\"\n",
    "mon_dico[\"date de naissance\"] = \"19/06/2003\"\n",
    "print(mon_dico)\n",
    "```\n",
    "ou \n",
    "```\n",
    "mon_dico={[\"nom\"] = \"Kata\" ,\"prenom\":\"Lyna\",\"date de naissance\":\"19/06/2003\"}\n",
    "print(mon_dico)\n",
    "```\n",
    "#### Question. \n",
    "Tester, Analyser puis expliquer \n",
    "```\n",
    "mon_dico={\"nom\" : \"Kata\" ,\"prenom\":\"Lyna\",\"date de naissance\":\"19/06/2003\"}\n",
    "print('Bonjour je suis {mon_dico[\"nom\"]} {mon_dico[\"prenom\"]} , je suis né le {mon_dico[\"date de naissance\"]}')\n",
    "print(f'Bonjour je suis {mon_dico[\"nom\"]} {mon_dico[\"prenom\"]} , je suis né le {mon_dico[\"date de naissance\"]}')\n",
    "```\n",
    "* **Tester**"
   ]
  },
  {
   "cell_type": "code",
   "execution_count": 2,
   "metadata": {},
   "outputs": [
    {
     "name": "stdout",
     "output_type": "stream",
     "text": [
      "Bonjour je suis {mon_dico[\"nom\"]} {mon_dico[\"prenom\"]} , je suis né le {mon_dico[\"date de naissance\"]}\n",
      "Bonjour je suis Kata Lina , je suis né le 19/06/2003\n"
     ]
    }
   ],
   "source": [
    " # Tester ici"
   ]
  },
  {
   "cell_type": "markdown",
   "metadata": {},
   "source": [
    "### Méthode 2\n",
    "Il existe divers procédés de construction d'un dictionnaire afin d'éviter d'ajouter les `n` éléments\n",
    "un par un.\n",
    "   - **a) Conversion d'une liste en dictionnaire**  \n",
    "   La fonction ``` dict()``` permet de convertir une liste de listes à deux éléments en dictionnaire.\n",
    "       o Exemple\n",
    " ```\n",
    " liste = [['a', 1], ['b', 2], ['c', 31]]\n",
    " d = dict (1iste)\n",
    " ```\n",
    " Ce qui donne en sortie \n",
    " ```\n",
    " print(d)\n",
    " {'a': 1, 'b': 2, 'c': 3}\n",
    " ```\n",
    " **Tester**"
   ]
  },
  {
   "cell_type": "code",
   "execution_count": 25,
   "metadata": {},
   "outputs": [],
   "source": [
    " # Tester ici"
   ]
  },
  {
   "cell_type": "markdown",
   "metadata": {},
   "source": [
    "**b) Utilisation de la fonction dict()**\n",
    " On peut créer un dictionnaire, à l'aide de la fonction dict avec en paramètres des couples de la forme nom=valeur.\n",
    " \n",
    " ```\n",
    " d = dict(one=1,two=2, three=3,four=4)\n",
    " print(d)\n",
    "{'one':1,'two':2, 'three':3,'four':4}\n",
    "```\n",
    " - **Tester**"
   ]
  },
  {
   "cell_type": "code",
   "execution_count": null,
   "metadata": {},
   "outputs": [],
   "source": [
    " # Tester ici"
   ]
  },
  {
   "cell_type": "markdown",
   "metadata": {},
   "source": [
    "**c) La construction par compréhension** \n",
    "C'est un procédé très pratique pour construire des listes et les dictionnaires,\n",
    "\n",
    "- **Exemple 1**\n",
    "```\n",
    "d = {x: x**2 for x in range (1, 5)}\n",
    "print(d) \n",
    "{1: 1, 2: 4, 3: 9, 4: 16}\n",
    " ```\n",
    "- **Exemple 2**\n",
    "```\n",
    "jours=[\"dimanche\", \"lundi\", \"mardi\", \"mercredi\",\"jeudi\", \"vendredi\", \"samedi\"]\n",
    "semaine = {jours[i]: i for i in range (1, 8)}\n",
    "print(semaine) \n",
    " ```\n",
    " \n",
    "- **Tester ces exemples**"
   ]
  },
  {
   "cell_type": "code",
   "execution_count": null,
   "metadata": {},
   "outputs": [],
   "source": [
    "\n",
    " # Tester ici"
   ]
  },
  {
   "cell_type": "markdown",
   "metadata": {},
   "source": [
    "**Longueur d'un dictionnaire**\n",
    "    La longueur d'un dictionnaire est le nombre de clés. On l'obtient avec la fonction len(nom_dico).\n",
    "L'ordre dans lequel apparaissent les paires clé-valeur dans le dictionnaire n’a pas d’importance, car on accède pas aux éléments d’un dictionnaire par un index, mais par une clé, qui n’est pas nécessairement un nombre.\n",
    "```\n",
    "len(semaine)\n",
    "```\n"
   ]
  },
  {
   "cell_type": "code",
   "execution_count": null,
   "metadata": {},
   "outputs": [],
   "source": [
    " # Tester ici"
   ]
  },
  {
   "cell_type": "markdown",
   "metadata": {},
   "source": [
    "# 3. Utilisation des dictionnaires. \n",
    "## a) Accès aux éléments d'un dictionnaire\n",
    "\n",
    "Deux méthodes donnent accès aux clés ou aux valeurs, ce sont les méthodes ```keys``` et ```values```. \n",
    "\n",
    "- **La méthode keys**\n",
    "La méthode `keys()` renvoie une séquence contenant les clés du dictionnaire. Si nécessaire, cette séquence peut être convertie en une liste à l’aide de la fonction intégrée `list()` ou en tuple à l’aide de la fonction intégrée `tuple()`.\n",
    "\n",
    "* Exemple\n",
    "```\n",
    "semaine={\"dimanche\": 1, \"lundi\": 2, \"mardi\": 3, \"mercredi\": 4, \"jeudi\": 5, \"vendredi\": 6, \"samedi\":7}\n",
    "print(semaine.keys())\n",
    "```\n",
    "- ce qui donne : \n",
    "`dict_keys(['dimanche', 'lundi', 'mardi', 'mercredi', 'jeudi', 'vendredi', 'samedi'])`\n",
    "- Pour transformer le résultat en une luste ou un tuple on tape sur la console :\n",
    "`list(semaine.keys())` ou `tuple(semaine.keys())`\n",
    "\n",
    "\n",
    "- **Tester **\n"
   ]
  },
  {
   "cell_type": "code",
   "execution_count": null,
   "metadata": {},
   "outputs": [],
   "source": [
    " # Tester ici"
   ]
  },
  {
   "cell_type": "markdown",
   "metadata": {},
   "source": [
    "- **La méthode `values()`**\n",
    "La méthode `values()` renvoie une séquence contenant les valeurs mémorisées dans le dictionnaire. \n",
    "\n",
    "On peut, comme pour les clés, utiliser les méthodes `list()` ou `tuple()` pour transformer ces séquences en listes ou en tuples.\n",
    "\n",
    "* Exemple\n",
    "```\n",
    "semaine={\"dimanche\": 1, \"lundi\": 2, \"mardi\": 3, \"mercredi\": 4, \"jeudi\": 5, \"vendredi\": 6, \"samedi\":7}\n",
    "print(semaine.values())\n",
    "```\n",
    "- ce qui donne : \n",
    "`dict_values([1, 2, 3, 4, 5, 6, 7])`\n",
    "- Pour transformer le résultat en une luste ou un tuple on tape sur la console :\n",
    "`list(semaine.values())` ou `tuple(semaine.values())`\n",
    "\n",
    "\n",
    "- **Tester **\n"
   ]
  },
  {
   "cell_type": "code",
   "execution_count": 26,
   "metadata": {},
   "outputs": [],
   "source": [
    " # Tester ici"
   ]
  },
  {
   "cell_type": "markdown",
   "metadata": {},
   "source": [
    "###  Méthode `items()`\n",
    "La méthode `items()` retourne une liste de tuples, chaque tuple contenant deux éléments, la clé et la valeur correspondante. \n",
    "\n",
    "* Exemple  \n",
    "```\n",
    "print(semaine.items())\n",
    "```\n",
    "* **Tester**"
   ]
  },
  {
   "cell_type": "code",
   "execution_count": 27,
   "metadata": {},
   "outputs": [],
   "source": [
    " # Tester ici"
   ]
  },
  {
   "cell_type": "markdown",
   "metadata": {},
   "source": [
    "### Remarque 1.\n",
    "- accès à une valeur par clé :\n",
    "\n",
    " ```  print(jours['vendredi'])   ```\n",
    "\n",
    "ou   ``` print(jours.get('vendredi'))```\n",
    "\n",
    "si la clé n'existe pas, on obtient l'erreur \"KeyError\"\n",
    "\n",
    "``` print(jours['fasti'])```\n",
    "* **Tester**"
   ]
  },
  {
   "cell_type": "code",
   "execution_count": null,
   "metadata": {},
   "outputs": [],
   "source": [
    " # Tester ici"
   ]
  },
  {
   "cell_type": "markdown",
   "metadata": {},
   "source": [
    "### Remarque 2.\n",
    "Pour tester l'existence d'une clé ou d'une valeur, on peut utiliser le mot clé ```in```\n",
    "\n",
    "``` test1 = 8 in semaine\n",
    "     print(test1) ```\n",
    "\n",
    "et \n",
    "\n",
    "```teste2 = 'dimanche' in semaine \n",
    "print(test2)```"
   ]
  },
  {
   "cell_type": "code",
   "execution_count": null,
   "metadata": {},
   "outputs": [],
   "source": [
    " # Tester ici"
   ]
  },
  {
   "cell_type": "markdown",
   "metadata": {},
   "source": [
    "## b) Modification, Ajout et Suppression \n",
    "### (i) Modification \n",
    "\n",
    "```semaine['dimanche']=0    # affection simple sur la valeur de la clé  'dimanche'\n",
    "print(semaine)```\n",
    "\n",
    "ou\n",
    "\n",
    "```semaine['samedi']=semaine['samedi']-1   # affection par une expression sur la valeur de la clé  'dimanche'\n",
    "print(semaine)\n",
    "```\n",
    "\n",
    "#### Question\n",
    "- Quel est le contenu du dictionnaire référencé par la variable \"semaine\" après l'exécution du programme ci-dessus ? \n",
    "- Vérifiez votre réponse  !"
   ]
  },
  {
   "cell_type": "code",
   "execution_count": null,
   "metadata": {},
   "outputs": [],
   "source": [
    " # Tester ici"
   ]
  },
  {
   "cell_type": "markdown",
   "metadata": {},
   "source": [
    "### (ii) Ajouter un ou des élément(s)\n",
    "\n",
    "* Exemple \n",
    "```\n",
    "semaine['fasti']=8\n",
    "print(semaine)\n",
    "```\n",
    "\n",
    "Cette instruction ajoute par définition une nouvelle paire « clé : valeur ». \n",
    "Attention : Si ‘fasti’ existe déjà, son ancienne\n",
    "valeur sera écrasée.\n",
    "* **Tester**"
   ]
  },
  {
   "cell_type": "code",
   "execution_count": null,
   "metadata": {},
   "outputs": [],
   "source": [
    " # Tester ici"
   ]
  },
  {
   "cell_type": "markdown",
   "metadata": {},
   "source": [
    "* Ajouter un bloc d'éléments\n",
    "```\n",
    "semaine.update({'Janv':1,'Fev':2,'Mars':'3'})\n",
    "print(semaine)\n",
    "```\n",
    "**Tester**"
   ]
  },
  {
   "cell_type": "code",
   "execution_count": null,
   "metadata": {},
   "outputs": [],
   "source": [
    " # Tester ici"
   ]
  },
  {
   "cell_type": "code",
   "execution_count": null,
   "metadata": {},
   "outputs": [],
   "source": []
  },
  {
   "cell_type": "markdown",
   "metadata": {},
   "source": [
    "### (iii) Suppression par clé\n",
    "\n",
    "Pour supprimer un élément :\n",
    "\n",
    "- on peut utiliser l’instruction intégrée `del` ,\n",
    "- ou la méthode  `pop()`\n",
    "\n",
    "Par exemple, si on souhaite supprimer la paire 'dimanche' : 1, on peut exécuter l’instruction : del ou \n",
    "```\n",
    "del semaine['dimanche']\n",
    "print(semaine)\n",
    "```\n",
    "ou\n",
    "```\n",
    "semaine.pop('dimanche')\n",
    "```\n",
    "* **Tester**"
   ]
  },
  {
   "cell_type": "code",
   "execution_count": null,
   "metadata": {},
   "outputs": [],
   "source": [
    " # Tester ici"
   ]
  },
  {
   "cell_type": "markdown",
   "metadata": {},
   "source": [
    "##  c) Copie et comparaison\n",
    "- copie d'un dictionnaire\n",
    " ```\n",
    "semaine = {\"dimanche\": 1, \"lundi\": 2, \"mardi\": 3, \"mercredi\": 4, \"jeudi\": 5, \"vendredi\": 6, \"samedi\":7}\n",
    "print(\"semaine : \",semaine)\n",
    "semaine_2 = semaine.copy()\n",
    "print(\"semaine_2 : \",semaine_2)\n",
    "semaine_3 = dict(semaine)\n",
    "print(\"semaine_3 :\",semaine_3)\n",
    "semaine_3['dimanche']=0\n",
    "print(semain_3)\n",
    "print(\"--------------------\")\n",
    "print(semaine,semaine_2,semaine_3)\n",
    "```\n",
    "* **Tester**"
   ]
  },
  {
   "cell_type": "code",
   "execution_count": null,
   "metadata": {},
   "outputs": [],
   "source": [
    " # Tester ici\n"
   ]
  },
  {
   "cell_type": "markdown",
   "metadata": {},
   "source": [
    "## d) Comparaison\n",
    "```\n",
    "test1 = semaine_bis == semaine # Le résultat du test est stcké dans la variable booléen  test1\n",
    "print(test1)\n",
    "```\n",
    "\n",
    "```\n",
    "del semaine['dimanche'] # On supprime un élément de semaine\n",
    "print(jours)\n",
    "test2 = semaine_bis == semaine  # On compare jours et sa copie.\n",
    "print(test2)\n",
    "```\n",
    "\n",
    "* **Tester**"
   ]
  },
  {
   "cell_type": "code",
   "execution_count": null,
   "metadata": {},
   "outputs": [],
   "source": [
    " # Tester ici"
   ]
  },
  {
   "cell_type": "markdown",
   "metadata": {},
   "source": [
    "### Remarque\n",
    "1. Les clés ne sont pas forcément des chaînes de caractères.  L’outil est très souple mais, attention, autant de liberté peut être aussi préjudiciable. Il faut être très rigoureux.\n",
    "\n",
    "- Utilisation de tuples et liste :\n",
    "  . Exemple \n",
    "Dans l'exemple suivant :\n",
    "  - la clé est un tuple ;\n",
    "  - la valeur est une liste.\n",
    "\n",
    "```\n",
    "eleves = {('Jeanne',2003):['première',6,True],('Antoine',2004):['premiere',7,False]}\n",
    "print(eleves.keys())\n",
    "print(eleves.values())\n",
    "```\n",
    "* **Tester**"
   ]
  },
  {
   "cell_type": "code",
   "execution_count": null,
   "metadata": {},
   "outputs": [],
   "source": [
    "# Tester ici"
   ]
  },
  {
   "cell_type": "markdown",
   "metadata": {},
   "source": [
    "### d) Boucles et dictionnaires\n",
    "Il est possible de parcourir un dictionnaire à l'aide d'une boucle for. Ce parcours peut se faire selon les clés ou les valeurs. Commençons par parcourir les clés à l'aide de la méthode \"keys\".\n",
    "   \n",
    " - Tester le programme suivant. Qu'affiche-t-il ? \n",
    "\n",
    "```semaine={\"dimanche\": 1, \"lundi\": 2, \"mardi\": 3, \"mercredi\": 4, \"jeudi\": 5, \"vendredi\": 6, \"samedi\":7}\n",
    "print(\"les jours de la semaine:\")\n",
    "for jour in semaine.keys():\n",
    "\tprint(jour)```\n",
    " \n",
    " La méthode values() permet de parcourir le dictionnaire selon les valeurs\n",
    "* **Tester**\n"
   ]
  },
  {
   "cell_type": "code",
   "execution_count": null,
   "metadata": {},
   "outputs": [],
   "source": [
    "# Tester ici"
   ]
  },
  {
   "cell_type": "markdown",
   "metadata": {},
   "source": [
    "#### Question  \n",
    "On s'inspérant du programme précédent, écrire un programme qui afficher les vleurs de semaine.  "
   ]
  },
  {
   "cell_type": "code",
   "execution_count": null,
   "metadata": {},
   "outputs": [],
   "source": [
    "# Tester ici"
   ]
  },
  {
   "cell_type": "markdown",
   "metadata": {},
   "source": [
    "Il est possible de parcourir un dictionnaire à la fois sur les clés et sur les valeurs en utilisant la méthode items().\n",
    "\n",
    "```semaine = {\"dimanche\": 1, \"lundi\": 2, \"mardi\": 3, \"mercredi\": 4, \"jeudi\": 5, \"vendredi\": 6, \"samedi\":7}\n",
    "print(\"les jours de la semaine:\")\n",
    "for jour,num in semaine.items():\n",
    "\tprint(f'{jour}:{num}')```\n",
    "* Tester "
   ]
  },
  {
   "cell_type": "code",
   "execution_count": null,
   "metadata": {},
   "outputs": [],
   "source": [
    "# Tester ici"
   ]
  },
  {
   "cell_type": "markdown",
   "metadata": {},
   "source": [
    "# Synthèse  :  Résumé des notions abordées\n",
    "\n",
    "- Un dictionnaire est un objet conteneur associant des clés à des valeurs.\n",
    "- Pour créer un dictionnaire, on utilise la syntaxe :\n",
    "    - dictionnaire = { cle1:valeur1, cle2:valeur2, cleN:valeurN }\n",
    "- Pour récupérer une valeur dans un dictionnaire python.\n",
    "    - la méthode get : nom_dico.get(clé).\n",
    "    - la méthode directe : nom_dico[clé]\n",
    "- On peut ajouter ou remplacer un élément dans un dictionnaire:\n",
    "    - dictionnaire[cle] = valeur\n",
    "- On peut supprimer une clé (et sa valeur correspondante) d’un dictionnaire en utilisant:\n",
    "    - le mot-clé del\n",
    "    - la méthode pop()\n",
    "- On peut parcourir un dictionnaire grâce aux méthodes:\n",
    "    - keys() : parcourt les clés\n",
    "    - values() : parcourt les valeurs\n",
    "    - items() : parcourt les couples clé-valeur\n",
    "- On peut concaténer deux dictionnaires grâce à la méthode update(): \n",
    "    - dico1.update(dico2)\n",
    "- Pour accéder à toutes les fonctions et méthodes liées à la classe dictionnaire (la notion de classe sera vue en terminale ), il suffit de taper par exemple la commande dir(nom_dico) :\n",
    "\n",
    "```\n",
    ">>> dir(semaine)\n",
    "```"
   ]
  },
  {
   "cell_type": "markdown",
   "metadata": {},
   "source": [
    "Méthodes | Actions\n",
    "--- | --- \n",
    "clear() |\tSupprime tous les éléments du dictionnaire\n",
    "copy()\t|Renvoie une copie du dictionnaire\n",
    "fromkeys()|Renvoie un dictionnaire avec les clés et valeurs spécifiées\n",
    "get()\t|Renvoie la valeur de la clé spécifiée\n",
    "items()\t|Retourne un objet qui affiche une liste des paires de tuples (clé, valeur) du dictionnaire\n",
    "keys()\t|Renvoie une liste contenant les clés du dictionnaire\n",
    "pop()\t|Removes the element with the specified key\n",
    "popitem()|\tSupprime l'élément de la clé spécifiée\n",
    "setdefault()\t|Renvoie la valeur de la clé spécifiée. Si la clé n'existe pas : insère la clé, avec la valeur spécifiée.\n",
    "update()\t|Mise à jour du dictionnaire avec les paires clé-valeur spécifiées\n",
    "values()\t|Renvoie une liste de toutes les valeurs du dictionnaire"
   ]
  },
  {
   "cell_type": "code",
   "execution_count": null,
   "metadata": {},
   "outputs": [],
   "source": [
    "# Tester "
   ]
  },
  {
   "cell_type": "markdown",
   "metadata": {},
   "source": [
    "# Exercices.\n",
    "Les exercices 1. et 2. sont des exercices d'entrainement. l'exercice 3 est à rendre au propre (DM).\n",
    "### Exercice 1 : Question 1\n",
    "\n",
    " 1.a Créer un dictionnaire vide nommé *dico*. \n",
    " \n",
    " 1.b Ce dictionnaire comprendra en **clés** des mots en anglais et en **valeurs** une traduction possible en français.    \n",
    " \n",
    "     Ajouter les clés-valeurs : 'house' : 'maison' , 'kitchen' : 'cuisine'    ,  'bunk beds' : 'lits superposés'  ,  'to abuse' : 'abuser'\n",
    " \n",
    " 1.c Vérifier le résultat par un affichage du dictionnaire.\n",
    " \n",
    " 1.d Afficher sa longueur.\n"
   ]
  },
  {
   "cell_type": "code",
   "execution_count": null,
   "metadata": {},
   "outputs": [],
   "source": [
    "#Ecrire le code ici "
   ]
  },
  {
   "cell_type": "code",
   "execution_count": null,
   "metadata": {},
   "outputs": [],
   "source": []
  },
  {
   "cell_type": "code",
   "execution_count": null,
   "metadata": {},
   "outputs": [],
   "source": []
  },
  {
   "cell_type": "code",
   "execution_count": null,
   "metadata": {},
   "outputs": [],
   "source": []
  },
  {
   "cell_type": "markdown",
   "metadata": {},
   "source": [
    "### Exercice 1 : Question 2\n",
    "- Accéder aux valeurs par les clés et tester un appel d'une clé qui n'est pas dans votre dictionnaire.\n"
   ]
  },
  {
   "cell_type": "code",
   "execution_count": null,
   "metadata": {},
   "outputs": [],
   "source": [
    "#Ecrire le code ici "
   ]
  },
  {
   "cell_type": "markdown",
   "metadata": {},
   "source": [
    "### Exercice 1 : Question 3\n",
    "- Modifier la valeur de la clé 'to abuse' par 'insulter'\n"
   ]
  },
  {
   "cell_type": "code",
   "execution_count": null,
   "metadata": {},
   "outputs": [],
   "source": [
    "#Ecrire le code ici "
   ]
  },
  {
   "cell_type": "markdown",
   "metadata": {},
   "source": [
    "## Exercice 1 : Question 4\n",
    "- Supprimer une entrée de votre dictionnaire (utiliser deux méthodes)"
   ]
  },
  {
   "cell_type": "code",
   "execution_count": null,
   "metadata": {},
   "outputs": [],
   "source": [
    "#Ecrire le code ici "
   ]
  },
  {
   "cell_type": "markdown",
   "metadata": {},
   "source": [
    "## Exercice 1 : Question 5\n",
    "- Refaire les 7 méthodes d'affichages de clefs et de valeurs présentées ci-dessus avec votre dictionnaire `dico`\n"
   ]
  },
  {
   "cell_type": "code",
   "execution_count": null,
   "metadata": {},
   "outputs": [],
   "source": [
    "#Ecrire le code ici "
   ]
  },
  {
   "cell_type": "markdown",
   "metadata": {},
   "source": [
    "## Exercice 1 : Question 6\n",
    "- Copier votre dictionnaire `dico` dans un autre dictionnaire dico2 et modifier des valeurs. \n",
    "- Vérifier alors les remarques du cours."
   ]
  },
  {
   "cell_type": "code",
   "execution_count": null,
   "metadata": {},
   "outputs": [],
   "source": [
    "#Ecrire le code ici "
   ]
  },
  {
   "cell_type": "markdown",
   "metadata": {},
   "source": [
    "## Exercice 2\n",
    "Voici un dictionnaire qui permet de coder les 26 lettres de l'alphabet, l'espace et l'apostrophe '. "
   ]
  },
  {
   "cell_type": "code",
   "execution_count": null,
   "metadata": {},
   "outputs": [],
   "source": [
    "codage={'a':111,'b':121,'c':211,'d':311,'e':151,'f':411,'g':113,'h':11,'i':21,'j':71,'k':19,'l':81,'m':100,'n':9,'o':1,'p':8,'q':1234,'r':1119,'s':4111,'t':5111,'u':555,'v':321,'w':0,'x':20,'y':30,'z':40,' ':951,\"'\":753}"
   ]
  },
  {
   "cell_type": "markdown",
   "metadata": {},
   "source": [
    "A l'aide de ce dictionnaire, on veut coder le message suivant : 'bonjour'\n",
    "\n",
    "**1.** Ecrire une fonction f qui va renvoyer le mot codé sous forme d'une liste d'entiers.\n",
    "\n",
    "Par exemple on devra avoir :\n",
    "\n",
    "print(f('bonjour'))\n",
    "[121, 1, 9, 71, 1, 555, 1119]\n",
    "\n",
    "```\n",
    "def f(mot):\n",
    "    \"\"\" :param mot : une chaine de carcatére\n",
    "        :return : le codage de mot dans une liste\n",
    "    \"\"\"\n",
    "```"
   ]
  },
  {
   "cell_type": "code",
   "execution_count": null,
   "metadata": {},
   "outputs": [],
   "source": [
    "#TESTS , ATTENTION LA QUALITE ET LE NOMBRE DE TESTS EST EVALUES."
   ]
  },
  {
   "cell_type": "markdown",
   "metadata": {},
   "source": [
    "On peut facilement construire un dictionnaire permettant de décoder un message en inversant les clef et les valeurs car toutes les valeurs sont différentes. On utilise la méthode de construcion par compréhension vue dans le cours.\n",
    "```\n",
    "decodage = {codage[clef] : clef for clef in codage  }\n",
    "print(decodage)\n",
    "```\n",
    "**2.** Ecrire une fonction g de décodage qui renvoie le mot codé. Par exemple on devra avoir :\n",
    "```   \n",
    ">>>g([121, 1, 9, 71, 1, 555, 1119])\n",
    "'bonjour'\n",
    "```\n",
    "```\n",
    "#Exercice 2 : question 2.\n",
    "def g(liste):\n",
    "    \"\"\" \n",
    "    :param liste : une liste d'entiers correspondants aux codes\n",
    "    :return : le mot décodé (un str)\n",
    "    \"\"\"\n",
    "```    "
   ]
  },
  {
   "cell_type": "code",
   "execution_count": null,
   "metadata": {},
   "outputs": [],
   "source": [
    "#TESTS , ATTENTION LA QUALITE ET LE NOMBRE DE TESTS EST EVALUES "
   ]
  },
  {
   "cell_type": "markdown",
   "metadata": {},
   "source": [
    "## Exercice 3\n",
    "\n",
    "Le but de cet exercice est de construire le jeu de carte \"bataille\". Voici un extrait de Wikipédia concernant ce jeu de cartes.\n",
    "\n",
    "Le jeu de cartes français ou jeu de 52 cartes est un jeu de cartes organisées en deux couleurs: noir et rouge et en quatre enseignes françaises : pique, cœur, carreau, trèfle.\n",
    "\n",
    "On considère que la valeur d'une carte correspond à 2 si c'est un deux, 3 si c'est un trois, ..., 10 pour un dix, 11 pour un valet, 12 pour une dame, 13 pour un roi et 14 pour un as.\n",
    "\n",
    "**1.**    Créer un dictionnaire nommé valeur_carte dont les clés sont les noms des cartes (2,3,...,10 , valet, Dame, Roi, As) et les valeurs les valeurs de ces clés. Par exemple votre dictionnaire devra renvoyer :\n",
    "```\n",
    ">>> valeur_carte['valet']\n",
    "11\n",
    "```"
   ]
  },
  {
   "cell_type": "code",
   "execution_count": null,
   "metadata": {},
   "outputs": [],
   "source": [
    "#TESTS , ATTENTION LA QUALITE ET LE NOMBRE DE TESTS EST EVALUES"
   ]
  },
  {
   "cell_type": "markdown",
   "metadata": {},
   "source": [
    "**2.** Créer un dictionnaire nommé jeu_carte  dont : \n",
    "- les clés sont les 52 tuples (nom, enseigne) des cartes d'un jeu de 52 cartes :  ('2','pique') , ... ,('as','pique'), ('2','coeur'), ... ,('as','coeur')...\n",
    "- et les valeurs, les valeurs de ces cartes (clés). Par exemple votre dictionnaire devra renvoyer : \n",
    "    On peut le faire manuellement mais c'est long et fastudieux ou en automatisant le procédé. l'automatisation rapporte 5 pts mais le manuel 2pts et les tests 3 pts.\n",
    "``` python\n",
    ">>> jeu_carte[('dame','pique')]\n",
    "12\n",
    "```"
   ]
  },
  {
   "cell_type": "code",
   "execution_count": null,
   "metadata": {},
   "outputs": [],
   "source": [
    "# Exercice 3 : question 2"
   ]
  },
  {
   "cell_type": "code",
   "execution_count": null,
   "metadata": {},
   "outputs": [],
   "source": [
    "#TESTS , ATTENTION LA QUALITE ET LE NOMBRE DE TESTS EST EVALUES"
   ]
  },
  {
   "cell_type": "markdown",
   "metadata": {},
   "source": [
    "Si on veut sélectionner aléatoirement des éléments (créer un échantillon) sans remise d'une liste ou d'un dictionnaire on peut utiliser la fonction random.sample(). Par exemple pour obtenir un échantillon de taille 2 du dictionnaire test :\n",
    "```\n",
    "test = {('2','pique'):2 , ('as','pique'):14, ('3','coeur'):3,  ('as','coeur'):14}\n",
    "import random\n",
    "echant = random.sample(test.keys(), 2)\n",
    "print(echant)\n",
    "```"
   ]
  },
  {
   "cell_type": "code",
   "execution_count": null,
   "metadata": {},
   "outputs": [],
   "source": [
    "#TESTS ,"
   ]
  },
  {
   "cell_type": "markdown",
   "metadata": {},
   "source": [
    "\n",
    "**1.** Créer une fonction bataille(jeu_cartes), en utilisant les fonctions précédentes ou d'autres, qui va choisir au hasard deux cartes distinctes du jeu, les afficher, comparer leur valeurs et donner la carte gagnante ou le cas d'égalité. Par exemple on pourra avoir :\n",
    "```\n",
    ">>> bataille(jeu_cartes)\n",
    "    ('dame','coeur') de valeur 12 bat ('9','pique') de valeur 9\n",
    ">>> bataille(jeu_cartes)\n",
    "    ('10','coeur') de valeur 10 egale ('10','pique') de valeur 9\n",
    "```\n"
   ]
  },
  {
   "cell_type": "code",
   "execution_count": 36,
   "metadata": {},
   "outputs": [],
   "source": [
    "# Exercice 3 : question 4.\n",
    "# ------------------------\n",
    "def bataille(jeu_cartes):\n",
    "    \"\"\" :param  jeu_cartes : un dictionnaire jeu de cartes \n",
    "        :return  carte 1 choisie, carte 2 choisie , les valeurs et la carte la plus forte \n",
    "        : Action :  choisir au hasard deux cartes distinctes du jeu, \n",
    "                    les afficher, comparer leur valeurs \n",
    "                    et afficher la carte gagnante.\n",
    "    \"\"\" "
   ]
  },
  {
   "cell_type": "code",
   "execution_count": null,
   "metadata": {},
   "outputs": [],
   "source": []
  },
  {
   "cell_type": "code",
   "execution_count": null,
   "metadata": {},
   "outputs": [],
   "source": []
  }
 ],
 "metadata": {
  "kernelspec": {
   "display_name": "Python 3",
   "language": "python",
   "name": "python3"
  },
  "language_info": {
   "codemirror_mode": {
    "name": "ipython",
    "version": 3
   },
   "file_extension": ".py",
   "mimetype": "text/x-python",
   "name": "python",
   "nbconvert_exporter": "python",
   "pygments_lexer": "ipython3",
   "version": "3.6.4"
  }
 },
 "nbformat": 4,
 "nbformat_minor": 2
}

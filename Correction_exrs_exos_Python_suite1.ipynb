{
 "cells": [
  {
   "cell_type": "code",
   "execution_count": 2,
   "metadata": {},
   "outputs": [
    {
     "data": {
      "application/javascript": [
       "function colorCells() { for (let cell of Jupyter.notebook.get_cells()) if (cell.metadata.tags && cell.metadata.tags.indexOf('nsi_enonce') >= 0) cell.element.css('background', '#DDDDFF'); } if (Jupyter.notebook.kernel) colorCells(); else Jupyter.notebook.events.one('kernel_ready.Kernel', (e) => colorCells())\n"
      ],
      "text/plain": [
       "<IPython.core.display.Javascript object>"
      ]
     },
     "metadata": {},
     "output_type": "display_data"
    }
   ],
   "source": [
    "%%js # Exécuter cette cellule pour colorer les énoncés s'ils ne le sont pas déjà\n",
    "function colorCells() { for (let cell of Jupyter.notebook.get_cells()) if (cell.metadata.tags && cell.metadata.tags.indexOf('nsi_enonce') >= 0) cell.element.css('background', '#DDDDFF'); } if (Jupyter.notebook.kernel) colorCells(); else Jupyter.notebook.events.one('kernel_ready.Kernel', (e) => colorCells())"
   ]
  },
  {
   "cell_type": "markdown",
   "metadata": {
    "tags": [
     "nsi_enonce",
     "nsi_newbie"
    ]
   },
   "source": [
    "Exercices\n",
    "=========\n",
    "\n",
    "Exercices Newbie\n",
    "----------------\n"
   ]
  },
  {
   "cell_type": "markdown",
   "metadata": {
    "tags": [
     "nsi_enonce",
     "nsi_ex1"
    ]
   },
   "source": [
    "### Exercice 1\n",
    "\n",
    "Identifier les types des valeurs suivantes :\n",
    "\n",
    "`\"Exercice\"`, `123.`, `True`, `1e10`, `\"False\"`, `'3,14'`\n"
   ]
  },
  {
   "cell_type": "markdown",
   "metadata": {},
   "source": [
    "Chaîne de caractères, nombre à virgule flottante, Booléen, entier, Chaîne de caractères, Chaîne de caractères"
   ]
  },
  {
   "cell_type": "markdown",
   "metadata": {
    "tags": [
     "nsi_enonce",
     "nsi_ex5"
    ]
   },
   "source": [
    "### Exercice 5\n",
    "\n",
    "Qu’est-ce qui est affiché par chacun des programmes suivants ? "
   ]
  },
  {
   "cell_type": "code",
   "execution_count": 3,
   "metadata": {
    "tags": [
     "nsi_enonce",
     "nsi_ex5"
    ]
   },
   "outputs": [
    {
     "name": "stdout",
     "output_type": "stream",
     "text": [
      "Logique.\n"
     ]
    }
   ],
   "source": [
    "if ( 12 * 2 == 24 ):\n",
    "    print(\"Logique.\")"
   ]
  },
  {
   "cell_type": "code",
   "execution_count": 10,
   "metadata": {
    "tags": [
     "nsi_enonce",
     "nsi_ex5"
    ]
   },
   "outputs": [],
   "source": [
    "if ( 12 * 2 == 24 ) == False:\n",
    "    print(\"Logique.\")"
   ]
  },
  {
   "cell_type": "code",
   "execution_count": 11,
   "metadata": {
    "tags": [
     "nsi_enonce",
     "nsi_ex5"
    ]
   },
   "outputs": [
    {
     "name": "stdout",
     "output_type": "stream",
     "text": [
      "Logique.\n",
      "Ou pas.\n"
     ]
    }
   ],
   "source": [
    "if ( 12 * 2 == 23 ) == False:\n",
    "    print(\"Logique.\")\n",
    "print(\"Ou pas.\")"
   ]
  },
  {
   "cell_type": "code",
   "execution_count": 12,
   "metadata": {
    "tags": [
     "nsi_enonce",
     "nsi_ex5"
    ]
   },
   "outputs": [
    {
     "name": "stdout",
     "output_type": "stream",
     "text": [
      "Ou pas.\n"
     ]
    }
   ],
   "source": [
    "if ( 12 * 2 == 23 ):\n",
    "    print(\"Logique.\")\n",
    "else:\n",
    "    print(\"Ou pas.\")"
   ]
  },
  {
   "cell_type": "markdown",
   "metadata": {
    "tags": [
     "nsi_jupyter"
    ]
   },
   "source": [
    "Note : l'exercice est à réaliser \"à la main\", mais on pourra exécuter les cellules ci-dessus pour confirmer le résultat."
   ]
  },
  {
   "cell_type": "markdown",
   "metadata": {
    "tags": [
     "nsi_solution"
    ]
   },
   "source": [
    "1: Logique. \\\n",
    "2: (rien) \\\n",
    "3: Logique. \\\n",
    "   Ou pas. \\\n",
    "3: Ou pas."
   ]
  },
  {
   "cell_type": "markdown",
   "metadata": {
    "tags": [
     "nsi_enonce",
     "nsi_ex6"
    ]
   },
   "source": [
    "### Exercice 6\n",
    "\n",
    "Combien de fois s’exécute le corps de chacune des boucles ci-dessous, et quelle est la valeur de `s` à la fin de l’exécution ?"
   ]
  },
  {
   "cell_type": "markdown",
   "metadata": {
    "tags": [
     "nsi_enonce",
     "nsi_ex6"
    ]
   },
   "source": [
    "s = 0\n",
    "for i in range(10):\n",
    "    s = s + i"
   ]
  },
  {
   "cell_type": "markdown",
   "metadata": {
    "tags": [
     "nsi_enonce",
     "nsi_ex6"
    ]
   },
   "source": [
    "s = 1\n",
    "for i in range(1,6):\n",
    "    s = s * i"
   ]
  },
  {
   "cell_type": "markdown",
   "metadata": {
    "tags": [
     "nsi_enonce",
     "nsi_ex6"
    ]
   },
   "source": [
    "s = 0\n",
    "while s < 20:\n",
    "    s = s + 5"
   ]
  },
  {
   "cell_type": "markdown",
   "metadata": {
    "tags": [
     "nsi_enonce",
     "nsi_ex6"
    ]
   },
   "source": [
    "s = 1\n",
    "while s != 100:\n",
    "    s = s * 2"
   ]
  },
  {
   "cell_type": "markdown",
   "metadata": {
    "tags": [
     "nsi_enonce",
     "nsi_ex6"
    ]
   },
   "source": [
    "</p></td></tr></tbody></table>\n"
   ]
  },
  {
   "cell_type": "markdown",
   "metadata": {
    "tags": [
     "nsi_solution",
     "nsi_ex6"
    ]
   },
   "source": [
    "10 fois (s = 45);\\\n",
    "5 fois (s = 120);\\\n",
    "4 fois (s = 20);\\\n",
    "boucle infinie"
   ]
  },
  {
   "cell_type": "code",
   "execution_count": 16,
   "metadata": {},
   "outputs": [
    {
     "name": "stdout",
     "output_type": "stream",
     "text": [
      "s= 45 i= 9\n"
     ]
    }
   ],
   "source": [
    "s = 0 \n",
    "for i in range(10):\n",
    "    s = s + i\n",
    "print(\"s=\",s,\"i=\",i)"
   ]
  },
  {
   "cell_type": "code",
   "execution_count": 4,
   "metadata": {},
   "outputs": [
    {
     "name": "stdout",
     "output_type": "stream",
     "text": [
      "n = 10 , s = 45\n"
     ]
    }
   ],
   "source": [
    "# Note : l'exercice est à faire \"à la main\" !\n",
    "n = 0\n",
    "s = 0\n",
    "for i in range(10):\n",
    "    n += 1\n",
    "    s = s + i\n",
    "print('n =', n,', s =', s)"
   ]
  },
  {
   "cell_type": "code",
   "execution_count": 1,
   "metadata": {},
   "outputs": [
    {
     "name": "stdout",
     "output_type": "stream",
     "text": [
      "n = 5 , s = 120\n"
     ]
    }
   ],
   "source": [
    "n = 0\n",
    "s = 1\n",
    "for i in range(1,6):\n",
    "    n += 1\n",
    "     s = s * i   # qu'on pourra écrire s *= i\n",
    "print('n =', n,', s =', s)"
   ]
  },
  {
   "cell_type": "code",
   "execution_count": 1,
   "metadata": {},
   "outputs": [
    {
     "name": "stdout",
     "output_type": "stream",
     "text": [
      "n = 4 , s = 20\n"
     ]
    }
   ],
   "source": [
    "n = 0\n",
    "s = 0\n",
    "while s < 20:\n",
    "    n += 1   # équivaut à n=n+1\n",
    "    s = s + 5  # qu'on pourra écrire aussi : s += 5\n",
    "print('n =', n,', s =', s)"
   ]
  },
  {
   "cell_type": "code",
   "execution_count": null,
   "metadata": {},
   "outputs": [],
   "source": [
    "# Attention : ce programme boucle, il faudra l'interrompre\n",
    "# soit avec ^C dans Python, soit avec la commande Interrupt dans Jupyter\n",
    "# (ou le bouton avec un carré noir)\n",
    "n = 0\n",
    "s = 1\n",
    "while s != 100:\n",
    "    n += 1\n",
    "    s = s * 2\n",
    "print('n =', n,', s =', s)"
   ]
  },
  {
   "cell_type": "markdown",
   "metadata": {
    "tags": [
     "nsi_enonce",
     "nsi_ex13"
    ]
   },
   "source": [
    "### Exercice 13\n",
    "\n",
    "Identifier les types d’erreurs dans le code ci-dessous et les corriger\n",
    "\n"
   ]
  },
  {
   "cell_type": "markdown",
   "metadata": {
    "tags": [
     "nsi_enonce",
     "nsi_ex13"
    ]
   },
   "source": [
    "```python\n",
    "pi = 3,14\n",
    "def aire-cercle(rayon)\n",
    "    return pi * r * 2\n",
    "  print(aire_cercle(10)\n",
    "```"
   ]
  },
  {
   "cell_type": "code",
   "execution_count": 3,
   "metadata": {},
   "outputs": [
    {
     "ename": "SyntaxError",
     "evalue": "invalid syntax (<ipython-input-3-c26d878beed6>, line 2)",
     "output_type": "error",
     "traceback": [
      "\u001b[1;36m  File \u001b[1;32m\"<ipython-input-3-c26d878beed6>\"\u001b[1;36m, line \u001b[1;32m2\u001b[0m\n\u001b[1;33m    def aire-cercle(rayon)\u001b[0m\n\u001b[1;37m            ^\u001b[0m\n\u001b[1;31mSyntaxError\u001b[0m\u001b[1;31m:\u001b[0m invalid syntax\n"
     ]
    }
   ],
   "source": [
    "pi = 3,14\n",
    "def aire-cercle(rayon)\n",
    "    return pi * r * 2\n",
    "print(aire_cercle(10)"
   ]
  ,
  {
   "cell_type": "code",
   "execution_count": 9,
   "metadata": {
    "tags": [
     "nsi_solution",
     "nsi_ex13"
    ]
   },
   "outputs": [
    {
     "name": "stdout",
     "output_type": "stream",
     "text": [
      "314.0\n"
     ]
    }
   ],
   "source": [
    "pi = 3.14 # avec un point et pas une virgule\n",
    "def aire_cercle(rayon):     # _ et pas -, : à la fin\n",
    "    return pi * rayon **2   # rayon et pas r, ** et pas *\n",
    "print(aire_cercle(10)) # indentation, parenthèse fermante"
   ]
  }
 ],
 
 "source": [
    "Exercices\n",
    "=========\n",
    "\n",
    "\n",
    "Exercices Initié\n",
    "----------------\n"
   ]
  },
  {
   "cell_type": "markdown",
   "metadata": {
    "tags": [
     "nsi_enonce",
     "nsi_ex14"
    ]
   },
   "source": [
    "### Exercice 14\n",
    "\n",
    "a) Trouver les valeurs suivantes, par exemple dans Wikipedia, et écrire les valeurs Python correspondantes en unités SI :\n",
    "\n",
    "-   Distance `d` de la Terre au Soleil ;\n",
    "\n",
    "-   Vitesse `c` de la lumière ;\n",
    "\n",
    "-   Circonférence `t` de la Terre ;\n",
    "\n",
    "-   Population `p` de la Terre."
   ]
  },
  {
   "cell_type": "code",
   "execution_count": 2,
   "metadata": {},
   "outputs": [],
   "source": [
    "d = 149597870700 # mètres (aussi appelé UA = Unité Astronomique)\n",
    "c = 299792458    # mètres / seconde\n",
    "t = 40075017     # mètres (à l'équateur)\n",
    "p = 7874966000   # environ, en 2021"
   ]
  },
  {
   "cell_type": "markdown",
   "metadata": {
    "tags": [
     "nsi_enonce",
     "nsi_ex14"
    ]
   },
   "source": [
    "b) A partir des valeurs précédentes, écrire les expressions qui calculent les valeurs suivantes (attention aux unités !) :\n",
    "\n",
    "-   Temps mis par la lumière du Soleil pour atteindre la Terre ;\n",
    "-   Vitesse moyenne de la Terre autour du Soleil, en supposant que la trajectoire est circulaire ;\n",
    "-   Nombre de fois qu’un signal électrique fait le tour de la Terre en 1 seconde ;\n",
    "-   Surface de la Terre ;\n",
    "-   Densité moyenne de population de la Terre, sachant que 70,7% de la surface de la Terre est immergée."
   ]
  },
  {
   "cell_type": "code",
   "execution_count": 3,
   "metadata": {
    "tags": [
     "nsi_solution",
     "nsi_ex14"
    ]
   },
   "outputs": [
    {
     "name": "stdout",
     "output_type": "stream",
     "text": [
      "499.00478383615643 secondes\n",
      "29785.25436559154 m/s, soit 107226.91571612956 km/h\n",
      "7.4807818047837635 tours\n",
      "511207901417505.0 m2, soit 511.207901417505 millions de km2\n",
      "52.575511822724884 hab/km2\n"
     ]
    }
   ],
   "source": [
    "from math import pi\n",
    "\n",
    "temps_lumiere_terre_soleil = d / c\n",
    "vitesse_terre = (2*pi*d) / (365.25*24*60*60)\n",
    "nb_signal_electrique = c/t\n",
    "rayon_terre = t / (2*pi)\n",
    "surface_terre = 4 * pi * rayon_terre*rayon_terre\n",
    "surface_terre_km2 = surface_terre / 1000000\n",
    "surface_emergee = surface_terre_km2 * (1-0.707)\n",
    "densite_moyenne_population = p / surface_emergee\n",
    "\n",
    "print(temps_lumiere_terre_soleil, 'secondes')\n",
    "print(vitesse_terre, 'm/s, soit', vitesse_terre/1000*60*60, 'km/h')\n",
    "print(nb_signal_electrique, 'tours')\n",
    "print(surface_terre, 'm2, soit', surface_terre_km2/1000000, 'millions de km2')\n",
    "print(densite_moyenne_population, 'hab/km2')"
   ]
  },
  {
   "cell_type": "markdown",
   "metadata": {
    "tags": [
     "nsi_enonce",
     "nsi_ex15"
    ]
   },
   "source": [
    "### Exercice 15\n",
    "\n",
    "En utilisant une fois et une seule chacun des nombres de 1 à 4, écrire 11 expressions arithmétiques qui utilisent les quatre opérations et les parenthèses dont les résultats sont les nombres de 0 à 10. *Niveau Titan* : Essayer de trouver des expressions qui utilisent chaque opérateur au plus une seule fois.\n"
   ]
  },
  {
   "cell_type": "code",
   "execution_count": 4,
   "metadata": {
    "tags": [
     "nsi_solution",
     "nsi_ex15"
    ]
   },
   "outputs": [
    {
     "name": "stdout",
     "output_type": "stream",
     "text": [
      "0.0\n",
      "1\n",
      "2.0\n",
      "3.0\n",
      "4.0\n",
      "5.0\n",
      "6\n",
      "7\n",
      "8.0\n",
      "9\n",
      "10.0\n"
     ]
    }
   ],
   "source": [
    "# Note : il existe d'autres solutions.\n",
    "# Note 2 : les résultats sont des nombres en virgule flottante \n",
    "# lorsqu'on utilise la division. \n",
    "# On peut utiliser la divition entière pour avoir des résultats entiers\n",
    "# (mais alors on ne sait pas si le résultat est réellement entier)\n",
    "print((3 + 1 - 4) / 2)\n",
    "print(2*3 - (4 + 1))\n",
    "print(2 * (3 + 1)/4)\n",
    "print((4 + 2) / (3 - 1))\n",
    "print((4 * (3 - 1))/2)\n",
    "print((3 - 1)/2 + 4)\n",
    "print(4*2 - 3 + 1)\n",
    "print(4 + 3 * (2 - 1))\n",
    "print(4 * (3+1) / 2)\n",
    "print(4*3 - (2 + 1))\n",
    "print((4*3 - 2)/1)"
   ]
  },
  {
   "cell_type": "markdown",
   "metadata": {
    "tags": [
     "nsi_enonce",
     "nsi_ex16"
    ]
   },
   "source": [
    "### Exercice 16\n",
    "\n",
    "Dans le Bourgeois Gentilhomme (Acte II, scène 4), le Maître de Philosophie dit :\n",
    "\n",
    "> On les peut mettre premièrement comme vous avez dit : \"Belle Marquise, vos beaux yeux me font mourir d’amour\". Ou bien : \"D’amour mourir me font, belle Marquise, vos beaux yeux\". Ou bien : \"Vos yeux beaux d’amour me font, belle Marquise, mourir\". Ou bien : \"Mourir vos beaux yeux, belle Marquise, d’amour me font\". Ou bien : \"Me font vos yeux beaux mourir, belle Marquise, d’amour.\n",
    ">\n",
    "> —  Molière\n",
    "\n",
    "\n",
    "Définir plusieurs variables contenant les morceaux de la phrase *\"Belle Marquise, …​\"*, de telle sorte que l’on puisse afficher, avec la fonction `print` et l’opérateur `+` des chaînes de caractères, les différentes variantes énoncées. (On ignore la distinction entre majuscules et minuscules).\n"
   ]
  },
  {
   "cell_type": "code",
   "execution_count": 5,
   "metadata": {
    "tags": [
     "nsi_solution",
     "nsi_ex16"
    ]
   },
   "outputs": [
    {
     "name": "stdout",
     "output_type": "stream",
     "text": [
      " belle Marquise, vos beaux yeux me font mourir d'amour\n",
      " d'amour mourir me font, belle Marquise, vos beaux yeux\n",
      " vos yeux beaux d'amour me font, belle Marquise, mourir\n",
      " mourir vos beaux yeux, belle Marquise, d'amour me font\n",
      " me font vos yeux beaux mourir, belle Marquise, d'amour\n"
     ]
    }
   ],
   "source": [
    "bm = \" belle Marquise,\"\n",
    "vby = \" vos beaux yeux\"\n",
    "vyb = \" vos yeux beaux\"\n",
    "mf  = \" me font\"\n",
    "m = \" mourir\"\n",
    "a = \" d'amour\"\n",
    "print(bm+vby+mf+m+a)\n",
    "print(a+m+mf+\",\"+bm+vby)\n",
    "print(vyb+a+mf+\",\"+bm+m)\n",
    "print(m+vby+\",\"+bm+a+mf)\n",
    "print(mf+vyb+m+\",\"+bm+a)"
   ]
  },
  {
   "cell_type": "markdown",
   "metadata": {
    "tags": [
     "nsi_enonce",
     "nsi_ex17"
    ]
   },
   "source": [
    "### Exercice 17\n",
    "\n",
    "Montrer les identités suivantes, appelées identités de l’algèbre de Boole : "
   ]
  },
  {
   "cell_type": "markdown",
   "metadata": {
    "tags": [
     "nsi_enonce",
     "nsi_ex17"
    ]
   },
   "source": [
    "```python\n",
    "not (a and b) == not a or not b\n",
    "not (a or b) == not a and not b\n",
    "```"
   ]
  },
  {
   "cell_type": "markdown",
   "metadata": {
    "tags": [
     "nsi_enonce",
     "nsi_ex17"
    ]
   },
   "source": [
    " en écrivant et en exécutant un programme qui calcule les valeurs des 4 expressions ci-dessus pour toutes les valeurs possibles des variables booléennes `a` et `b`. On rappelle que `a and b` est vrai seulement si `a` et `b` sont vrais, `a or b` est vrai si `a` est vrai ou `b` est vrai, et `not a` est vrai si `a` est faux.\n"
   ]
  },
  {
   "cell_type": "code",
   "execution_count": 6,
   "metadata": {
    "tags": [
     "nsi_solution",
     "nsi_ex17"
    ]
   },
   "outputs": [
    {
     "name": "stdout",
     "output_type": "stream",
     "text": [
      "a = False  b = False\n",
      "    not (a and b)   = True\n",
      "    not a or not b  = True\n",
      "    not (a or b)    = True\n",
      "    not a and not b = True\n",
      "a = False  b = True\n",
      "    not (a and b)   = True\n",
      "    not a or not b  = True\n",
      "    not (a or b)    = False\n",
      "    not a and not b = False\n",
      "a = True  b = False\n",
      "    not (a and b)   = True\n",
      "    not a or not b  = True\n",
      "    not (a or b)    = False\n",
      "    not a and not b = False\n",
      "a = True  b = True\n",
      "    not (a and b)   = False\n",
      "    not a or not b  = False\n",
      "    not (a or b)    = False\n",
      "    not a and not b = False\n"
     ]
    }
   ],
   "source": [
    "for i in range(2):\n",
    "    a = i == 1\n",
    "    for j in range(2):\n",
    "        b = j == 1\n",
    "        print('a =', a, ' b =', b)\n",
    "        print('    not (a and b)   =', not (a and b))\n",
    "        print('    not a or not b  =', not a or not b)\n",
    "        print('    not (a or b)    =', not (a or b))\n",
    "        print('    not a and not b =', not a and not b)"
   ]
  },
  {
   "cell_type": "markdown",
   "metadata": {
    "tags": [
     "nsi_enonce",
     "nsi_ex18"
    ]
   },
   "source": [
    "### Exercice 18\n",
    "\n",
    "L’opérateur booléen `or` ne correspond pas toujours à ce que l’on entend par \"ou\" dans la vie quotidienne : si un restaurant affiche dans son menu \"fromage ou dessert\", cela signifie que l’on peut choisir l’un ou l’autre, mais pas les deux. Mais si l’on a deux variables booléennes `fromage` et `dessert`, l’expression `fromage or dessert` est vraie si l’une, l’autre ou les deux variables sont vraies.\n",
    "\n",
    "L’équivalent du \"ou\" du restaurant s’appelle un *ou exclusif*, ou `xor` (\"exclusive-or\"). Écrire une fonction `xor(a, b)` qui retourne le ou exclusif de `a` et `b`.\n"
   ]
  },
  {
   "cell_type": "code",
   "execution_count": 7,
   "metadata": {
    "tags": [
     "nsi_solution",
     "nsi_ex18"
    ]
   },
   "outputs": [
    {
     "name": "stdout",
     "output_type": "stream",
     "text": [
      "True xor True = False\n",
      "True xor False = True\n",
      "False xor True = True\n",
      "False xor False = False\n"
     ]
    }
   ],
   "source": [
    "def xor(a, b):\n",
    "    \"\"\" Retourne vrai si a ou b est vrai mais pas les deux\"\"\"\n",
    "    return (a or b) and not (a and b)\n",
    "    \n",
    "print(True, 'xor', True, '=', xor(True, True))\n",
    "print(True, 'xor', False, '=', xor(True, False))\n",
    "print(False, 'xor', True, '=', xor(False, True))\n",
    "print(False, 'xor', False, '=', xor(False, False))"
   ]
  },
  {
   "cell_type": "markdown",
   "metadata": {
    "tags": [
     "nsi_enonce",
     "nsi_ex19"
    ]
   },
   "source": [
    "### Exercice 19 \n",
    "\n",
    "On considère l’affectation `res = a and b`.\n",
    "\n",
    "a) Remplacer cette affectation par une instruction conditionnelle imbriquée équivalente, sans utiliser `and`.\n"
   ]
  },
  {
   "cell_type": "code",
   "execution_count": 8,
   "metadata": {
    "tags": [
     "nsi_solution",
     "nsi_ex19"
    ]
   },
   "outputs": [
    {
     "name": "stdout",
     "output_type": "stream",
     "text": [
      "True et True = True\n",
      "True et False = False\n",
      "False et True = False\n",
      "False et False = False\n"
     ]
    }
   ],
   "source": [
    "# On définit une fonction pour faciliter le test\n",
    "def et(a, b):\n",
    "    return not (not a or not b)\n",
    "\n",
    "print(True, 'et', True, '=', et(True, True))\n",
    "print(True, 'et', False, '=', et(True, False))\n",
    "print(False, 'et', True, '=', et(False, True))\n",
    "print(False, 'et', False, '=', et(False, False))"
   ]
  },
  {
   "cell_type": "markdown",
   "metadata": {
    "tags": [
     "nsi_enonce",
     "nsi_ex19"
    ]
   },
   "source": [
    "b) Même question pour l’affectation `res = a or b`.\n"
   ]
  },
  {
   "cell_type": "code",
   "execution_count": 9,
   "metadata": {
    "tags": [
     "nsi_solution",
     "nsi_ex19"
    ]
   },
   "outputs": [
    {
     "name": "stdout",
     "output_type": "stream",
     "text": [
      "True ou True = True\n",
      "True ou False = True\n",
      "False ou True = True\n",
      "False ou False = False\n"
     ]
    }
   ],
   "source": [
    "# On définit une fonction pour faciliter le test\n",
    "def ou(a, b):\n",
    "    return not (not a and not b)\n",
    "\n",
    "print(True, 'ou', True, '=', ou(True, True))\n",
    "print(True, 'ou', False, '=', ou(True, False))\n",
    "print(False, 'ou', True, '=', ou(False, True))\n",
    "print(False, 'ou', False, '=', ou(False, False))"
   ]
  },
  {
   "cell_type": "markdown",
   "metadata": {
    "tags": [
     "nsi_enonce",
     "nsi_ex20"
    ]
   },
   "source": [
    "### Exercice 20\n",
    "\n",
    "Écrire une instruction conditionnelle qui affiche la phrase \"Il va faire très froid / froid / frais / bon / un peu chaud / chaud / très chaud\" selon la valeur de la variable `t` représentant la température maximale prévue. Vous choisirez les seuils entre chaque niveau de température.\n"
   ]
  },
  {
   "cell_type": "code",
   "execution_count": 10,
   "metadata": {
    "tags": [
     "nsi_solution",
     "nsi_ex20"
    ]
   },
   "outputs": [
    {
     "name": "stdout",
     "output_type": "stream",
     "text": [
      "Il va faire un peu chaud\n"
     ]
    }
   ],
   "source": [
    "t = 25\n",
    "\n",
    "if t < -10:\n",
    "    print(\"Il va faire très froid\")\n",
    "elif t < 0:\n",
    "    print(\"Il va faire froid\")\n",
    "elif t < 15:\n",
    "    print(\"Il va faire frais\")\n",
    "elif t < 25:\n",
    "    print(\"Il va faire bon\")\n",
    "elif t < 30:\n",
    "    print(\"Il va faire un peu chaud\")\n",
    "elif t < 35:\n",
    "    print(\"Il va faire chaud\")\n",
    "else:\n",
    "    print(\"Il va faire très chaud\")"
   ]
  },
  {
   "cell_type": "markdown",
   "metadata": {
    "tags": [
     "nsi_enonce",
     "nsi_ex21"
    ]
   },
   "source": [
    "### Exercice 21\n",
    "\n",
    "a) Écrire un programme qui indique si une année `a` est bissextile. Une année est bissextile si elle est divisible par 4. Cependant, les siècles ne sont pas bissextiles, sauf les multiples de 400."
   ]
  },
  {
   "cell_type": "code",
   "execution_count": 11,
   "metadata": {},
   "outputs": [
    {
     "name": "stdout",
     "output_type": "stream",
     "text": [
      "False\n"
     ]
    }
   ],
   "source": [
    "a = 2021 # changer l'année pour tester d'autres valeurs\n",
    "\n",
    "bissextile = False\n",
    "if a % 4 == 0 and (a % 100 != 0 or a % 400 == 0):\n",
    "    bissextile = True\n",
    "\n",
    "print(bissextile)"
   ]
  },
  {
   "cell_type": "markdown",
   "metadata": {
    "tags": [
     "nsi_enonce",
     "nsi_ex21"
    ]
   },
   "source": [
    "b) Compléter le programme pour calculer le nombre de jours du mois `m`, `m` étant un entier compris entre 1 et 12. De janvier à juillet, les mois impairs ont 31 jours, les autres 30 ; de août à décembre c’est l’inverse. De plus, le mois de février a 29 ou 28 jours selon que l’année est bissextile ou non."
   ]
  },
  {
   "cell_type": "code",
   "execution_count": 12,
   "metadata": {
    "tags": [
     "nsi_solution",
     "nsi_ex21"
    ]
   },
   "outputs": [
    {
     "name": "stdout",
     "output_type": "stream",
     "text": [
      "28\n"
     ]
    }
   ],
   "source": [
    "m = 2  # changer le mois pour tester d'autres valeurs\n",
    "\n",
    "jours = 31\n",
    "if m < 7 and m % 2 == 0 or m > 7 and m % 2 == 1:\n",
    "    jours = 30\n",
    "if m == 2:\n",
    "    jours = 28\n",
    "    if bissextile:\n",
    "        jours = 29\n",
    "\n",
    "print(jours)"
   ]
  },
  {
   "cell_type": "markdown",
   "metadata": {
    "tags": [
     "nsi_enonce",
     "nsi_ex22"
    ]
   },
   "source": [
    "### Exercice 22\n",
    "\n",
    "a) Écrire le code de l’exercice précédent sous forme de deux fonctions :\n",
    "\n"
   ]
  },
  {
   "cell_type": "markdown",
   "metadata": {
    "tags": [
     "nsi_enonce",
     "nsi_ex22"
    ]
   },
   "source": [
    "```python\n",
    "def est_bissextile(annee):\n",
    "    \"\"\" retourne True si l'annee est bissextile \"\"\"\n",
    "    ...\n",
    "\n",
    "def nb_jours_mois(mois, annee):\n",
    "    \"\"\" retourne le nombre de jours du mois\n",
    "        de l'annee donnee \"\"\"\n",
    "    ...\n",
    "```"
   ]
  },
  {
   "cell_type": "code",
   "execution_count": 13,
   "metadata": {},
   "outputs": [
    {
     "name": "stdout",
     "output_type": "stream",
     "text": [
      "juillet 2022 a 31 jours\n",
      "février 2020 a 29 jours\n"
     ]
    }
   ],
   "source": [
    "def est_bissextile(annee):\n",
    "    \"\"\" retourne True si l'annee est bissextile \"\"\"\n",
    "    bissextile = False\n",
    "    if annee % 4 == 0 and (annee % 100 != 0 or annee % 400 == 0):\n",
    "        bissextile = True\n",
    "    return bissextile\n",
    "\n",
    "def nb_jours_mois(mois, annee):\n",
    "    \"\"\" retourne le nombre de jours du mois\n",
    "        de l'annee donnee \"\"\"\n",
    "    jours = 31\n",
    "    if mois < 7 and mois % 2 == 0 or mois > 7 and mois % 2 == 1:\n",
    "        jours = 30\n",
    "    if mois == 2:\n",
    "        jours = 28\n",
    "        if est_bissextile(annee):\n",
    "            jours = 29\n",
    "    return jours\n",
    "\n",
    "print('juillet 2022 a', nb_jours_mois(7, 2022), 'jours')\n",
    "print('février 2020 a', nb_jours_mois(2, 2020), 'jours')"
   ]
  },
  {
   "cell_type": "markdown",
   "metadata": {
    "tags": [
     "nsi_enonce",
     "nsi_ex22"
    ]
   },
   "source": [
    "b) Écrire une fonction qui calcule le nombre de jours depuis le début de l’année jusqu’à une date donnée : "
   ]
  },
  {
   "cell_type": "markdown",
   "metadata": {
    "tags": [
     "nsi_enonce",
     "nsi_ex22"
    ]
   },
   "source": [
    "```python\n",
    "def nb_jours(jour, mois, annee):\n",
    "    \"\"\" retourne le nombre de jours\n",
    "        depuis le debut de l'annee \"\"\"\n",
    "    ...\n",
    "```"
   ]
  },
  {
   "cell_type": "code",
   "execution_count": 14,
   "metadata": {
    "tags": [
     "nsi_solution",
     "nsi_ex22"
    ]
   },
   "outputs": [
    {
     "name": "stdout",
     "output_type": "stream",
     "text": [
      "32\n",
      "195\n",
      "365\n",
      "366\n"
     ]
    }
   ],
   "source": [
    "def nb_jours(jour, mois, annee):\n",
    "    \"\"\" retourne le nombre de jours\n",
    "        depuis le debut de l'annee \"\"\"\n",
    "    njours = 0\n",
    "    # calculer la somme des nombres de jours des mois précédents\n",
    "    for m in range(1, mois):\n",
    "        njours = njours + nb_jours_mois(m, annee)\n",
    "    return njours + jour\n",
    "\n",
    "print(nb_jours(1, 2, 2022))\n",
    "print(nb_jours(14, 7, 2022))\n",
    "print(nb_jours(31, 12, 2022))\n",
    "print(nb_jours(31, 12, 2024))"
   ]
  },
  {
   "cell_type": "markdown",
   "metadata": {
    "tags": [
     "nsi_enonce",
     "nsi_ex22"
    ]
   },
   "source": [
    "c) On représente les jours de la semaine par les nombres 0 = Lundi à 6 = Dimanche. Étant donné le code du premier jour de l’année (4 = Vendredi pour l’année 2021), écrire une fonction qui retourne le jour de la semaine d’une date donnée : "
   ]
  },
  {
   "cell_type": "markdown",
   "metadata": {
    "tags": [
     "nsi_enonce",
     "nsi_ex22"
    ]
   },
   "source": [
    "```python\n",
    "def jour_semaine(jour, mois, annee, jour0):\n",
    "    \"\"\" retourne le jour de la semaine\n",
    "        de la date donnee. `jour0` est le\n",
    "        code du premier jour de l'annee \"\"\"\n",
    "    ...\n",
    "```"
   ]
  },
  {
   "cell_type": "code",
   "execution_count": 15,
   "metadata": {
    "tags": [
     "nsi_solution",
     "nsi_ex22"
    ]
   },
   "outputs": [
    {
     "name": "stdout",
     "output_type": "stream",
     "text": [
      "4\n"
     ]
    }
   ],
   "source": [
    "def jour_semaine(jour, mois, annee, jour0):\n",
    "    \"\"\" retourne le jour de la semaine\n",
    "        de la date donnee. `jour0` est le\n",
    "        code du premier jour de l'annee \"\"\"\n",
    "    return (jour0 + nb_jours(jour, mois, annee) -1) % 7\n",
    "\n",
    "# Le dernier jour d'une année non bissextile est le même que le premier\n",
    "print(jour_semaine(31, 12, 2021, 4))"
   ]
  },
  {
   "cell_type": "markdown",
   "metadata": {
    "tags": [
     "nsi_enonce",
     "nsi_ex22"
    ]
   },
   "source": [
    "d) Vérifier que le 14 juillet 2022 tombe un jeudi.\n"
   ]
  },
  {
   "cell_type": "code",
   "execution_count": 16,
   "metadata": {
    "tags": [
     "nsi_solution",
     "nsi_ex22"
    ]
   },
   "outputs": [
    {
     "name": "stdout",
     "output_type": "stream",
     "text": [
      "Le 14 juillet 2022 est bien un jeudi\n"
     ]
    }
   ],
   "source": [
    "# On calcule d'abord le jour0 de l'année 2022\n",
    "nouvelan2022 = jour_semaine(31, 12, 2021, 4) + 1\n",
    "\n",
    "# Maintenant on peut calculer le jour demandé\n",
    "fetnat2022 = jour_semaine(14, 7, 2022, nouvelan2022)\n",
    "if fetnat2022 == 3:\n",
    "    print(\"Le 14 juillet 2022 est bien un jeudi\")\n",
    "else:\n",
    "    print(\"il semble y avoir une erreur...\")"
   ]
  },
  {
   "cell_type": "markdown",
   "metadata": {
    "tags": [
     "nsi_enonce",
     "nsi_ex23"
    ]
   },
   "source": [
    "### Exercice 23\n",
    "\n",
    "Écrire une boucle bornée (`for`) qui affiche les nombres pairs entre 2 et 20. Écrire une boucle non bornée (`while`) qui fasse la même chose.\n",
    "\n",
    "Mêmes questions pour afficher les nombres pairs entre 20 et 2 par ordre décroissant.\n"
   ]
  },
  {
   "cell_type": "code",
   "execution_count": 17,
   "metadata": {
    "tags": [
     "nsi_solution",
     "nsi_ex23"
    ]
   },
   "outputs": [
    {
     "name": "stdout",
     "output_type": "stream",
     "text": [
      "2\n",
      "4\n",
      "6\n",
      "8\n",
      "10\n",
      "12\n",
      "14\n",
      "16\n",
      "18\n",
      "20\n"
     ]
    }
   ],
   "source": [
    "for i in range(10):\n",
    "    print((i+1)*2)"
   ]
  },
  {
   "cell_type": "code",
   "execution_count": 18,
   "metadata": {},
   "outputs": [
    {
     "name": "stdout",
     "output_type": "stream",
     "text": [
      "2\n",
      "4\n",
      "6\n",
      "8\n",
      "10\n",
      "12\n",
      "14\n",
      "16\n",
      "18\n",
      "20\n"
     ]
    }
   ],
   "source": [
    "i = 2\n",
    "while i <= 20:\n",
    "    print(i)\n",
    "    i = i + 2"
   ]
  },
  {
   "cell_type": "markdown",
   "metadata": {
    "tags": [
     "nsi_enonce",
     "nsi_ex24"
    ]
   },
   "source": [
    "### Exercice 24\n",
    "\n",
    "La fonction `random()` de la bibliothèque `random` produit un nombre aléatoire entre 0 et 1. A l’aide de cette fonction et de la fonction `round()`, écrire un programme qui affiche de manière aléatoire la chaîne \"Ha\", \"Haha\", \"Hahaha\", \"Hahahaha\" ou \"Hahahahaha\" un nombre aléatoire de fois entre 1 et 10.\n"
   ]
  },
  {
   "cell_type": "code",
   "execution_count": 19,
   "metadata": {
    "tags": [
     "nsi_solution",
     "nsi_ex24"
    ]
   },
   "outputs": [
    {
     "name": "stdout",
     "output_type": "stream",
     "text": [
      "Hahahaha\n"
     ]
    }
   ],
   "source": [
    "from random import random\n",
    "print(\"Ha\" + \"ha\"*round(random()*9))"
   ]
  },
  {
   "cell_type": "markdown",
   "metadata": {
    "tags": [
     "nsi_enonce",
     "nsi_ex25"
    ]
   },
   "source": [
    "### Exercice 25\n",
    "\n",
    "a) Quelle est la valeur de `a` à la fin de l’exécution du programme ci-dessous\n",
    "\n",
    "-   lorsque `a = 10` et `b = 3`\n",
    "\n",
    "-   lorsque `a = 10` et `b = 15`\n",
    "\n"
   ]
  },
  {
   "cell_type": "code",
   "execution_count": 20,
   "metadata": {
    "tags": [
     "nsi_enonce",
     "nsi_ex25"
    ]
   },
   "outputs": [],
   "source": [
    "r = 0\n",
    "while b != 0:\n",
    "    r = a % b\n",
    "    a = b\n",
    "    b = r"
   ]
  },
  {
   "cell_type": "markdown",
   "metadata": {},
   "source": [
    "**Note :** L'exercice est à faire (au moins dans une premier temps) à la main\n",
    "\n",
    "Valeurs après chaque « tour » de boucle, pour a = 10, b = 3\n",
    "\n",
    "- r = 1, a = 3, b = 1\n",
    "- r = 0, a = 1, b = 0\n",
    "\n",
    "Valeurs après chaque tour de boucle, pour a = 10 et b = 15\n",
    "\n",
    "- r = 10, a = 15, b = 10\n",
    "- r = 5, a = 10, b = 5\n",
    "- r = 0, a = 5, b = 0"
   ]
  },
  {
   "cell_type": "markdown",
   "metadata": {
    "tags": [
     "nsi_enonce",
     "nsi_ex25"
    ]
   },
   "source": [
    "b) Montrer que `a` contient, à la fin du programme, le PGCD (plus grand commun diviseur) de `a` et `b`.\n"
   ]
  },
  {
   "cell_type": "markdown",
   "metadata": {
    "tags": [
     "nsi_solution",
     "nsi_ex25"
    ]
   },
   "source": [
    "Le PGCD est le plus grand nombre qui divise à la fois $a$ et $b$.\n",
    "\n",
    "Si $a$ divise $b$, alors $PGCD(a, b) = a$. Sinon on peut écrire $a = b \\times q + r$ et on montre que $PGCD(a, b) = PGCD(b, r)$\n",
    "\n",
    "Le programme calcule donc `r` (reste de la division de `a` par `b`) et remplace `a` par `b` et `b` par `r` jusqu'à ce que le reste soit nul. À la fin de la boucle, `a` est le PGCD de `a` et `b`."
   ]
  },
  {
   "cell_type": "markdown",
   "metadata": {
    "tags": [
     "nsi_enonce",
     "nsi_ex26"
    ]
   },
   "source": [
    "### Exercice 26\n",
    "\n",
    "a) Écrire une boucle qui affiche les puissances de 2 (2\\*\\*1, 2\\*\\*2, 2\\*\\*3, ...) qui sont inférieures à un million."
   ]
  },
  {
   "cell_type": "code",
   "execution_count": 21,
   "metadata": {},
   "outputs": [
    {
     "name": "stdout",
     "output_type": "stream",
     "text": [
      "1\n",
      "2\n",
      "4\n",
      "8\n",
      "16\n",
      "32\n",
      "64\n",
      "128\n",
      "256\n",
      "512\n",
      "1024\n",
      "2048\n",
      "4096\n",
      "8192\n",
      "16384\n",
      "32768\n",
      "65536\n",
      "131072\n",
      "262144\n",
      "524288\n"
     ]
    }
   ],
   "source": [
    "x = 1\n",
    "while x < 1000000:\n",
    "    print(x)\n",
    "    x = x * 2"
   ]
  },
  {
   "cell_type": "markdown",
   "metadata": {
    "tags": [
     "nsi_enonce",
     "nsi_ex26"
    ]
   },
   "source": [
    "b) Modifier le programme pour *compter* le nombre de puissances de 2 inférieures à un million."
   ]
  },
  {
   "cell_type": "code",
   "execution_count": 22,
   "metadata": {
    "tags": [
     "nsi_solution",
     "nsi_ex26"
    ]
   },
   "outputs": [
    {
     "name": "stdout",
     "output_type": "stream",
     "text": [
      "20\n"
     ]
    }
   ],
   "source": [
    "n = 0\n",
    "x = 1\n",
    "while x < 1000000:\n",
    "    x = x * 2\n",
    "    n = n + 1\n",
    "print(n)"
   ]
  },
  {
   "cell_type": "markdown",
   "metadata": {
    "tags": [
     "nsi_enonce",
     "nsi_ex27"
    ]
   },
   "source": [
    "### Exercice 27\n",
    "\n",
    "Écrire un programme qui affiche les chiffres d’un nombre à partir du dernier, un par ligne. Par exemple, pour le nombre 1234, le programme affiche\n",
    "\n",
    "    4\n",
    "    3\n",
    "    2\n",
    "    1\n"
   ]
  },
  {
   "cell_type": "code",
   "execution_count": 23,
   "metadata": {
    "tags": [
     "nsi_solution",
     "nsi_ex27"
    ]
   },
   "outputs": [
    {
     "name": "stdout",
     "output_type": "stream",
     "text": [
      "4\n",
      "3\n",
      "2\n",
      "1\n"
     ]
    }
   ],
   "source": [
    "a = 1234\n",
    "\n",
    "while a != 0:\n",
    "    print(a % 10)\n",
    "    a = a // 10"
   ]
  },
  {
   "cell_type": "markdown",
   "metadata": {
    "tags": [
     "nsi_enonce",
     "nsi_ex28"
    ]
   },
   "source": [
    "### Exercice 28\n",
    "\n",
    "a) Écrire un programme qui utilise une boucle pour afficher les valeurs de la fonction `sin(x)` pour `x` entre 0 et π. On découpera l’intervalle \\[0, π\\] de façon à afficher 15 valeurs de `x`.\n",
    "\n",
    "*Note :* Pour utiliser la fonction `sin` il faut l’importer : "
   ]
  },
  {
   "cell_type": "code",
   "execution_count": 24,
   "metadata": {
    "tags": [
     "nsi_enonce",
     "nsi_ex28"
    ]
   },
   "outputs": [],
   "source": [
    "from math import sin, pi"
   ]
  },
  {
   "cell_type": "code",
   "execution_count": 25,
   "metadata": {},
   "outputs": [
    {
     "name": "stdout",
     "output_type": "stream",
     "text": [
      "0 0.0\n",
      "1 6.23735072453278\n",
      "2 12.202099292274005\n",
      "3 17.633557568774194\n",
      "4 22.294344764321824\n",
      "5 25.980762113533157\n",
      "6 28.531695488854606\n",
      "7 29.8356568610482\n",
      "8 29.835656861048204\n",
      "9 28.53169548885461\n",
      "10 25.980762113533164\n",
      "11 22.294344764321835\n",
      "12 17.633557568774197\n",
      "13 12.202099292274001\n",
      "14 6.237350724532779\n",
      "15 1.699661669294394e-14\n"
     ]
    }
   ],
   "source": [
    "for i in range(0,16):\n",
    "    print(i, sin(i*pi/15) * 30)"
   ]
  },
  {
   "cell_type": "markdown",
   "metadata": {
    "tags": [
     "nsi_enonce",
     "nsi_ex28"
    ]
   },
   "source": [
    "b) Pour afficher le graphe de cette fonction de manière visuelle, on veut remplacer chaque valeur affichée par une barre horizontale de longueur proportionnelle à la valeur.\n",
    "\n",
    "À l’aide de l’opérateur `*` des chaînes de caractères et de la fonction `round(x)` qui retourne le nombre entier le plus proche de `x`, écrire l’instruction qui affiche une chaîne constituée de caractères \"=\" dont la longueur est proportionnelle à un nombre `x` compris entre 0 et 1 et de longueur 30 lorsque `x` vaut 1.\n"
   ]
  },
  {
   "cell_type": "code",
   "execution_count": 26,
   "metadata": {
    "tags": [
     "nsi_solution",
     "nsi_ex28"
    ]
   },
   "outputs": [
    {
     "name": "stdout",
     "output_type": "stream",
     "text": [
      "===\n",
      "===============\n",
      "==============================\n"
     ]
    }
   ],
   "source": [
    "x = 0.1\n",
    "print('=' * round(x * 30))\n",
    "x = 0.5\n",
    "print('=' * round(x * 30))\n",
    "x = 1\n",
    "print('=' * round(x * 30))"
   ]
  },
  {
   "cell_type": "markdown",
   "metadata": {
    "tags": [
     "nsi_enonce",
     "nsi_ex28"
    ]
   },
   "source": [
    "c) Utiliser l’instruction de la question précédente dans le code de la première question pour afficher le graphe de la fonction `sin`.\n",
    "\n",
    "Le résultat a cet aspect :\n",
    "\n",
    "    ======\n",
    "    ============\n",
    "    ==================\n",
    "    ======================\n",
    "    ==========================\n",
    "    =============================\n",
    "    ==============================\n",
    "    ==============================\n",
    "    =============================\n",
    "    ==========================\n",
    "    ======================\n",
    "    ==================\n",
    "    ============\n",
    "    ======\n"
   ]
  },
  {
   "cell_type": "code",
   "execution_count": 27,
   "metadata": {
    "tags": [
     "nsi_solution",
     "nsi_ex28"
    ]
   },
   "outputs": [
    {
     "name": "stdout",
     "output_type": "stream",
     "text": [
      "\n",
      "======\n",
      "============\n",
      "==================\n",
      "======================\n",
      "==========================\n",
      "=============================\n",
      "==============================\n",
      "==============================\n",
      "=============================\n",
      "==========================\n",
      "======================\n",
      "==================\n",
      "============\n",
      "======\n",
      "\n"
     ]
    }
   ],
   "source": [
    "for i in range(0,16):\n",
    "    print('=' * round(sin(i*pi/15) * 30))"
   ]
  },
  {
   "cell_type": "markdown",
   "metadata": {
    "tags": [
     "nsi_enonce",
     "nsi_ex28"
    ]
   },
   "source": [
    "d) Pour pouvoir afficher des valeurs négatives, il faut décaler l’axe vertical correspondant à la valeur 0 vers la droite. Pour cela :\n",
    "\n",
    "-   si la valeur à afficher est positive, afficher 30 espaces suivis de la barre ;\n",
    "\n",
    "-   si la valeur à afficher est négative, afficher un nombre d’espaces égal à 30 moins la longueur de la barre, suivis de la barre.\n",
    "\n",
    "Écrire le programme correspondant, pour obtenir le résultat suivant sur l’intervalle \\[0, 2π\\] :\n",
    "\n",
    "                        ========\n",
    "                        ===============\n",
    "                        ===================\n",
    "                        ====================\n",
    "                        =================\n",
    "                        ============\n",
    "                        ====\n",
    "                    ====\n",
    "            ============\n",
    "       =================\n",
    "    ====================\n",
    "     ===================\n",
    "         ===============\n",
    "                ========\n"
   ]
  },
  {
   "cell_type": "code",
   "execution_count": 28,
   "metadata": {
    "tags": [
     "nsi_solution",
     "nsi_ex28"
    ]
   },
   "outputs": [
    {
     "name": "stdout",
     "output_type": "stream",
     "text": [
      "                    \n",
      "                    ========\n",
      "                    ===============\n",
      "                    ===================\n",
      "                    ====================\n",
      "                    =================\n",
      "                    ============\n",
      "                    ====\n",
      "                ====\n",
      "        ============\n",
      "   =================\n",
      "====================\n",
      " ===================\n",
      "     ===============\n",
      "            ========\n",
      "                    \n"
     ]
    }
   ],
   "source": [
    "for i in range(0,16):\n",
    "    v = sin(i*3.14*2/15)\n",
    "    if v > 0:\n",
    "        print(' '*20 + '='*round(v*20))\n",
    "    else:\n",
    "        l = round(-v*20)\n",
    "        print(' '*(20-l) + '='*l)"
   ]
  },
  {
   "cell_type": "markdown",
   "metadata": {
    "tags": [
     "nsi_enonce",
     "nsi_ex28"
    ]
   },
   "source": [
    "e) Modifier l’affichage pour remplacer chaque barre par un caractère '\\*' à son extrémité, afin d’obtenir le résultat suivant :\n",
    "\n",
    "                        *\n",
    "                               *\n",
    "                                      *\n",
    "                                          *\n",
    "                                           *\n",
    "                                        *\n",
    "                                   *\n",
    "                           *\n",
    "                    *\n",
    "            *\n",
    "       *\n",
    "    *\n",
    "     *\n",
    "         *\n",
    "                *\n",
    "                        *\n"
   ]
  },
  {
   "cell_type": "code",
   "execution_count": 29,
   "metadata": {
    "tags": [
     "nsi_solution",
     "nsi_ex28"
    ]
   },
   "outputs": [
    {
     "name": "stdout",
     "output_type": "stream",
     "text": [
      "                    *\n",
      "                           *\n",
      "                                  *\n",
      "                                      *\n",
      "                                       *\n",
      "                                    *\n",
      "                               *\n",
      "                       *\n",
      "                *\n",
      "        *\n",
      "   *\n",
      "*\n",
      " *\n",
      "     *\n",
      "            *\n",
      "                    *\n"
     ]
    }
   ],
   "source": [
    "for i in range(0,16):\n",
    "    v = sin(i*3.14*2/15)\n",
    "    if v > 0:\n",
    "        print(' '*20 + ' '*(round(v*20) -1) + '*')\n",
    "    else:\n",
    "        l = round(-v*20)\n",
    "        print(' '*(20-l) + '*')"
   ]
  },
  {
   "cell_type": "markdown",
   "metadata": {
    "tags": [
     "nsi_enonce",
     "nsi_ex29"
    ]
   },
   "source": [
    "### Exercice 29\n",
    "\n",
    "À l’aide de la bibliothèque `turtle` et de la fonction `random()` de la bibliothèque `random`, écrire un programme qui fait avancer et tourner la tortue de manière aléatoire. Pour éviter que la tortue se perde en dehors de la fenêtre, arrêter le programme si elle sort d’un cadre de 400 pixels autour du centre de la fenêtre. Les fonctions `xcor()` et `ycor()` de `turtle` retournent la position *x, y* de la tortue.\n"
   ]
  },
  {
   "cell_type": "code",
   "execution_count": 30,
   "metadata": {
    "tags": [
     "nsi_solution",
     "nsi_ex29"
    ]
   },
   "outputs": [
    {
     "data": {
      "application/vnd.jupyter.widget-view+json": {
       "model_id": "cb223838081241c1b84c56d284589d2c",
       "version_major": 2,
       "version_minor": 0
      },
      "text/plain": [
       "NSITurtle()"
      ]
     },
     "metadata": {},
     "output_type": "display_data"
    }
   ],
   "source": [
    "# En dehors de Jupyter on peut importer turtle à la place de nsi_turtle\n",
    "from nsi_turtle import *\n",
    "\n",
    "# Importer la fonction `random` du module `random`\n",
    "from random import random\n",
    "\n",
    "dedans = True\n",
    "while dedans:\n",
    "    # tourner d'un angle aléatoire et avancer de 10 à 50 pas\n",
    "    left(360.0*random())\n",
    "    forward(10.0 + 40.0*random())\n",
    "    # tester si on est dans la fenêtre\n",
    "    dedans = abs(xcor()) < 400 and abs(ycor()) < 400   "
   ]
  },
  {
   "cell_type": "markdown",
   "metadata": {
    "tags": [
     "nsi_enonce",
     "nsi_ex30"
    ]
   },
   "source": [
    "### Exercice 30\n",
    "\n",
    "La suite de Fibonacci est une suite de nombres qui commence par 0 et 1 et dont chaque nombre suivant est la somme des deux nombres précédents. Cette suite de nombres intervient dans de nombreux phénomènes naturels, notamment la croissance des plantes.\n",
    "\n",
    "a) Écrire un programme qui affiche les 100 premiers nombres de Fibonacci."
   ]
  },
  {
   "cell_type": "code",
   "execution_count": 31,
   "metadata": {
    "tags": [
     "nsi_solution",
     "nsi_ex30"
    ]
   },
   "outputs": [
    {
     "name": "stdout",
     "output_type": "stream",
     "text": [
      "1 0\n",
      "2 1\n",
      "3 1\n",
      "4 2\n",
      "5 3\n",
      "6 5\n",
      "7 8\n",
      "8 13\n",
      "9 21\n",
      "10 34\n",
      "11 55\n",
      "12 89\n",
      "13 144\n",
      "14 233\n",
      "15 377\n",
      "16 610\n",
      "17 987\n",
      "18 1597\n",
      "19 2584\n",
      "20 4181\n",
      "21 6765\n",
      "22 10946\n",
      "23 17711\n",
      "24 28657\n",
      "25 46368\n",
      "26 75025\n",
      "27 121393\n",
      "28 196418\n",
      "29 317811\n",
      "30 514229\n",
      "31 832040\n",
      "32 1346269\n",
      "33 2178309\n",
      "34 3524578\n",
      "35 5702887\n",
      "36 9227465\n",
      "37 14930352\n",
      "38 24157817\n",
      "39 39088169\n",
      "40 63245986\n",
      "41 102334155\n",
      "42 165580141\n",
      "43 267914296\n",
      "44 433494437\n",
      "45 701408733\n",
      "46 1134903170\n",
      "47 1836311903\n",
      "48 2971215073\n",
      "49 4807526976\n",
      "50 7778742049\n",
      "51 12586269025\n",
      "52 20365011074\n",
      "53 32951280099\n",
      "54 53316291173\n",
      "55 86267571272\n",
      "56 139583862445\n",
      "57 225851433717\n",
      "58 365435296162\n",
      "59 591286729879\n",
      "60 956722026041\n",
      "61 1548008755920\n",
      "62 2504730781961\n",
      "63 4052739537881\n",
      "64 6557470319842\n",
      "65 10610209857723\n",
      "66 17167680177565\n",
      "67 27777890035288\n",
      "68 44945570212853\n",
      "69 72723460248141\n",
      "70 117669030460994\n",
      "71 190392490709135\n",
      "72 308061521170129\n",
      "73 498454011879264\n",
      "74 806515533049393\n",
      "75 1304969544928657\n",
      "76 2111485077978050\n",
      "77 3416454622906707\n",
      "78 5527939700884757\n",
      "79 8944394323791464\n",
      "80 14472334024676221\n",
      "81 23416728348467685\n",
      "82 37889062373143906\n",
      "83 61305790721611591\n",
      "84 99194853094755497\n",
      "85 160500643816367088\n",
      "86 259695496911122585\n",
      "87 420196140727489673\n",
      "88 679891637638612258\n",
      "89 1100087778366101931\n",
      "90 1779979416004714189\n",
      "91 2880067194370816120\n",
      "92 4660046610375530309\n",
      "93 7540113804746346429\n",
      "94 12200160415121876738\n",
      "95 19740274219868223167\n",
      "96 31940434634990099905\n",
      "97 51680708854858323072\n",
      "98 83621143489848422977\n",
      "99 135301852344706746049\n",
      "100 218922995834555169026\n"
     ]
    }
   ],
   "source": [
    "n1 = 0\n",
    "n2 = 1\n",
    "print(1, n1)\n",
    "print(2, n2)\n",
    "for i in range(98):\n",
    "    print(i+3, n1 + n2)\n",
    "    n = n1  # se souvenir de n1 avant de changer sa valeur !\n",
    "    n1 = n2\n",
    "    n2 = n + n2"
   ]
  },
  {
   "cell_type": "markdown",
   "metadata": {
    "tags": [
     "nsi_enonce",
     "nsi_ex30"
    ]
   },
   "source": [
    "b) Modifier le programme pour afficher également le rapport de deux nombres consécutifs de la série. Ce rapport tend vers le *nombre d’or*, qui est également présent dans la nature et très utilisé, par exemple en architecture. Le rapport de la hauteur et de la largeur d’une feuille A4 est égal au nombre d’or.\n"
   ]
  },
  {
   "cell_type": "code",
   "execution_count": 32,
   "metadata": {
    "tags": [
     "nsi_solution",
     "nsi_ex30"
    ]
   },
   "outputs": [
    {
     "name": "stdout",
     "output_type": "stream",
     "text": [
      "1 0\n",
      "2 1\n",
      "3 1 1.0\n",
      "4 2 2.0\n",
      "5 3 1.5\n",
      "6 5 1.6666666666666667\n",
      "7 8 1.6\n",
      "8 13 1.625\n",
      "9 21 1.6153846153846154\n",
      "10 34 1.619047619047619\n",
      "11 55 1.6176470588235294\n",
      "12 89 1.6181818181818182\n",
      "13 144 1.6179775280898876\n",
      "14 233 1.6180555555555556\n",
      "15 377 1.6180257510729614\n",
      "16 610 1.6180371352785146\n",
      "17 987 1.618032786885246\n",
      "18 1597 1.618034447821682\n",
      "19 2584 1.6180338134001253\n",
      "20 4181 1.618034055727554\n",
      "21 6765 1.6180339631667064\n",
      "22 10946 1.6180339985218033\n",
      "23 17711 1.618033985017358\n",
      "24 28657 1.6180339901755971\n",
      "25 46368 1.618033988205325\n",
      "26 75025 1.618033988957902\n",
      "27 121393 1.6180339886704431\n",
      "28 196418 1.6180339887802426\n",
      "29 317811 1.618033988738303\n",
      "30 514229 1.6180339887543225\n",
      "31 832040 1.6180339887482036\n",
      "32 1346269 1.6180339887505408\n",
      "33 2178309 1.6180339887496482\n",
      "34 3524578 1.618033988749989\n",
      "35 5702887 1.618033988749859\n",
      "36 9227465 1.6180339887499087\n",
      "37 14930352 1.6180339887498896\n",
      "38 24157817 1.618033988749897\n",
      "39 39088169 1.618033988749894\n",
      "40 63245986 1.6180339887498951\n",
      "41 102334155 1.6180339887498947\n",
      "42 165580141 1.618033988749895\n",
      "43 267914296 1.618033988749895\n",
      "44 433494437 1.618033988749895\n",
      "45 701408733 1.618033988749895\n",
      "46 1134903170 1.618033988749895\n",
      "47 1836311903 1.618033988749895\n",
      "48 2971215073 1.618033988749895\n",
      "49 4807526976 1.618033988749895\n",
      "50 7778742049 1.618033988749895\n",
      "51 12586269025 1.618033988749895\n",
      "52 20365011074 1.618033988749895\n",
      "53 32951280099 1.618033988749895\n",
      "54 53316291173 1.618033988749895\n",
      "55 86267571272 1.618033988749895\n",
      "56 139583862445 1.618033988749895\n",
      "57 225851433717 1.618033988749895\n",
      "58 365435296162 1.618033988749895\n",
      "59 591286729879 1.618033988749895\n",
      "60 956722026041 1.618033988749895\n",
      "61 1548008755920 1.618033988749895\n",
      "62 2504730781961 1.618033988749895\n",
      "63 4052739537881 1.618033988749895\n",
      "64 6557470319842 1.618033988749895\n",
      "65 10610209857723 1.618033988749895\n",
      "66 17167680177565 1.618033988749895\n",
      "67 27777890035288 1.618033988749895\n",
      "68 44945570212853 1.618033988749895\n",
      "69 72723460248141 1.618033988749895\n",
      "70 117669030460994 1.618033988749895\n",
      "71 190392490709135 1.618033988749895\n",
      "72 308061521170129 1.618033988749895\n",
      "73 498454011879264 1.618033988749895\n",
      "74 806515533049393 1.618033988749895\n",
      "75 1304969544928657 1.618033988749895\n",
      "76 2111485077978050 1.618033988749895\n",
      "77 3416454622906707 1.618033988749895\n",
      "78 5527939700884757 1.618033988749895\n",
      "79 8944394323791464 1.618033988749895\n",
      "80 14472334024676221 1.618033988749895\n",
      "81 23416728348467685 1.618033988749895\n",
      "82 37889062373143906 1.618033988749895\n",
      "83 61305790721611591 1.618033988749895\n",
      "84 99194853094755497 1.618033988749895\n",
      "85 160500643816367088 1.618033988749895\n",
      "86 259695496911122585 1.618033988749895\n",
      "87 420196140727489673 1.618033988749895\n",
      "88 679891637638612258 1.618033988749895\n",
      "89 1100087778366101931 1.618033988749895\n",
      "90 1779979416004714189 1.618033988749895\n",
      "91 2880067194370816120 1.618033988749895\n",
      "92 4660046610375530309 1.618033988749895\n",
      "93 7540113804746346429 1.618033988749895\n",
      "94 12200160415121876738 1.618033988749895\n",
      "95 19740274219868223167 1.618033988749895\n",
      "96 31940434634990099905 1.618033988749895\n",
      "97 51680708854858323072 1.618033988749895\n",
      "98 83621143489848422977 1.618033988749895\n",
      "99 135301852344706746049 1.618033988749895\n",
      "100 218922995834555169026 1.618033988749895\n"
     ]
    }
   ],
   "source": [
    "n1 = 0\n",
    "n2 = 1\n",
    "print(1, n1)\n",
    "print(2, n2)\n",
    "for i in range(98):\n",
    "    print(i+3, n1 + n2, (n1 + n2) / n2)\n",
    "    n = n1  # se souvenir de n1 avant de changer sa valeur !\n",
    "    n1 = n2\n",
    "    n2 = n + n2"
   ]
  },
  {
   "cell_type": "markdown",
   "metadata": {
    "tags": [
     "nsi_enonce",
     "nsi_ex31"
    ]
   },
   "source": [
    "### Exercice 31 \n",
    "\n",
    "La *suite de Syracuse* est définie comme suit :\n",
    "\n",
    "-   On part d’un nombre entier positif ;\n",
    "-   S’il est pair, on le divise par deux, sinon on le multiplie par trois et on ajoute 1 ;\n",
    "-   Si le nombre obtenu est 1, on s’arrête, sinon on applique à nouveau la règle ci-dessus.\n",
    "\n",
    "a) Écrire une fonction `Syracuse(n)` qui affiche la suite des nombres à partir de `n`.\n"
   ]
  },
  {
   "cell_type": "code",
   "execution_count": 33,
   "metadata": {
    "tags": [
     "nsi_solution",
     "nsi_ex31"
    ]
   },
   "outputs": [
    {
     "name": "stdout",
     "output_type": "stream",
     "text": [
      "123\n",
      "370\n",
      "185\n",
      "556\n",
      "278\n",
      "139\n",
      "418\n",
      "209\n",
      "628\n",
      "314\n",
      "157\n",
      "472\n",
      "236\n",
      "118\n",
      "59\n",
      "178\n",
      "89\n",
      "268\n",
      "134\n",
      "67\n",
      "202\n",
      "101\n",
      "304\n",
      "152\n",
      "76\n",
      "38\n",
      "19\n",
      "58\n",
      "29\n",
      "88\n",
      "44\n",
      "22\n",
      "11\n",
      "34\n",
      "17\n",
      "52\n",
      "26\n",
      "13\n",
      "40\n",
      "20\n",
      "10\n",
      "5\n",
      "16\n",
      "8\n",
      "4\n",
      "2\n",
      "1 - fin!\n"
     ]
    }
   ],
   "source": [
    "def Syracuse(n):\n",
    "    \"\"\" Affiche les valeurs successives de la suite de Syracuse \"\"\"\n",
    "    while n != 1:\n",
    "        print(n)\n",
    "        if n % 2 == 0:\n",
    "            n = n // 2\n",
    "        else:\n",
    "            n = n*3 + 1\n",
    "    print('1 - fin!')\n",
    "\n",
    "Syracuse(123)"
   ]
  },
  {
   "cell_type": "markdown",
   "metadata": {
    "tags": [
     "nsi_enonce",
     "nsi_ex31"
    ]
   },
   "source": [
    "b) Modifier la fonction pour qu’elle n’affiche pas la suite, mais retourne le nombre d’étapes avant d’arriver à 1, appelé *durée de vol*. Afficher ce nombre pour `n` entre 2 et 100.\n"
   ]
  },
  {
   "cell_type": "code",
   "execution_count": 34,
   "metadata": {
    "tags": [
     "nsi_solution",
     "nsi_ex31"
    ]
   },
   "outputs": [
    {
     "name": "stdout",
     "output_type": "stream",
     "text": [
      "20\n",
      "46\n",
      "28\n"
     ]
    }
   ],
   "source": [
    "def Syracuse_vol(n):\n",
    "    \"\"\" Retourne la durée de vol de la suite de Syracuse \"\"\"\n",
    "    vol = 0\n",
    "    while n != 1:\n",
    "        vol = vol + 1\n",
    "        if n % 2 == 0:\n",
    "            n = n // 2\n",
    "        else:\n",
    "            n = n*3 + 1\n",
    "    return vol\n",
    "\n",
    "print(Syracuse_vol(120))\n",
    "print(Syracuse_vol(123))\n",
    "print(Syracuse_vol(130))"
   ]
  },
  {
   "cell_type": "code",
   "execution_count": 35,
   "metadata": {},
   "outputs": [
    {
     "data": {
      "image/png": "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\n",
      "text/plain": [
       "<Figure size 432x288 with 1 Axes>"
      ]
     },
     "metadata": {
      "needs_background": "light"
     },
     "output_type": "display_data"
    }
   ],
   "source": [
    "# BONUS - afficher les durées de vol des 150 premières valeurs de n\n",
    "# Ceci nécessite la notion de tableau introduite au Chapitre 4\n",
    "vols = []\n",
    "for n in range(149):\n",
    "    vols.append(Syracuse_vol(n+1))\n",
    "from matplotlib.pyplot import plot, show\n",
    "plot(vols)\n",
    "show()"
   ]
  },
  {
   "cell_type": "markdown",
   "metadata": {
    "tags": [
     "nsi_enonce",
     "nsi_ex31"
    ]
   },
   "source": [
    "c) Modifier la fonction pour qu’elle retourne le plus grand nombre atteint par la suite, appelé *altitude*. Afficher ce nombre pour `n` entre 2 et 100.\n",
    "\n",
    "La question de savoir si la suite s’arrête quel que soit le nombre de départ est une question mathématique ouverte. On ne connait pas de contre-exemple, mais on n’a pas de preuve qu’elle s’arrête toujours.\n"
   ]
  },
  {
   "cell_type": "code",
   "execution_count": 36,
   "metadata": {
    "tags": [
     "nsi_solution",
     "nsi_ex31"
    ]
   },
   "outputs": [
    {
     "name": "stdout",
     "output_type": "stream",
     "text": [
      "160\n",
      "628\n",
      "196\n"
     ]
    }
   ],
   "source": [
    "def Syracuse_altitude(n):\n",
    "    \"\"\" Retourne l'altitude de la suite de Syracuse \"\"\"\n",
    "    altitude = 0\n",
    "    while n != 1:\n",
    "        if n > altitude:\n",
    "            altitude = n\n",
    "        if n % 2 == 0:\n",
    "            n = n // 2\n",
    "        else:\n",
    "            n = n*3 + 1\n",
    "    return altitude\n",
    "\n",
    "print(Syracuse_altitude(120))\n",
    "print(Syracuse_altitude(123))\n",
    "print(Syracuse_altitude(130))"
   ]
  },
  {
   "cell_type": "code",
   "execution_count": 37,
   "metadata": {},
   "outputs": [
    {
     "data": {
      "image/png": "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\n",
      "text/plain": [
       "<Figure size 432x288 with 1 Axes>"
      ]
     },
     "metadata": {
      "needs_background": "light"
     },
     "output_type": "display_data"
    }
   ],
   "source": [
    "# BONUS - afficher les durées de vol des 150 premières valeurs de n\n",
    "# Ceci nécessite la notion de tableau introduite au Chapitre 4\n",
    "altitudes = []\n",
    "for n in range(149):\n",
    "    altitudes.append(Syracuse_altitude(n+1))\n",
    "from matplotlib.pyplot import plot, show\n",
    "plot(altitudes)\n",
    "show()"
   ]
  },
  {
   "cell_type": "markdown",
   "metadata": {
    "tags": [
     "nsi_enonce",
     "nsi_ex32"
    ]
   },
   "source": [
    "### Exercice 32\n",
    "\n",
    "a) Qu’affiche le programme suivant ?"
   ]
  },
  {
   "cell_type": "code",
   "execution_count": 38,
   "metadata": {
    "tags": [
     "nsi_enonce",
     "nsi_ex32"
    ]
   },
   "outputs": [
    {
     "name": "stdout",
     "output_type": "stream",
     "text": [
      "\n",
      "*\n",
      "**\n",
      "***\n",
      "****\n",
      "*****\n",
      "******\n",
      "*******\n",
      "********\n",
      "*********\n"
     ]
    }
   ],
   "source": [
    "for i in range(10):\n",
    "    s = ''\n",
    "    for j in range(i):\n",
    "        s = s + '*'\n",
    "    print(s)"
   ]
  },
  {
   "cell_type": "markdown",
   "metadata": {},
   "source": [
    "**Note :** Cette question est à réaliser « à la main »\n",
    "\n",
    "Ce programme affiche une série de lignes constituées de 0 à 9 caractères `*`."
   ]
  },
  {
   "cell_type": "raw",
   "metadata": {},
   "source": [
    "\n",
    "*\n",
    "**\n",
    "***\n",
    "****\n",
    "*****\n",
    "******\n",
    "*******\n",
    "********\n",
    "*********"
   ]
  },
  {
   "cell_type": "markdown",
   "metadata": {
    "tags": [
     "nsi_enonce",
     "nsi_ex32"
    ]
   },
   "source": [
    "b) Écrire une version plus simple en utilisant l’opérateur '\\*' de répétition des chaînes de caractères.\n"
   ]
  },
  {
   "cell_type": "code",
   "execution_count": 39,
   "metadata": {
    "tags": [
     "nsi_solution",
     "nsi_ex32"
    ]
   },
   "outputs": [
    {
     "name": "stdout",
     "output_type": "stream",
     "text": [
      "\n",
      "*\n",
      "**\n",
      "***\n",
      "****\n",
      "*****\n",
      "******\n",
      "*******\n",
      "********\n",
      "*********\n"
     ]
    }
   ],
   "source": [
    "for i in range(10):\n",
    "    print('*' * i)"
   ]
  },
  {
   "cell_type": "markdown",
   "metadata": {
    "tags": [
     "nsi_enonce",
     "nsi_ex32"
    ]
   },
   "source": [
    "c) Modifier le programme pour qu’il affiche la même figure à l’envers.\n"
   ]
  },
  {
   "cell_type": "code",
   "execution_count": 40,
   "metadata": {
    "tags": [
     "nsi_solution",
     "nsi_ex32"
    ]
   },
   "outputs": [
    {
     "name": "stdout",
     "output_type": "stream",
     "text": [
      "*********\n",
      "********\n",
      "*******\n",
      "******\n",
      "*****\n",
      "****\n",
      "***\n",
      "**\n",
      "*\n",
      "\n"
     ]
    }
   ],
   "source": [
    "for i in range(10):\n",
    "    print('*' * (9 -i))"
   ]
  },
  {
   "cell_type": "markdown",
   "metadata": {
    "tags": [
     "nsi_enonce",
     "nsi_ex33"
    ]
   },
   "source": [
    "### Exercice 33\n",
    "\n",
    "a) Écrire un programme qui, étant donné un nombre entre 2 et 12, affiche toutes les combinaisons possibles permettant d’obtenir ce nombre avec deux dés."
   ]
  },
  {
   "cell_type": "code",
   "execution_count": 41,
   "metadata": {},
   "outputs": [
    {
     "name": "stdout",
     "output_type": "stream",
     "text": [
      "1 4\n",
      "2 3\n",
      "3 2\n",
      "4 1\n"
     ]
    }
   ],
   "source": [
    "total = 5\n",
    "for i in range(1, 7): # valeur du premier dé\n",
    "    for j in range(1, 7): # valeur du second dé\n",
    "        if i+j == total:  # vérifier si on a le total voulu\n",
    "            print(i, j)"
   ]
  },
  {
   "cell_type": "markdown",
   "metadata": {},
   "source": [
    "**Note :** Ce programme n'est pas efficace car il teste beaucoup de possibilités inutiles.\n",
    "\n",
    "Une fois connue la valeur du premier dé (`i`), on peut calculer la valeur du second. On évite ainsi la deuxième boucle imbriquée :"
   ]
  },
  {
   "cell_type": "code",
   "execution_count": 42,
   "metadata": {},
   "outputs": [
    {
     "name": "stdout",
     "output_type": "stream",
     "text": [
      "1 4\n",
      "2 3\n",
      "3 2\n",
      "4 1\n"
     ]
    }
   ],
   "source": [
    "total = 5\n",
    "for i in range(1, 7): # valeur du premier dé\n",
    "    j = total - i       # valeur du second dé\n",
    "    if j > 0 and j < 7: # s'assurer que c'est une valeur possible\n",
    "        print(i, j)"
   ]
  },
  {
   "cell_type": "markdown",
   "metadata": {},
   "source": [
    "**Note :** On pourrait encore améliorer l'algorithme lorsque total est inférieur à 6 : la première boucle `for` peut alors s'arrêter à `total`."
   ]
  },
  {
   "cell_type": "markdown",
   "metadata": {
    "tags": [
     "nsi_enonce",
     "nsi_ex33"
    ]
   },
   "source": [
    "b) Étendre le programme ci-dessus pour afficher, pour chaque nombre entre 2 et 12, toutes les combinaisons possibles permettant d’obtenir ce nombre avec deux dés."
   ]
  },
  {
   "cell_type": "code",
   "execution_count": 43,
   "metadata": {
    "tags": [
     "nsi_solution",
     "nsi_ex33"
    ]
   },
   "outputs": [
    {
     "name": "stdout",
     "output_type": "stream",
     "text": [
      "total = 2\n",
      "1 1\n",
      "total = 3\n",
      "1 2\n",
      "2 1\n",
      "total = 4\n",
      "1 3\n",
      "2 2\n",
      "3 1\n",
      "total = 5\n",
      "1 4\n",
      "2 3\n",
      "3 2\n",
      "4 1\n",
      "total = 6\n",
      "1 5\n",
      "2 4\n",
      "3 3\n",
      "4 2\n",
      "5 1\n",
      "total = 7\n",
      "1 6\n",
      "2 5\n",
      "3 4\n",
      "4 3\n",
      "5 2\n",
      "6 1\n",
      "total = 8\n",
      "2 6\n",
      "3 5\n",
      "4 4\n",
      "5 3\n",
      "6 2\n",
      "total = 9\n",
      "3 6\n",
      "4 5\n",
      "5 4\n",
      "6 3\n",
      "total = 10\n",
      "4 6\n",
      "5 5\n",
      "6 4\n",
      "total = 11\n",
      "5 6\n",
      "6 5\n",
      "total = 12\n",
      "6 6\n"
     ]
    }
   ],
   "source": [
    "for total in range(2, 13): # totaux possibles entre 2 et 12\n",
    "    print('total =', total)\n",
    "    for i in range(1, 7):\n",
    "        j = total - i       # valeur du second dé\n",
    "        if j > 0 and j < 7: # s'assurer que c'est une valeur possible\n",
    "            print(i, j)"
   ]
  },
  {
   "cell_type": "markdown",
   "metadata": {
    "tags": [
     "nsi_enonce",
     "nsi_ex33"
    ]
   },
   "source": [
    "c) Modifier le programme pour faire la même chose avec trois dés.\n"
   ]
  },
  {
   "cell_type": "code",
   "execution_count": 44,
   "metadata": {
    "tags": [
     "nsi_solution",
     "nsi_ex33"
    ]
   },
   "outputs": [
    {
     "name": "stdout",
     "output_type": "stream",
     "text": [
      "total = 3\n",
      "1 1 1\n",
      "total = 4\n",
      "1 1 2\n",
      "1 2 1\n",
      "2 1 1\n",
      "total = 5\n",
      "1 1 3\n",
      "1 2 2\n",
      "1 3 1\n",
      "2 1 2\n",
      "2 2 1\n",
      "3 1 1\n",
      "total = 6\n",
      "1 1 4\n",
      "1 2 3\n",
      "1 3 2\n",
      "1 4 1\n",
      "2 1 3\n",
      "2 2 2\n",
      "2 3 1\n",
      "3 1 2\n",
      "3 2 1\n",
      "4 1 1\n",
      "total = 7\n",
      "1 1 5\n",
      "1 2 4\n",
      "1 3 3\n",
      "1 4 2\n",
      "1 5 1\n",
      "2 1 4\n",
      "2 2 3\n",
      "2 3 2\n",
      "2 4 1\n",
      "3 1 3\n",
      "3 2 2\n",
      "3 3 1\n",
      "4 1 2\n",
      "4 2 1\n",
      "5 1 1\n",
      "total = 8\n",
      "1 1 6\n",
      "1 2 5\n",
      "1 3 4\n",
      "1 4 3\n",
      "1 5 2\n",
      "1 6 1\n",
      "2 1 5\n",
      "2 2 4\n",
      "2 3 3\n",
      "2 4 2\n",
      "2 5 1\n",
      "3 1 4\n",
      "3 2 3\n",
      "3 3 2\n",
      "3 4 1\n",
      "4 1 3\n",
      "4 2 2\n",
      "4 3 1\n",
      "5 1 2\n",
      "5 2 1\n",
      "6 1 1\n",
      "total = 9\n",
      "1 2 6\n",
      "1 3 5\n",
      "1 4 4\n",
      "1 5 3\n",
      "1 6 2\n",
      "2 1 6\n",
      "2 2 5\n",
      "2 3 4\n",
      "2 4 3\n",
      "2 5 2\n",
      "2 6 1\n",
      "3 1 5\n",
      "3 2 4\n",
      "3 3 3\n",
      "3 4 2\n",
      "3 5 1\n",
      "4 1 4\n",
      "4 2 3\n",
      "4 3 2\n",
      "4 4 1\n",
      "5 1 3\n",
      "5 2 2\n",
      "5 3 1\n",
      "6 1 2\n",
      "6 2 1\n",
      "total = 10\n",
      "1 3 6\n",
      "1 4 5\n",
      "1 5 4\n",
      "1 6 3\n",
      "2 2 6\n",
      "2 3 5\n",
      "2 4 4\n",
      "2 5 3\n",
      "2 6 2\n",
      "3 1 6\n",
      "3 2 5\n",
      "3 3 4\n",
      "3 4 3\n",
      "3 5 2\n",
      "3 6 1\n",
      "4 1 5\n",
      "4 2 4\n",
      "4 3 3\n",
      "4 4 2\n",
      "4 5 1\n",
      "5 1 4\n",
      "5 2 3\n",
      "5 3 2\n",
      "5 4 1\n",
      "6 1 3\n",
      "6 2 2\n",
      "6 3 1\n",
      "total = 11\n",
      "1 4 6\n",
      "1 5 5\n",
      "1 6 4\n",
      "2 3 6\n",
      "2 4 5\n",
      "2 5 4\n",
      "2 6 3\n",
      "3 2 6\n",
      "3 3 5\n",
      "3 4 4\n",
      "3 5 3\n",
      "3 6 2\n",
      "4 1 6\n",
      "4 2 5\n",
      "4 3 4\n",
      "4 4 3\n",
      "4 5 2\n",
      "4 6 1\n",
      "5 1 5\n",
      "5 2 4\n",
      "5 3 3\n",
      "5 4 2\n",
      "5 5 1\n",
      "6 1 4\n",
      "6 2 3\n",
      "6 3 2\n",
      "6 4 1\n",
      "total = 12\n",
      "1 5 6\n",
      "1 6 5\n",
      "2 4 6\n",
      "2 5 5\n",
      "2 6 4\n",
      "3 3 6\n",
      "3 4 5\n",
      "3 5 4\n",
      "3 6 3\n",
      "4 2 6\n",
      "4 3 5\n",
      "4 4 4\n",
      "4 5 3\n",
      "4 6 2\n",
      "5 1 6\n",
      "5 2 5\n",
      "5 3 4\n",
      "5 4 3\n",
      "5 5 2\n",
      "5 6 1\n",
      "6 1 5\n",
      "6 2 4\n",
      "6 3 3\n",
      "6 4 2\n",
      "6 5 1\n",
      "total = 13\n",
      "1 6 6\n",
      "2 5 6\n",
      "2 6 5\n",
      "3 4 6\n",
      "3 5 5\n",
      "3 6 4\n",
      "4 3 6\n",
      "4 4 5\n",
      "4 5 4\n",
      "4 6 3\n",
      "5 2 6\n",
      "5 3 5\n",
      "5 4 4\n",
      "5 5 3\n",
      "5 6 2\n",
      "6 1 6\n",
      "6 2 5\n",
      "6 3 4\n",
      "6 4 3\n",
      "6 5 2\n",
      "6 6 1\n",
      "total = 14\n",
      "2 6 6\n",
      "3 5 6\n",
      "3 6 5\n",
      "4 4 6\n",
      "4 5 5\n",
      "4 6 4\n",
      "5 3 6\n",
      "5 4 5\n",
      "5 5 4\n",
      "5 6 3\n",
      "6 2 6\n",
      "6 3 5\n",
      "6 4 4\n",
      "6 5 3\n",
      "6 6 2\n",
      "total = 15\n",
      "3 6 6\n",
      "4 5 6\n",
      "4 6 5\n",
      "5 4 6\n",
      "5 5 5\n",
      "5 6 4\n",
      "6 3 6\n",
      "6 4 5\n",
      "6 5 4\n",
      "6 6 3\n",
      "total = 16\n",
      "4 6 6\n",
      "5 5 6\n",
      "5 6 5\n",
      "6 4 6\n",
      "6 5 5\n",
      "6 6 4\n",
      "total = 17\n",
      "5 6 6\n",
      "6 5 6\n",
      "6 6 5\n",
      "total = 18\n",
      "6 6 6\n"
     ]
    }
   ],
   "source": [
    "for total in range(3, 19):\n",
    "    print('total =', total)\n",
    "    for i in range(1, 7):\n",
    "        for j in range(1, 7):\n",
    "            k = total - i - j\n",
    "            if k > 0 and k < 7:\n",
    "                print(i, j, k)"
   ]
  },
  {
   "cell_type": "markdown",
   "metadata": {
    "tags": [
     "nsi_enonce",
     "nsi_ex33"
    ]
   },
   "source": [
    "d) Modifier les programmes b) et c) pour afficher seulement le nombre de combinaisons possibles pour chaque total, au lieu des combinaisons elles-mêmes.\n"
   ]
  },
  {
   "cell_type": "code",
   "execution_count": 45,
   "metadata": {
    "tags": [
     "nsi_solution",
     "nsi_ex33"
    ]
   },
   "outputs": [
    {
     "name": "stdout",
     "output_type": "stream",
     "text": [
      "Avec 2 dés\n",
      "total =  2 , 1 possibilités\n",
      "total =  3 , 2 possibilités\n",
      "total =  4 , 3 possibilités\n",
      "total =  5 , 4 possibilités\n",
      "total =  6 , 5 possibilités\n",
      "total =  7 , 6 possibilités\n",
      "total =  8 , 5 possibilités\n",
      "total =  9 , 4 possibilités\n",
      "total =  10 , 3 possibilités\n",
      "total =  11 , 2 possibilités\n",
      "total =  12 , 1 possibilités\n",
      "\n",
      "Avec 3 dés\n",
      "total =  3 , 1 possibilités\n",
      "total =  4 , 3 possibilités\n",
      "total =  5 , 6 possibilités\n",
      "total =  6 , 10 possibilités\n",
      "total =  7 , 15 possibilités\n",
      "total =  8 , 21 possibilités\n",
      "total =  9 , 25 possibilités\n",
      "total =  10 , 27 possibilités\n",
      "total =  11 , 27 possibilités\n",
      "total =  12 , 25 possibilités\n",
      "total =  13 , 21 possibilités\n",
      "total =  14 , 15 possibilités\n",
      "total =  15 , 10 possibilités\n",
      "total =  16 , 6 possibilités\n",
      "total =  17 , 3 possibilités\n",
      "total =  18 , 1 possibilités\n"
     ]
    }
   ],
   "source": [
    "print('Avec 2 dés')\n",
    "for total in range(2, 13): # totaux possibles entre 2 et 12\n",
    "    n = 0\n",
    "    for i in range(1, 7):\n",
    "        j = total - i       # valeur du second dé\n",
    "        if j > 0 and j < 7: # s'assurer que c'est une valeur possible\n",
    "            n = n + 1\n",
    "    print('total = ', total, ',', n, 'possibilités')\n",
    "\n",
    "print()\n",
    "print('Avec 3 dés')\n",
    "for total in range(3, 19):\n",
    "    n = 0\n",
    "    for i in range(1, 7):\n",
    "        for j in range(1, 7):\n",
    "            k = total - i - j\n",
    "            if k > 0 and k < 7:\n",
    "                n = n + 1\n",
    "    print('total = ', total, ',', n, 'possibilités')"
   ]
  },
  {
   "cell_type": "markdown",
   "metadata": {
    "tags": [
     "nsi_enonce",
     "nsi_ex34"
    ]
   },
   "source": [
    "### Exercice 34\n",
    "\n",
    "On veut calculer la monnaie à rendre sur un paiement en euros (sans les cents). La monnaie est rendue avec des pièces de 1€ et des billets de 5€, 10€, 20€ et 50€.\n",
    "\n",
    "a) Étant donné un prix à payer et un montant reçu du client, écrire un programme qui calcule et affiche le nombre de pièces et de billets de chaque valeur à rendre.\n"
   ]
  },
  {
   "cell_type": "code",
   "execution_count": 46,
   "metadata": {
    "tags": [
     "nsi_solution",
     "nsi_ex34"
    ]
   },
   "outputs": [
    {
     "name": "stdout",
     "output_type": "stream",
     "text": [
      "2 billets de 50€\n",
      "1 billets de 20€\n",
      "1 billets de 5€\n",
      "2 pièces de 1€\n"
     ]
    }
   ],
   "source": [
    "prix = 127\n",
    "if prix // 50 > 0:\n",
    "    print(prix // 50, 'billets de 50€')\n",
    "    prix = prix % 50\n",
    "\n",
    "if prix // 20 > 0:\n",
    "    print(prix // 20, 'billets de 20€')\n",
    "    prix = prix % 20\n",
    "\n",
    "if prix // 10 > 0:\n",
    "    print(prix // 10, 'billets de 10€')\n",
    "    prix = prix % 10\n",
    "\n",
    "if prix // 5 > 0:\n",
    "    print(prix // 5, 'billets de 5€')\n",
    "    prix = prix % 5\n",
    "\n",
    "if prix > 0:\n",
    "    print(prix, 'pièces de 1€')\n"
   ]
  },
  {
   "cell_type": "markdown",
   "metadata": {
    "tags": [
     "nsi_enonce",
     "nsi_ex34"
    ]
   },
   "source": [
    "b) Le contenu de la caisse est représenté par un ensemble de variables correspondant au nombre de pièces et de billets de chaque valeur :\n",
    "\n"
   ]
  },
  {
   "cell_type": "code",
   "execution_count": 47,
   "metadata": {
    "tags": [
     "nsi_enonce",
     "nsi_ex34"
    ]
   },
   "outputs": [],
   "source": [
    "nb_1euro = 15   # nombre de pièces de 1€\n",
    "nb_5euros = 4   # nombre de billets de 5€\n",
    "nb_10euros = 12 # nombre de billets de 10€\n",
    "nb_20euros = 5  # nombre de billets de 20€\n",
    "nb_50euros = 4  # nombre de billets de 50€\n",
    "\n",
    "prix = 12       # prix à payer\n",
    "paiement = 50   # paiement du client"
   ]
  },
  {
   "cell_type": "markdown",
   "metadata": {
    "tags": [
     "nsi_enonce",
     "nsi_ex34"
    ]
   },
   "source": [
    "Modifier le programme précédent pour afficher la monnaie à rendre en fonction du contenu de la caisse et mettre à jour le contenu de la caisse.\n"
   ]
  },
  {
   "cell_type": "code",
   "execution_count": 48,
   "metadata": {
    "tags": [
     "nsi_solution",
     "nsi_ex34"
    ]
   },
   "outputs": [
    {
     "name": "stdout",
     "output_type": "stream",
     "text": [
      "1 billets de 20€\n",
      "1 billets de 10€\n",
      "1 billets de 5€\n",
      "3 pièces de 1€\n"
     ]
    }
   ],
   "source": [
    "a_rendre = paiement - prix\n",
    "\n",
    "# nombre de billets de 50\n",
    "n50 = a_rendre // 50\n",
    "if n50 > nb_50euros:\n",
    "    # ne pas utiliser plus de billets que disponible\n",
    "    n50 = nb_50euros\n",
    "if n50 > 0:\n",
    "    print(n50, 'billets de 50€')\n",
    "    a_rendre = a_rendre - n50*50\n",
    "    nb_50euros = nb_50euros - n50\n",
    "\n",
    "# nombre de billets de 20\n",
    "n20 = a_rendre // 20\n",
    "if n20 > nb_20euros:\n",
    "    # ne pas utiliser plus de billets que disponible\n",
    "    n20 = nb_20euros\n",
    "if n20 > 0:\n",
    "    print(n20, 'billets de 20€')\n",
    "    a_rendre = a_rendre - n20*20\n",
    "    nb_20euros = nb_20euros - n20\n",
    "\n",
    "# nombre de billets de 10\n",
    "n10 = a_rendre // 10\n",
    "if n10 > nb_10euros:\n",
    "    # ne pas utiliser plus de billets que disponible\n",
    "    n10 = nb_10euros\n",
    "if n10 > 0:\n",
    "    print(n10, 'billets de 10€')\n",
    "    a_rendre = a_rendre - n10*10\n",
    "    nb_10euros = nb_10euros - n10\n",
    "\n",
    "# nombre de billets de 5\n",
    "n5 = a_rendre // 5\n",
    "if n5 > nb_5euros:\n",
    "    # ne pas utiliser plus de billets que disponible\n",
    "    n5 = nb_5euros\n",
    "if n5 > 0:\n",
    "    print(n5, 'billets de 5€')\n",
    "    a_rendre = a_rendre - n5*5\n",
    "    nb_5euros = nb_5euros - n5\n",
    "\n",
    "# nombres de pièces de 1€\n",
    "n1 = a_rendre\n",
    "if n1 > nb_1euro:\n",
    "    # ne pas utiliser plus de pièces que disponible\n",
    "    n1 = nb_1euro\n",
    "if n1 > 0:    \n",
    "    print(n1, 'pièces de 1€')\n",
    "    a_rendre = a_rendre - n1\n",
    "    nb_1euro = nb_1euro - n1\n",
    "\n",
    "if a_rendre > 0: # on n'a pas pu rendre la monnaie\n",
    "    print('Pas suffisamment de monnaie !')\n",
    "    print('Il manque', a_rendre, '€')"
   ]
  },
  {
   "cell_type": "markdown",
   "metadata": {
    "tags": [
     "nsi_enonce",
     "nsi_ex34"
    ]
   },
   "source": [
    "c) Que se passe-t-il si la caisse n’a pas assez de monnaie ? Quelle solution proposez-vous ?\n"
   ]
  },
  {
   "cell_type": "markdown",
   "metadata": {
    "tags": [
     "nsi_solution",
     "nsi_ex34"
    ]
   },
   "source": [
    "S'il n'y a pas assez de monnaie, on s'en rend compte seulement à la fin.\n",
    "Il faut donc remettre l'argent dans la caisse.\n",
    "Les variables `n50`, `n20`, etc. permettent de mettre à jour la caises :"
   ]
  },
  {
   "cell_type": "code",
   "execution_count": 49,
   "metadata": {},
   "outputs": [],
   "source": [
    "if a_rendre > 0: # on n'a pas pu rendre la monnaie\n",
    "    print('Pas suffisamment de monnaie !')\n",
    "    print('Il manque', a_rendre, '€')\n",
    "    # on remet la monnaie rendue dans la caisse\n",
    "    nb_50euros = nb_50euros + n50\n",
    "    nb_20euros = nb_20euros + n20\n",
    "    nb_10euros = nb_10euros + n10\n",
    "    nb_5euros = nb_5euros + n5\n",
    "    nb_1euro = nb_1euro + a_rendre"
   ]
  },
  {
   "cell_type": "markdown",
   "metadata": {
    "tags": [
     "nsi_enonce",
     "nsi_ex34"
    ]
   },
   "source": [
    "d) *Niveau Titan :* Modifier le programme en créant la fonction suivante pour simplifier le code :\n",
    "\n"
   ]
  },
  {
   "cell_type": "markdown",
   "metadata": {
    "tags": [
     "nsi_enonce",
     "nsi_ex34"
    ]
   },
   "source": [
    "```python\n",
    "def rendre(a_rendre, valeur, nombre):\n",
    "    \"\"\" Retourne le nombre de pieces ou billets de la valeur donnée à rendre en fonction du nombre de pièces ou de billets de cette valeur dans la caisse\"\"\"\n",
    "```"
   ]
  },
  {
   "cell_type": "code",
   "execution_count": 50,
   "metadata": {
    "tags": [
     "nsi_solution",
     "nsi_ex34"
    ]
   },
   "outputs": [
    {
     "name": "stdout",
     "output_type": "stream",
     "text": [
      "1 fois 20 €\n",
      "1 fois 10 €\n",
      "1 fois 5 €\n",
      "3 fois 1 €\n"
     ]
    }
   ],
   "source": [
    "a_rendre = paiement - prix\n",
    "\n",
    "def rendre(a_rendre, valeur, nombre):\n",
    "    \"\"\" Retourne le nombre de pieces ou billets de la valeur donnée à rendre en fonction \n",
    "        du nombre de pièces ou de billets de cette valeur dans la caisse\n",
    "    \"\"\"\n",
    "    n = a_rendre // valeur\n",
    "    if n > nombre:\n",
    "        # ne pas utiliser plus de billets que disponible\n",
    "        n = nombre\n",
    "    if n > 0:\n",
    "        print(n, 'fois', valeur, '€')\n",
    "        # NOTE : on ne PEUT PAS mettre à jour `a_rendre` et `nombre` ici\n",
    "        # pour mettre à jour la caisse, car il s'agit d'un paramètre, \n",
    "        # donc changer la valeur de `nombre` ne change PAS \n",
    "        # la variable passée en paramètre (par exemple nb_50euros),\n",
    "        # et de même pour la valeur de `a_rendre` (même si elle porte\n",
    "        # le même nom que la variable globale `a_rendre`).\n",
    "    return n\n",
    "\n",
    "n50 = rendre(a_rendre, 50, nb_50euros)\n",
    "a_rendre = a_rendre - n50 * 50\n",
    "nb_50euros = nb_50euros - n50\n",
    "\n",
    "n20 = rendre(a_rendre, 20, nb_20euros)\n",
    "a_rendre = a_rendre - n20 * 20\n",
    "nb_20euros = nb_20euros - n20\n",
    "\n",
    "n10 = rendre(a_rendre, 10, nb_10euros)\n",
    "a_rendre = a_rendre - n10 * 10\n",
    "nb_10euros = nb_10euros - n10\n",
    "\n",
    "n5 = rendre(a_rendre, 5, nb_5euros)\n",
    "a_rendre = a_rendre - n5 * 5\n",
    "nb_5euros = nb_5euros - n5\n",
    "\n",
    "n1 = rendre(a_rendre, 1, nb_1euro)\n",
    "a_rendre = a_rendre - n1\n",
    "nb_1euro = nb_1euro - n1\n",
    "\n",
    "if a_rendre > 0: # on n'a pas pu rendre la monnaie\n",
    "    print('Pas suffisamment de monnaie !')\n",
    "    print('Il manque', a_rendre, '€')"
   ]
  },
  {
   "cell_type": "markdown",
   "metadata": {
    "tags": [
     "nsi_enonce",
     "nsi_ex35"
    ]
   },
   "source": [
    "### Exercice 35\n",
    "\n",
    "On veut calculer les intérêts d’un placement pendant 10 ans d’une somme de 10 000€ qui rapporte 1,5% par an.\n",
    "\n",
    "a) Écrire une fonction qui étant donné un montant et un taux annuel, retourne les intérêts cumulés au bout d’un an.\n"
   ]
  },
  {
   "cell_type": "code",
   "execution_count": 51,
   "metadata": {
    "tags": [
     "nsi_solution",
     "nsi_ex35"
    ]
   },
   "outputs": [],
   "source": [
    "def interets_annuels(montant, taux):\n",
    "    return montant * taux / 100"
   ]
  },
  {
   "cell_type": "markdown",
   "metadata": {
    "tags": [
     "nsi_enonce",
     "nsi_ex35"
    ]
   },
   "source": [
    "b) Écrire une seconde fonction qui prend en paramètres le montant initial, le taux annuel et la durée de l’investissement en années, et retourne le montant épargné à la fin de la période.\n"
   ]
  },
  {
   "cell_type": "code",
   "execution_count": 52,
   "metadata": {
    "tags": [
     "nsi_solution",
     "nsi_ex35"
    ]
   },
   "outputs": [],
   "source": [
    "def epargne(montant, taux, duree):\n",
    "    for i in range(duree):\n",
    "        montant = montant + interets_annuels(montant, taux)\n",
    "    return montant"
   ]
  },
  {
   "cell_type": "markdown",
   "metadata": {
    "tags": [
     "nsi_enonce",
     "nsi_ex35"
    ]
   },
   "source": [
    "c) Appliquer cette fonction aux données de l’exercice.\n"
   ]
  },
  {
   "cell_type": "code",
   "execution_count": 53,
   "metadata": {
    "tags": [
     "nsi_solution",
     "nsi_ex35"
    ]
   },
   "outputs": [
    {
     "name": "stdout",
     "output_type": "stream",
     "text": [
      "11605.408250251503\n"
     ]
    }
   ],
   "source": [
    "print(epargne(10000, 1.5, 10))"
   ]
  },
  {
   "cell_type": "markdown",
   "metadata": {
    "tags": [
     "nsi_enonce",
     "nsi_ex36"
    ]
   },
   "source": [
    "### Exercice 36\n",
    "\n",
    "Les programmes suivants sont-ils corrects ? Si oui qu’affichent-ils ? Sinon de quel type d’erreur s’agit-il ?"
   ]
  },
  {
   "cell_type": "code",
   "execution_count": 54,
   "metadata": {
    "tags": [
     "nsi_enonce",
     "nsi_ex36"
    ]
   },
   "outputs": [
    {
     "name": "stdout",
     "output_type": "stream",
     "text": [
      "10\n",
      "0\n"
     ]
    }
   ],
   "source": [
    "def f(a):\n",
    "    a = a * 2\n",
    "    return a\n",
    "\n",
    "print(f(5))\n",
    "print(a)"
   ]
  },
  {
   "cell_type": "code",
   "execution_count": 55,
   "metadata": {
    "tags": [
     "nsi_enonce",
     "nsi_ex36"
    ]
   },
   "outputs": [
    {
     "name": "stdout",
     "output_type": "stream",
     "text": [
      "10 100 200\n"
     ]
    }
   ],
   "source": [
    "a = 100\n",
    "\n",
    "def f(a):\n",
    "    a = a * 2\n",
    "    return a\n",
    "\n",
    "print(f(5), a, f(a))"
   ]
  },
  {
   "cell_type": "markdown",
   "metadata": {
    "tags": [
     "nsi_solution",
     "nsi_ex36"
    ]
   },
   "source": [
    "L'instruction `print(a)` dans le premier programme est incorrecte car `a` n'est pas définie.\n",
    "\n",
    "Le second programme est correct et affiche 10, 100, 200."
   ]
  },
  {
   "cell_type": "markdown",
   "metadata": {
    "tags": [
     "nsi_enonce",
     "nsi_ex37"
    ]
   },
   "source": [
    "### Exercice 37\n",
    "\n",
    "a) On veut calculer la somme des inverses des carrés des *n* premiers entiers. Le programme suivant est-il correct ? Sinon indiquer les types d’erreurs et les corriger."
   ]
  },
  {
   "cell_type": "code",
   "execution_count": 56,
   "metadata": {
    "tags": [
     "nsi_enonce",
     "nsi_ex37"
    ]
   },
   "outputs": [
    {
     "ename": "SyntaxError",
     "evalue": "invalid syntax (<ipython-input-56-33d9ba329f1c>, line 1)",
     "output_type": "error",
     "traceback": [
      "\u001b[0;36m  File \u001b[0;32m\"<ipython-input-56-33d9ba329f1c>\"\u001b[0;36m, line \u001b[0;32m1\u001b[0m\n\u001b[0;31m    def somme_inv_carres(n)\u001b[0m\n\u001b[0m                           ^\u001b[0m\n\u001b[0;31mSyntaxError\u001b[0m\u001b[0;31m:\u001b[0m invalid syntax\n"
     ]
    }
   ],
   "source": [
    "def somme_inv_carres(n)\n",
    "    s = 0\n",
    "    for i in range(n)\n",
    "        s = s + 1/i*i\n",
    "    return"
   ]
  },
  {
   "cell_type": "markdown",
   "metadata": {},
   "source": [
    "Erreurs de syntaxe : Il manque `:` à la fin de la première ligne et à la fin de la ligne `for i`.\n",
    "\n",
    "Erreur de logique : L'expression `1/i*i` vaut toujours 1 car `\\` et `*` ont la même priorité et dont elle est interprétée de gauche à droite : `(1*i)/i`.\n",
    "\n",
    "Erreur de logique : La dernière ligne ne retourne pas de valeur.\n",
    "\n",
    "Erreur d'exécution : on calcule `1/i` pour `i` valant 0, et provoque une division par zéro."
   ]
  },
  {
   "cell_type": "markdown",
   "metadata": {
    "tags": [
     "nsi_enonce",
     "nsi_ex37"
    ]
   },
   "source": [
    "b) Vérifier, une fois le programme corrigé, que pour de grandes valeurs de *n*, le résultat s’approche de π<sup>2</sup>/6.\n"
   ]
  },
  {
   "cell_type": "code",
   "execution_count": null,
   "metadata": {
    "tags": [
     "nsi_solution",
     "nsi_ex37"
    ]
   },
   "outputs": [],
   "source": [
    "def somme_inv_carres(n):\n",
    "    s = 0\n",
    "    for i in range(1, n+1):\n",
    "        s = s + 1/(i*i)\n",
    "    return s\n",
    "\n",
    "# On définit une fonction pour comparer le résultat\n",
    "# de la somme des inverses des carrés à π*π/6\n",
    "from math import pi\n",
    "def comparer(n):\n",
    "    s = somme_inv_carres(n)\n",
    "    v = pi*pi/6\n",
    "    print(s, v, s - v)\n",
    "\n",
    "comparer(100)\n",
    "comparer(10000)\n",
    "comparer(1000000)"
   ]
  },
  {
   "cell_type": "markdown",
   "metadata": {
    "tags": [
     "nsi_enonce",
     "nsi_ex38"
    ]
   },
   "source": [
    "### Exercice 38\n",
    "\n",
    "On veut compter le nombre de fois qu’une fonction est appelée.\n",
    "\n",
    "a) Compléter le programme ci-dessous avec une variable globale `compteur` pour afficher le nombre de fois que la fonction `f` est appelée.\n",
    "\n"
   ]
  },
  {
   "cell_type": "markdown",
   "metadata": {
    "tags": [
     "nsi_enonce",
     "nsi_ex38"
    ]
   },
   "source": [
    "```python\n",
    "def f(n):\n",
    "    print(n)\n",
    "\n",
    "for i in range(100):\n",
    "    if random() < 0.5:\n",
    "        f(i)\n",
    "```"
   ]
  },
  {
   "cell_type": "code",
   "execution_count": null,
   "metadata": {
    "tags": [
     "nsi_solution",
     "nsi_ex38"
    ]
   },
   "outputs": [],
   "source": [
    "compteur = 0\n",
    "\n",
    "def f(n):\n",
    "    global compteur # ne pas oublier !!\n",
    "    compteur = compteur + 1\n",
    "    print(n)\n",
    "\n",
    "for i in range(100):\n",
    "    if random() < 0.5:\n",
    "        f(i)\n",
    "\n",
    "print('compteur =', compteur)"
   ]
  },
  {
   "cell_type": "markdown",
   "metadata": {
    "tags": [
     "nsi_enonce",
     "nsi_ex38"
    ]
   },
   "source": [
    "b) Compléter le programme pour pouvoir calculer et afficher la valeur moyenne du paramètre `n` passé à la fonction `f`.\n"
   ]
  },
  {
   "cell_type": "code",
   "execution_count": null,
   "metadata": {
    "tags": [
     "nsi_solution",
     "nsi_ex38"
    ]
   },
   "outputs": [],
   "source": [
    "compteur = 0\n",
    "total = 0\n",
    "\n",
    "def f(n):\n",
    "    global compteur, total # ne pas oublier !!\n",
    "    compteur = compteur + 1\n",
    "    total = total + n\n",
    "    print(n)\n",
    "\n",
    "for i in range(100):\n",
    "    if random() < 0.5:\n",
    "        f(i)\n",
    "\n",
    "print('compteur =', compteur)\n",
    "if compteur > 0:\n",
    "    print('moyenne =', total/compteur)"
   ]
  },
  {
   "cell_type": "markdown",
   "metadata": {
    "tags": [
     "nsi_enonce",
     "nsi_ex38"
    ]
   },
   "source": [
    "c) Ajouter une fonction qui remet à zéro le compteur et la moyenne.\n"
   ]
  },
  {
   "cell_type": "code",
   "execution_count": null,
   "metadata": {
    "tags": [
     "nsi_solution",
     "nsi_ex38"
    ]
   },
   "outputs": [],
   "source": [
    "def raz():\n",
    "    global compteur, total\n",
    "    compteur = 0\n",
    "    total = 0\n",
    "\n",
    "raz()"
   ]
  }
 ],
 "metadata": {
  "kernelspec": {
   "display_name": "Python 3",
   "language": "python",
   "name": "python3"
  },
  "language_info": {
   "codemirror_mode": {
    "name": "ipython",
    "version": 3
   },
   "file_extension": ".py",
   "mimetype": "text/x-python",
   "name": "python",
   "nbconvert_exporter": "python",
   "pygments_lexer": "ipython3",
   "version": "3.8.8"
  }
 },
 "nbformat": 4,
 "nbformat_minor": 4
}
